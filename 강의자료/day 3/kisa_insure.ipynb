{
  "nbformat": 4,
  "nbformat_minor": 0,
  "metadata": {
    "colab": {
      "name": "kisa_insure.ipynb",
      "provenance": [],
      "collapsed_sections": [],
      "toc_visible": true,
      "mount_file_id": "1MjVcO-f7qgJMxMUDQAHT0PlWu-LSxPfM",
      "authorship_tag": "ABX9TyPofqY4h9g4QnTkGTvLNTFr",
      "include_colab_link": true
    },
    "kernelspec": {
      "name": "python3",
      "display_name": "Python 3"
    }
  },
  "cells": [
    {
      "cell_type": "markdown",
      "metadata": {
        "id": "view-in-github",
        "colab_type": "text"
      },
      "source": [
        "<a href=\"https://colab.research.google.com/github/Rekt77/kisa_insuretech/blob/master/kisa_insure.ipynb\" target=\"_parent\"><img src=\"https://colab.research.google.com/assets/colab-badge.svg\" alt=\"Open In Colab\"/></a>"
      ]
    },
    {
      "cell_type": "code",
      "metadata": {
        "id": "rb_TdjTUfcAI",
        "colab_type": "code",
        "colab": {}
      },
      "source": [
        "%matplotlib inline\n",
        "import pandas as pd\n",
        "import numpy as np\n",
        "from scipy import stats\n",
        "import matplotlib.pyplot as plt\n",
        "import seaborn as sns\n",
        "import json\n",
        "from pandas.io.json import json_normalize\n",
        "from wordcloud import WordCloud, STOPWORDS"
      ],
      "execution_count": 0,
      "outputs": []
    },
    {
      "cell_type": "code",
      "metadata": {
        "id": "rzbYsQC_ezj_",
        "colab_type": "code",
        "colab": {}
      },
      "source": [
        "df = pd.read_excel(\"/content/drive/My Drive/insuretech/insurance/kisa_insurance.xlsx\")"
      ],
      "execution_count": 0,
      "outputs": []
    },
    {
      "cell_type": "code",
      "metadata": {
        "id": "ZiSCA7hce_if",
        "colab_type": "code",
        "outputId": "2d301993-76aa-4e0e-c6e9-a4105f3806a5",
        "colab": {
          "base_uri": "https://localhost:8080/",
          "height": 340
        }
      },
      "source": [
        "new_columns = ['c_idx','s_idx','sex','age','occupation','middle_div','small_div','sub_div','city','district','ins_cat','ins_name','gar_name','long_gar_cat','sp_term']\n",
        "df.columns = new_columns\n",
        "df.head()"
      ],
      "execution_count": 337,
      "outputs": [
        {
          "output_type": "execute_result",
          "data": {
            "text/html": [
              "<div>\n",
              "<style scoped>\n",
              "    .dataframe tbody tr th:only-of-type {\n",
              "        vertical-align: middle;\n",
              "    }\n",
              "\n",
              "    .dataframe tbody tr th {\n",
              "        vertical-align: top;\n",
              "    }\n",
              "\n",
              "    .dataframe thead th {\n",
              "        text-align: right;\n",
              "    }\n",
              "</style>\n",
              "<table border=\"1\" class=\"dataframe\">\n",
              "  <thead>\n",
              "    <tr style=\"text-align: right;\">\n",
              "      <th></th>\n",
              "      <th>c_idx</th>\n",
              "      <th>s_idx</th>\n",
              "      <th>sex</th>\n",
              "      <th>age</th>\n",
              "      <th>occupation</th>\n",
              "      <th>middle_div</th>\n",
              "      <th>small_div</th>\n",
              "      <th>sub_div</th>\n",
              "      <th>city</th>\n",
              "      <th>district</th>\n",
              "      <th>ins_cat</th>\n",
              "      <th>ins_name</th>\n",
              "      <th>gar_name</th>\n",
              "      <th>long_gar_cat</th>\n",
              "      <th>sp_term</th>\n",
              "    </tr>\n",
              "  </thead>\n",
              "  <tbody>\n",
              "    <tr>\n",
              "      <th>0</th>\n",
              "      <td>2</td>\n",
              "      <td>26394</td>\n",
              "      <td>여자</td>\n",
              "      <td>21</td>\n",
              "      <td>주부, 학생 및 기타 비경제활동인구</td>\n",
              "      <td>고등학생 및 주부, 무직</td>\n",
              "      <td>고등학생</td>\n",
              "      <td>고등학생</td>\n",
              "      <td>서울</td>\n",
              "      <td>노원구</td>\n",
              "      <td>장기/운전자</td>\n",
              "      <td>무배당 프로미라이프 참좋은운전자+보험1908</td>\n",
              "      <td>상해</td>\n",
              "      <td>상해후유장해</td>\n",
              "      <td>교통상해50%이상후유장해(1회한)</td>\n",
              "    </tr>\n",
              "    <tr>\n",
              "      <th>1</th>\n",
              "      <td>2</td>\n",
              "      <td>26394</td>\n",
              "      <td>여자</td>\n",
              "      <td>21</td>\n",
              "      <td>주부, 학생 및 기타 비경제활동인구</td>\n",
              "      <td>고등학생 및 주부, 무직</td>\n",
              "      <td>고등학생</td>\n",
              "      <td>고등학생</td>\n",
              "      <td>서울</td>\n",
              "      <td>노원구</td>\n",
              "      <td>장기/운전자</td>\n",
              "      <td>무배당 프로미라이프 참좋은운전자+보험1908</td>\n",
              "      <td>기타/인</td>\n",
              "      <td>비용기타</td>\n",
              "      <td>행정소송법률비용손해(실손)</td>\n",
              "    </tr>\n",
              "    <tr>\n",
              "      <th>2</th>\n",
              "      <td>2</td>\n",
              "      <td>26394</td>\n",
              "      <td>여자</td>\n",
              "      <td>21</td>\n",
              "      <td>주부, 학생 및 기타 비경제활동인구</td>\n",
              "      <td>고등학생 및 주부, 무직</td>\n",
              "      <td>고등학생</td>\n",
              "      <td>고등학생</td>\n",
              "      <td>서울</td>\n",
              "      <td>노원구</td>\n",
              "      <td>장기/운전자</td>\n",
              "      <td>무배당 프로미라이프 참좋은운전자+보험1908</td>\n",
              "      <td>상해</td>\n",
              "      <td>상해사망·후유장해</td>\n",
              "      <td>상해사망</td>\n",
              "    </tr>\n",
              "    <tr>\n",
              "      <th>3</th>\n",
              "      <td>2</td>\n",
              "      <td>26394</td>\n",
              "      <td>여자</td>\n",
              "      <td>21</td>\n",
              "      <td>주부, 학생 및 기타 비경제활동인구</td>\n",
              "      <td>고등학생 및 주부, 무직</td>\n",
              "      <td>고등학생</td>\n",
              "      <td>고등학생</td>\n",
              "      <td>서울</td>\n",
              "      <td>노원구</td>\n",
              "      <td>장기/운전자</td>\n",
              "      <td>무배당 프로미라이프 참좋은운전자+보험1908</td>\n",
              "      <td>상해</td>\n",
              "      <td>상해사망·후유장해</td>\n",
              "      <td>교통상해사망</td>\n",
              "    </tr>\n",
              "    <tr>\n",
              "      <th>4</th>\n",
              "      <td>2</td>\n",
              "      <td>26394</td>\n",
              "      <td>여자</td>\n",
              "      <td>21</td>\n",
              "      <td>주부, 학생 및 기타 비경제활동인구</td>\n",
              "      <td>고등학생 및 주부, 무직</td>\n",
              "      <td>고등학생</td>\n",
              "      <td>고등학생</td>\n",
              "      <td>서울</td>\n",
              "      <td>노원구</td>\n",
              "      <td>장기/운전자</td>\n",
              "      <td>무배당 프로미라이프 참좋은운전자+보험1908</td>\n",
              "      <td>기타/인</td>\n",
              "      <td>비용기타</td>\n",
              "      <td>법률비용손해(실손)</td>\n",
              "    </tr>\n",
              "  </tbody>\n",
              "</table>\n",
              "</div>"
            ],
            "text/plain": [
              "   c_idx  s_idx sex  ...  gar_name long_gar_cat             sp_term\n",
              "0      2  26394  여자  ...        상해       상해후유장해  교통상해50%이상후유장해(1회한)\n",
              "1      2  26394  여자  ...      기타/인         비용기타      행정소송법률비용손해(실손)\n",
              "2      2  26394  여자  ...        상해    상해사망·후유장해                상해사망\n",
              "3      2  26394  여자  ...        상해    상해사망·후유장해              교통상해사망\n",
              "4      2  26394  여자  ...      기타/인         비용기타          법률비용손해(실손)\n",
              "\n",
              "[5 rows x 15 columns]"
            ]
          },
          "metadata": {
            "tags": []
          },
          "execution_count": 337
        }
      ]
    },
    {
      "cell_type": "code",
      "metadata": {
        "id": "lZGugWIyfaF7",
        "colab_type": "code",
        "outputId": "98218c6b-cf2b-4abc-f1dd-770ec6467cbb",
        "colab": {
          "base_uri": "https://localhost:8080/",
          "height": 391
        }
      },
      "source": [
        "# 데이터의 값을 확인\n",
        "df.info()"
      ],
      "execution_count": 338,
      "outputs": [
        {
          "output_type": "stream",
          "text": [
            "<class 'pandas.core.frame.DataFrame'>\n",
            "RangeIndex: 103234 entries, 0 to 103233\n",
            "Data columns (total 15 columns):\n",
            " #   Column        Non-Null Count   Dtype \n",
            "---  ------        --------------   ----- \n",
            " 0   c_idx         103234 non-null  int64 \n",
            " 1   s_idx         103234 non-null  int64 \n",
            " 2   sex           103234 non-null  object\n",
            " 3   age           103234 non-null  int64 \n",
            " 4   occupation    103234 non-null  object\n",
            " 5   middle_div    103234 non-null  object\n",
            " 6   small_div     103234 non-null  object\n",
            " 7   sub_div       103234 non-null  object\n",
            " 8   city          103234 non-null  object\n",
            " 9   district      103234 non-null  object\n",
            " 10  ins_cat       103234 non-null  object\n",
            " 11  ins_name      103234 non-null  object\n",
            " 12  gar_name      101472 non-null  object\n",
            " 13  long_gar_cat  103234 non-null  object\n",
            " 14  sp_term       103234 non-null  object\n",
            "dtypes: int64(3), object(12)\n",
            "memory usage: 11.8+ MB\n"
          ],
          "name": "stdout"
        }
      ]
    },
    {
      "cell_type": "code",
      "metadata": {
        "id": "vFoy0cFUoMel",
        "colab_type": "code",
        "colab": {}
      },
      "source": [
        "from collections import Counter\n",
        "\n",
        "# occupation,age,sex를 추출\n",
        "pop_job = df.loc[:,[\"occupation\",\"age\",\"sex\"]]\n",
        "\n",
        "# Counter에 occupation의 값 넣고 값 확인\n",
        "# 직업별 출현횟수 딕셔너리로 리턴\n",
        "# 단어:출현횟수\n",
        "job_freq = Counter(pop_job[\"occupation\"])\n",
        "\n",
        "# 직업별 출현횟수를 키로 job_map을 제작\n",
        "job_map = {k:i for i,k in enumerate(job_freq.keys())}\n",
        "\n",
        "# 숫자로 치환된 직업 데이터가 저장된 oocupation_mapped를 생성\n",
        "pop_job[\"occupation_mapped\"] = pop_job[\"occupation\"].replace(job_map)\n",
        "\n",
        "# pop_job을 occupation_mapped를 기준으로 그루핑(인덱스화 x)\n",
        "# count를 하면 직업(숫자)별 사람 수를 매핑 가능 ㄱ\n",
        "pop_job_counts = pop_job.groupby(\"occupation_mapped\",as_index=False).count().sort_values(\"occupation\",ascending=False)\n"
      ],
      "execution_count": 0,
      "outputs": []
    },
    {
      "cell_type": "markdown",
      "metadata": {
        "id": "Jc-mQWc0qD4f",
        "colab_type": "text"
      },
      "source": [
        "# 1.Feature\n",
        " - long_gar_cat&sp_term\n",
        "  - 보험 가입 시 증권번호가 생성되고 고객번호랑은 별개\n",
        "  - 같은 고객이 여러개의 보험을 가입했을 경우가 있으므로 증권번호를 기준으로 데이터를 정제\n",
        "  - 증권번호별 보험당 특약개수를 종합\n",
        "  - long_gar & sp_term == drop\n",
        "\n",
        " - SEX\n",
        "   - 남자 : 0\n",
        "   - 여자 : 1\n"
      ]
    },
    {
      "cell_type": "code",
      "metadata": {
        "id": "g7nwYKqteycf",
        "colab_type": "code",
        "colab": {
          "base_uri": "https://localhost:8080/",
          "height": 306
        },
        "outputId": "519585a4-8238-453b-d338-1078795d1191"
      },
      "source": [
        "pop_col = [\"c_idx\",\"s_idx\",\"sex\",\"age\",\"occupation\",\"district\",\"ins_cat\",\"ins_name\",\"gar_name\"]\n",
        "pop_df = df[pop_col]\n",
        "\n",
        "# 증권 번호를 불러와서 중복된 것들을 전부제거\n",
        "# 각 데이터당 1개의 고유값만 남음\n",
        "sidxs = df[\"s_idx\"].drop_duplicates()\n",
        "\n",
        "# 중복되지 않은 증권번호를 이터레이팅\n",
        "for sidx in sidxs:\n",
        "  # row중에 sidx와 s_idx가 같은것을 고르고 그중에 gar_name에,\n",
        "  # df[\"s_idx\"]==sidx 마스크를 만족하는 row가 몇개인지 카운팅하여 삽입\n",
        "  pop_df.loc[df[\"s_idx\"]==sidx,\"gar_name\"] = int(len(pop_df[pop_df[\"s_idx\"]==sidx]))\n",
        "\n",
        "# 중복된 행을 전부제거하고 고유 행만 남김\n",
        "pop_df = pop_df.drop_duplicates()\n",
        "pop_df.head()"
      ],
      "execution_count": 340,
      "outputs": [
        {
          "output_type": "stream",
          "text": [
            "/usr/local/lib/python3.6/dist-packages/pandas/core/indexing.py:966: SettingWithCopyWarning: \n",
            "A value is trying to be set on a copy of a slice from a DataFrame.\n",
            "Try using .loc[row_indexer,col_indexer] = value instead\n",
            "\n",
            "See the caveats in the documentation: https://pandas.pydata.org/pandas-docs/stable/user_guide/indexing.html#returning-a-view-versus-a-copy\n",
            "  self.obj[item] = s\n"
          ],
          "name": "stderr"
        },
        {
          "output_type": "execute_result",
          "data": {
            "text/html": [
              "<div>\n",
              "<style scoped>\n",
              "    .dataframe tbody tr th:only-of-type {\n",
              "        vertical-align: middle;\n",
              "    }\n",
              "\n",
              "    .dataframe tbody tr th {\n",
              "        vertical-align: top;\n",
              "    }\n",
              "\n",
              "    .dataframe thead th {\n",
              "        text-align: right;\n",
              "    }\n",
              "</style>\n",
              "<table border=\"1\" class=\"dataframe\">\n",
              "  <thead>\n",
              "    <tr style=\"text-align: right;\">\n",
              "      <th></th>\n",
              "      <th>c_idx</th>\n",
              "      <th>s_idx</th>\n",
              "      <th>sex</th>\n",
              "      <th>age</th>\n",
              "      <th>occupation</th>\n",
              "      <th>district</th>\n",
              "      <th>ins_cat</th>\n",
              "      <th>ins_name</th>\n",
              "      <th>gar_name</th>\n",
              "    </tr>\n",
              "  </thead>\n",
              "  <tbody>\n",
              "    <tr>\n",
              "      <th>0</th>\n",
              "      <td>2</td>\n",
              "      <td>26394</td>\n",
              "      <td>여자</td>\n",
              "      <td>21</td>\n",
              "      <td>주부, 학생 및 기타 비경제활동인구</td>\n",
              "      <td>노원구</td>\n",
              "      <td>장기/운전자</td>\n",
              "      <td>무배당 프로미라이프 참좋은운전자+보험1908</td>\n",
              "      <td>6</td>\n",
              "    </tr>\n",
              "    <tr>\n",
              "      <th>6</th>\n",
              "      <td>4</td>\n",
              "      <td>20024</td>\n",
              "      <td>남자</td>\n",
              "      <td>21</td>\n",
              "      <td>주부, 학생 및 기타 비경제활동인구</td>\n",
              "      <td>도봉구</td>\n",
              "      <td>장기/질병</td>\n",
              "      <td>무배당 프로미라이프 참좋은치아사랑보험1904</td>\n",
              "      <td>7</td>\n",
              "    </tr>\n",
              "    <tr>\n",
              "      <th>13</th>\n",
              "      <td>8</td>\n",
              "      <td>27841</td>\n",
              "      <td>남자</td>\n",
              "      <td>21</td>\n",
              "      <td>주부, 학생 및 기타 비경제활동인구</td>\n",
              "      <td>동대문구</td>\n",
              "      <td>장기/질병</td>\n",
              "      <td>무배당 프로미라이프 참좋은행복플러스+종합보험1911</td>\n",
              "      <td>24</td>\n",
              "    </tr>\n",
              "    <tr>\n",
              "      <th>37</th>\n",
              "      <td>15</td>\n",
              "      <td>16512</td>\n",
              "      <td>남자</td>\n",
              "      <td>20</td>\n",
              "      <td>주부, 학생 및 기타 비경제활동인구</td>\n",
              "      <td>금천구</td>\n",
              "      <td>장기/운전자</td>\n",
              "      <td>무배당 프로미라이프 참좋은운전자+보험1908</td>\n",
              "      <td>10</td>\n",
              "    </tr>\n",
              "    <tr>\n",
              "      <th>47</th>\n",
              "      <td>21</td>\n",
              "      <td>27840</td>\n",
              "      <td>여자</td>\n",
              "      <td>18</td>\n",
              "      <td>주부, 학생 및 기타 비경제활동인구</td>\n",
              "      <td>동대문구</td>\n",
              "      <td>장기/상해</td>\n",
              "      <td>무배당 프로미라이프 아이(I)러브(LOVE)건강보험2001</td>\n",
              "      <td>23</td>\n",
              "    </tr>\n",
              "  </tbody>\n",
              "</table>\n",
              "</div>"
            ],
            "text/plain": [
              "    c_idx  s_idx sex  ...  ins_cat                          ins_name gar_name\n",
              "0       2  26394  여자  ...   장기/운전자          무배당 프로미라이프 참좋은운전자+보험1908        6\n",
              "6       4  20024  남자  ...    장기/질병          무배당 프로미라이프 참좋은치아사랑보험1904        7\n",
              "13      8  27841  남자  ...    장기/질병      무배당 프로미라이프 참좋은행복플러스+종합보험1911       24\n",
              "37     15  16512  남자  ...   장기/운전자          무배당 프로미라이프 참좋은운전자+보험1908       10\n",
              "47     21  27840  여자  ...    장기/상해  무배당 프로미라이프 아이(I)러브(LOVE)건강보험2001       23\n",
              "\n",
              "[5 rows x 9 columns]"
            ]
          },
          "metadata": {
            "tags": []
          },
          "execution_count": 340
        }
      ]
    },
    {
      "cell_type": "code",
      "metadata": {
        "id": "_6EtKL2thHeQ",
        "colab_type": "code",
        "colab": {
          "base_uri": "https://localhost:8080/",
          "height": 496
        },
        "outputId": "4686f992-66bb-4256-9181-54aef2b12879"
      },
      "source": [
        "# 고객 한명이 최대 몇개의 보험을 들었는지\n",
        "pivot = pd.crosstab(pop_df[\"c_idx\"],pop_df[\"s_idx\"]).sum(axis=1).sort_values(ascending=False)\n",
        "\n",
        "pivot.value_counts().plot(kind='bar',\n",
        "            stacked=True,\n",
        "            colormap='rainbow',\n",
        "            figsize=(12,8)).legend(loc='center left',\n",
        "                                   bbox_to_anchor=(1, 0.5))"
      ],
      "execution_count": 341,
      "outputs": [
        {
          "output_type": "execute_result",
          "data": {
            "text/plain": [
              "<matplotlib.legend.Legend at 0x7f84e9068940>"
            ]
          },
          "metadata": {
            "tags": []
          },
          "execution_count": 341
        },
        {
          "output_type": "display_data",
          "data": {
            "image/png": "[encoded data removed]",
            "text/plain": [
              "<Figure size 864x576 with 1 Axes>"
            ]
          },
          "metadata": {
            "tags": [],
            "needs_background": "light"
          }
        }
      ]
    },
    {
      "cell_type": "code",
      "metadata": {
        "id": "_oNoCTbMewwY",
        "colab_type": "code",
        "colab": {
          "base_uri": "https://localhost:8080/",
          "height": 204
        },
        "outputId": "edf364ef-1538-48f8-db1f-42b7f5efb5a6"
      },
      "source": [
        "# column name 변경\n",
        "pop_df.columns = [\"c_idx\",\"s_idx\",\"sex\",\"age\",\"occupation\",\"gis\",\"ins_cat\",\"ins_name\",\"gar_count\"]\n",
        "pop_df.head()"
      ],
      "execution_count": 342,
      "outputs": [
        {
          "output_type": "execute_result",
          "data": {
            "text/html": [
              "<div>\n",
              "<style scoped>\n",
              "    .dataframe tbody tr th:only-of-type {\n",
              "        vertical-align: middle;\n",
              "    }\n",
              "\n",
              "    .dataframe tbody tr th {\n",
              "        vertical-align: top;\n",
              "    }\n",
              "\n",
              "    .dataframe thead th {\n",
              "        text-align: right;\n",
              "    }\n",
              "</style>\n",
              "<table border=\"1\" class=\"dataframe\">\n",
              "  <thead>\n",
              "    <tr style=\"text-align: right;\">\n",
              "      <th></th>\n",
              "      <th>c_idx</th>\n",
              "      <th>s_idx</th>\n",
              "      <th>sex</th>\n",
              "      <th>age</th>\n",
              "      <th>occupation</th>\n",
              "      <th>gis</th>\n",
              "      <th>ins_cat</th>\n",
              "      <th>ins_name</th>\n",
              "      <th>gar_count</th>\n",
              "    </tr>\n",
              "  </thead>\n",
              "  <tbody>\n",
              "    <tr>\n",
              "      <th>0</th>\n",
              "      <td>2</td>\n",
              "      <td>26394</td>\n",
              "      <td>여자</td>\n",
              "      <td>21</td>\n",
              "      <td>주부, 학생 및 기타 비경제활동인구</td>\n",
              "      <td>노원구</td>\n",
              "      <td>장기/운전자</td>\n",
              "      <td>무배당 프로미라이프 참좋은운전자+보험1908</td>\n",
              "      <td>6</td>\n",
              "    </tr>\n",
              "    <tr>\n",
              "      <th>6</th>\n",
              "      <td>4</td>\n",
              "      <td>20024</td>\n",
              "      <td>남자</td>\n",
              "      <td>21</td>\n",
              "      <td>주부, 학생 및 기타 비경제활동인구</td>\n",
              "      <td>도봉구</td>\n",
              "      <td>장기/질병</td>\n",
              "      <td>무배당 프로미라이프 참좋은치아사랑보험1904</td>\n",
              "      <td>7</td>\n",
              "    </tr>\n",
              "    <tr>\n",
              "      <th>13</th>\n",
              "      <td>8</td>\n",
              "      <td>27841</td>\n",
              "      <td>남자</td>\n",
              "      <td>21</td>\n",
              "      <td>주부, 학생 및 기타 비경제활동인구</td>\n",
              "      <td>동대문구</td>\n",
              "      <td>장기/질병</td>\n",
              "      <td>무배당 프로미라이프 참좋은행복플러스+종합보험1911</td>\n",
              "      <td>24</td>\n",
              "    </tr>\n",
              "    <tr>\n",
              "      <th>37</th>\n",
              "      <td>15</td>\n",
              "      <td>16512</td>\n",
              "      <td>남자</td>\n",
              "      <td>20</td>\n",
              "      <td>주부, 학생 및 기타 비경제활동인구</td>\n",
              "      <td>금천구</td>\n",
              "      <td>장기/운전자</td>\n",
              "      <td>무배당 프로미라이프 참좋은운전자+보험1908</td>\n",
              "      <td>10</td>\n",
              "    </tr>\n",
              "    <tr>\n",
              "      <th>47</th>\n",
              "      <td>21</td>\n",
              "      <td>27840</td>\n",
              "      <td>여자</td>\n",
              "      <td>18</td>\n",
              "      <td>주부, 학생 및 기타 비경제활동인구</td>\n",
              "      <td>동대문구</td>\n",
              "      <td>장기/상해</td>\n",
              "      <td>무배당 프로미라이프 아이(I)러브(LOVE)건강보험2001</td>\n",
              "      <td>23</td>\n",
              "    </tr>\n",
              "  </tbody>\n",
              "</table>\n",
              "</div>"
            ],
            "text/plain": [
              "    c_idx  s_idx sex  ...  ins_cat                          ins_name gar_count\n",
              "0       2  26394  여자  ...   장기/운전자          무배당 프로미라이프 참좋은운전자+보험1908         6\n",
              "6       4  20024  남자  ...    장기/질병          무배당 프로미라이프 참좋은치아사랑보험1904         7\n",
              "13      8  27841  남자  ...    장기/질병      무배당 프로미라이프 참좋은행복플러스+종합보험1911        24\n",
              "37     15  16512  남자  ...   장기/운전자          무배당 프로미라이프 참좋은운전자+보험1908        10\n",
              "47     21  27840  여자  ...    장기/상해  무배당 프로미라이프 아이(I)러브(LOVE)건강보험2001        23\n",
              "\n",
              "[5 rows x 9 columns]"
            ]
          },
          "metadata": {
            "tags": []
          },
          "execution_count": 342
        }
      ]
    },
    {
      "cell_type": "code",
      "metadata": {
        "id": "nH8vvK0jiIz0",
        "colab_type": "code",
        "outputId": "bd33cc72-1a92-4724-bacc-d9d7d5df38b5",
        "colab": {
          "base_uri": "https://localhost:8080/",
          "height": 204
        }
      },
      "source": [
        "sex_map = {\"남자\":0,\"여자\":1}\n",
        "\n",
        "pop_df[\"sex\"] = pop_df[\"sex\"].replace(sex_map)\n",
        "pop_df.head()"
      ],
      "execution_count": 343,
      "outputs": [
        {
          "output_type": "execute_result",
          "data": {
            "text/html": [
              "<div>\n",
              "<style scoped>\n",
              "    .dataframe tbody tr th:only-of-type {\n",
              "        vertical-align: middle;\n",
              "    }\n",
              "\n",
              "    .dataframe tbody tr th {\n",
              "        vertical-align: top;\n",
              "    }\n",
              "\n",
              "    .dataframe thead th {\n",
              "        text-align: right;\n",
              "    }\n",
              "</style>\n",
              "<table border=\"1\" class=\"dataframe\">\n",
              "  <thead>\n",
              "    <tr style=\"text-align: right;\">\n",
              "      <th></th>\n",
              "      <th>c_idx</th>\n",
              "      <th>s_idx</th>\n",
              "      <th>sex</th>\n",
              "      <th>age</th>\n",
              "      <th>occupation</th>\n",
              "      <th>gis</th>\n",
              "      <th>ins_cat</th>\n",
              "      <th>ins_name</th>\n",
              "      <th>gar_count</th>\n",
              "    </tr>\n",
              "  </thead>\n",
              "  <tbody>\n",
              "    <tr>\n",
              "      <th>0</th>\n",
              "      <td>2</td>\n",
              "      <td>26394</td>\n",
              "      <td>1</td>\n",
              "      <td>21</td>\n",
              "      <td>주부, 학생 및 기타 비경제활동인구</td>\n",
              "      <td>노원구</td>\n",
              "      <td>장기/운전자</td>\n",
              "      <td>무배당 프로미라이프 참좋은운전자+보험1908</td>\n",
              "      <td>6</td>\n",
              "    </tr>\n",
              "    <tr>\n",
              "      <th>6</th>\n",
              "      <td>4</td>\n",
              "      <td>20024</td>\n",
              "      <td>0</td>\n",
              "      <td>21</td>\n",
              "      <td>주부, 학생 및 기타 비경제활동인구</td>\n",
              "      <td>도봉구</td>\n",
              "      <td>장기/질병</td>\n",
              "      <td>무배당 프로미라이프 참좋은치아사랑보험1904</td>\n",
              "      <td>7</td>\n",
              "    </tr>\n",
              "    <tr>\n",
              "      <th>13</th>\n",
              "      <td>8</td>\n",
              "      <td>27841</td>\n",
              "      <td>0</td>\n",
              "      <td>21</td>\n",
              "      <td>주부, 학생 및 기타 비경제활동인구</td>\n",
              "      <td>동대문구</td>\n",
              "      <td>장기/질병</td>\n",
              "      <td>무배당 프로미라이프 참좋은행복플러스+종합보험1911</td>\n",
              "      <td>24</td>\n",
              "    </tr>\n",
              "    <tr>\n",
              "      <th>37</th>\n",
              "      <td>15</td>\n",
              "      <td>16512</td>\n",
              "      <td>0</td>\n",
              "      <td>20</td>\n",
              "      <td>주부, 학생 및 기타 비경제활동인구</td>\n",
              "      <td>금천구</td>\n",
              "      <td>장기/운전자</td>\n",
              "      <td>무배당 프로미라이프 참좋은운전자+보험1908</td>\n",
              "      <td>10</td>\n",
              "    </tr>\n",
              "    <tr>\n",
              "      <th>47</th>\n",
              "      <td>21</td>\n",
              "      <td>27840</td>\n",
              "      <td>1</td>\n",
              "      <td>18</td>\n",
              "      <td>주부, 학생 및 기타 비경제활동인구</td>\n",
              "      <td>동대문구</td>\n",
              "      <td>장기/상해</td>\n",
              "      <td>무배당 프로미라이프 아이(I)러브(LOVE)건강보험2001</td>\n",
              "      <td>23</td>\n",
              "    </tr>\n",
              "  </tbody>\n",
              "</table>\n",
              "</div>"
            ],
            "text/plain": [
              "    c_idx  s_idx  sex  ...  ins_cat                          ins_name gar_count\n",
              "0       2  26394    1  ...   장기/운전자          무배당 프로미라이프 참좋은운전자+보험1908         6\n",
              "6       4  20024    0  ...    장기/질병          무배당 프로미라이프 참좋은치아사랑보험1904         7\n",
              "13      8  27841    0  ...    장기/질병      무배당 프로미라이프 참좋은행복플러스+종합보험1911        24\n",
              "37     15  16512    0  ...   장기/운전자          무배당 프로미라이프 참좋은운전자+보험1908        10\n",
              "47     21  27840    1  ...    장기/상해  무배당 프로미라이프 아이(I)러브(LOVE)건강보험2001        23\n",
              "\n",
              "[5 rows x 9 columns]"
            ]
          },
          "metadata": {
            "tags": []
          },
          "execution_count": 343
        }
      ]
    },
    {
      "cell_type": "code",
      "metadata": {
        "id": "ZLVuaFqjjQNZ",
        "colab_type": "code",
        "colab": {
          "base_uri": "https://localhost:8080/",
          "height": 993
        },
        "outputId": "eed54a1c-553a-4a4b-b71f-1d2ae19de615"
      },
      "source": [
        "# 나이대-성별그래프\n",
        "# 컬럼=성별\n",
        "# 인덱스=나이 카테고리\n",
        "ctab_age = pd.crosstab(pop_age['age_catgorized'],\n",
        "                     pop_age['eng_sex']).apply(lambda x: x/x.sum(), axis=1)\n",
        "\n",
        "# bar plot(나이 카테고리를 x축으로)\n",
        "ctab_age.plot(kind='bar',\n",
        "            stacked=True,\n",
        "            colormap='rainbow',\n",
        "            figsize=(12,8)).legend(loc='center left',\n",
        "                                   bbox_to_anchor=(1, 0.5))\n",
        "\n",
        "# 나이대-성별그래프\n",
        "# 컬럼=나이 카테고리\n",
        "# 인덱스=성별\n",
        "ctab_sex = pd.crosstab(pop_age['eng_sex'],\n",
        "                     pop_age['age_catgorized']).apply(lambda x: x/x.sum(), axis=1)\n",
        "\n",
        "# bar plot(나이 카테고리를 x축으로)\n",
        "ctab_sex.plot(kind='bar',\n",
        "            stacked=True,\n",
        "            colormap='rainbow',\n",
        "            figsize=(12,8)).legend(loc='center left',\n",
        "                                   bbox_to_anchor=(1, 0.5))"
      ],
      "execution_count": 344,
      "outputs": [
        {
          "output_type": "execute_result",
          "data": {
            "text/plain": [
              "<matplotlib.legend.Legend at 0x7f84f84c4550>"
            ]
          },
          "metadata": {
            "tags": []
          },
          "execution_count": 344
        },
        {
          "output_type": "display_data",
          "data": {
            "image/png": "[encoded data removed]",
            "text/plain": [
              "<Figure size 864x576 with 1 Axes>"
            ]
          },
          "metadata": {
            "tags": [],
            "needs_background": "light"
          }
        },
        {
          "output_type": "display_data",
          "data": {
            "image/png": "[encoded data removed]",
            "text/plain": [
              "<Figure size 864x576 with 1 Axes>"
            ]
          },
          "metadata": {
            "tags": [],
            "needs_background": "light"
          }
        }
      ]
    },
    {
      "cell_type": "markdown",
      "metadata": {
        "id": "IJxb29VjrsjV",
        "colab_type": "text"
      },
      "source": [
        " - occupation\n",
        "  - 직업 군\n",
        "  - 상세직업(중,소,세)는 결측치가 너무 많고 대체값이 존재하지 않기 때문에 열 삭제\n",
        "  --------------\n",
        "   * 주부, 학생 및 기타 비경제활동인구': 0,\n",
        "   * 자연과학, 공학, 컴퓨터 및 통신 관련분야': 1,\n",
        "   * 서비스 관련 분야 (음식, 숙박, 여행 등)': 2,\n",
        "   * 농림어업, 광업, 축산업 관련 분야': 3,\n",
        "   * 교육, 의료, 종교, 문화예술, 스포츠, 사회복지 관련 분야': 4,\n",
        "   * 화학, 섬유, 식품, 설비 및 기타 제조 (기능, 생산직 관련 분야)': 5\n",
        "   * 행정, 금융, 사무관리,법률 관련 분야': 6,\n",
        "   * 전기, 전자, 기계, 금속 (기능, 생산직 관련 분야)': 7,\n",
        "   * 판매 관련 분야': 8,\n",
        "   * 건설, 운송(기능직 관련분야)': 9,\n",
        "   * 군인,경찰, 경호, 소방, 경비 관련 분야': 10,\n",
        "   \n",
        "   "
      ]
    },
    {
      "cell_type": "code",
      "metadata": {
        "id": "N-n0NpyYsVN5",
        "colab_type": "code",
        "outputId": "833eabb2-91f5-47af-cf9d-f6bb385d20fd",
        "colab": {
          "base_uri": "https://localhost:8080/",
          "height": 235
        }
      },
      "source": [
        "import collections\n",
        "\n",
        "bow = collections.Counter(pop_df['occupation'])\n",
        "\n",
        "# 1번\n",
        "#occp_map = { k:i for i,k in enumerate(bow.keys()) }\n",
        "\n",
        "# 2번\n",
        "occp_map = dict(zip(bow.keys(),np.linspace(0,1,11)))\n",
        "pop_df['occupation'] = pop_df['occupation'].replace(occp_map)\n",
        "pop_df.head(6)"
      ],
      "execution_count": 345,
      "outputs": [
        {
          "output_type": "execute_result",
          "data": {
            "text/html": [
              "<div>\n",
              "<style scoped>\n",
              "    .dataframe tbody tr th:only-of-type {\n",
              "        vertical-align: middle;\n",
              "    }\n",
              "\n",
              "    .dataframe tbody tr th {\n",
              "        vertical-align: top;\n",
              "    }\n",
              "\n",
              "    .dataframe thead th {\n",
              "        text-align: right;\n",
              "    }\n",
              "</style>\n",
              "<table border=\"1\" class=\"dataframe\">\n",
              "  <thead>\n",
              "    <tr style=\"text-align: right;\">\n",
              "      <th></th>\n",
              "      <th>c_idx</th>\n",
              "      <th>s_idx</th>\n",
              "      <th>sex</th>\n",
              "      <th>age</th>\n",
              "      <th>occupation</th>\n",
              "      <th>gis</th>\n",
              "      <th>ins_cat</th>\n",
              "      <th>ins_name</th>\n",
              "      <th>gar_count</th>\n",
              "    </tr>\n",
              "  </thead>\n",
              "  <tbody>\n",
              "    <tr>\n",
              "      <th>0</th>\n",
              "      <td>2</td>\n",
              "      <td>26394</td>\n",
              "      <td>1</td>\n",
              "      <td>21</td>\n",
              "      <td>0.0</td>\n",
              "      <td>노원구</td>\n",
              "      <td>장기/운전자</td>\n",
              "      <td>무배당 프로미라이프 참좋은운전자+보험1908</td>\n",
              "      <td>6</td>\n",
              "    </tr>\n",
              "    <tr>\n",
              "      <th>6</th>\n",
              "      <td>4</td>\n",
              "      <td>20024</td>\n",
              "      <td>0</td>\n",
              "      <td>21</td>\n",
              "      <td>0.0</td>\n",
              "      <td>도봉구</td>\n",
              "      <td>장기/질병</td>\n",
              "      <td>무배당 프로미라이프 참좋은치아사랑보험1904</td>\n",
              "      <td>7</td>\n",
              "    </tr>\n",
              "    <tr>\n",
              "      <th>13</th>\n",
              "      <td>8</td>\n",
              "      <td>27841</td>\n",
              "      <td>0</td>\n",
              "      <td>21</td>\n",
              "      <td>0.0</td>\n",
              "      <td>동대문구</td>\n",
              "      <td>장기/질병</td>\n",
              "      <td>무배당 프로미라이프 참좋은행복플러스+종합보험1911</td>\n",
              "      <td>24</td>\n",
              "    </tr>\n",
              "    <tr>\n",
              "      <th>37</th>\n",
              "      <td>15</td>\n",
              "      <td>16512</td>\n",
              "      <td>0</td>\n",
              "      <td>20</td>\n",
              "      <td>0.0</td>\n",
              "      <td>금천구</td>\n",
              "      <td>장기/운전자</td>\n",
              "      <td>무배당 프로미라이프 참좋은운전자+보험1908</td>\n",
              "      <td>10</td>\n",
              "    </tr>\n",
              "    <tr>\n",
              "      <th>47</th>\n",
              "      <td>21</td>\n",
              "      <td>27840</td>\n",
              "      <td>1</td>\n",
              "      <td>18</td>\n",
              "      <td>0.0</td>\n",
              "      <td>동대문구</td>\n",
              "      <td>장기/상해</td>\n",
              "      <td>무배당 프로미라이프 아이(I)러브(LOVE)건강보험2001</td>\n",
              "      <td>23</td>\n",
              "    </tr>\n",
              "    <tr>\n",
              "      <th>70</th>\n",
              "      <td>25</td>\n",
              "      <td>14177</td>\n",
              "      <td>0</td>\n",
              "      <td>16</td>\n",
              "      <td>0.0</td>\n",
              "      <td>구로구</td>\n",
              "      <td>장기/상해</td>\n",
              "      <td>무배당 프로미라이프 아이(I)러브(LOVE)건강보험2001</td>\n",
              "      <td>37</td>\n",
              "    </tr>\n",
              "  </tbody>\n",
              "</table>\n",
              "</div>"
            ],
            "text/plain": [
              "    c_idx  s_idx  sex  ...  ins_cat                          ins_name gar_count\n",
              "0       2  26394    1  ...   장기/운전자          무배당 프로미라이프 참좋은운전자+보험1908         6\n",
              "6       4  20024    0  ...    장기/질병          무배당 프로미라이프 참좋은치아사랑보험1904         7\n",
              "13      8  27841    0  ...    장기/질병      무배당 프로미라이프 참좋은행복플러스+종합보험1911        24\n",
              "37     15  16512    0  ...   장기/운전자          무배당 프로미라이프 참좋은운전자+보험1908        10\n",
              "47     21  27840    1  ...    장기/상해  무배당 프로미라이프 아이(I)러브(LOVE)건강보험2001        23\n",
              "70     25  14177    0  ...    장기/상해  무배당 프로미라이프 아이(I)러브(LOVE)건강보험2001        37\n",
              "\n",
              "[6 rows x 9 columns]"
            ]
          },
          "metadata": {
            "tags": []
          },
          "execution_count": 345
        }
      ]
    },
    {
      "cell_type": "code",
      "metadata": {
        "id": "X4-Snl4vlZzh",
        "colab_type": "code",
        "colab": {
          "base_uri": "https://localhost:8080/",
          "height": 390
        },
        "outputId": "2533898c-678c-4202-c136-789032233aab"
      },
      "source": [
        "oc_count=pop_df.groupby(\"occupation\",as_index=False).count()\n",
        "\n",
        "oc_count"
      ],
      "execution_count": 346,
      "outputs": [
        {
          "output_type": "execute_result",
          "data": {
            "text/html": [
              "<div>\n",
              "<style scoped>\n",
              "    .dataframe tbody tr th:only-of-type {\n",
              "        vertical-align: middle;\n",
              "    }\n",
              "\n",
              "    .dataframe tbody tr th {\n",
              "        vertical-align: top;\n",
              "    }\n",
              "\n",
              "    .dataframe thead th {\n",
              "        text-align: right;\n",
              "    }\n",
              "</style>\n",
              "<table border=\"1\" class=\"dataframe\">\n",
              "  <thead>\n",
              "    <tr style=\"text-align: right;\">\n",
              "      <th></th>\n",
              "      <th>occupation</th>\n",
              "      <th>c_idx</th>\n",
              "      <th>s_idx</th>\n",
              "      <th>sex</th>\n",
              "      <th>age</th>\n",
              "      <th>gis</th>\n",
              "      <th>ins_cat</th>\n",
              "      <th>ins_name</th>\n",
              "      <th>gar_count</th>\n",
              "    </tr>\n",
              "  </thead>\n",
              "  <tbody>\n",
              "    <tr>\n",
              "      <th>0</th>\n",
              "      <td>0.0</td>\n",
              "      <td>1607</td>\n",
              "      <td>1607</td>\n",
              "      <td>1607</td>\n",
              "      <td>1607</td>\n",
              "      <td>1607</td>\n",
              "      <td>1607</td>\n",
              "      <td>1607</td>\n",
              "      <td>1607</td>\n",
              "    </tr>\n",
              "    <tr>\n",
              "      <th>1</th>\n",
              "      <td>0.1</td>\n",
              "      <td>738</td>\n",
              "      <td>738</td>\n",
              "      <td>738</td>\n",
              "      <td>738</td>\n",
              "      <td>738</td>\n",
              "      <td>738</td>\n",
              "      <td>738</td>\n",
              "      <td>738</td>\n",
              "    </tr>\n",
              "    <tr>\n",
              "      <th>2</th>\n",
              "      <td>0.2</td>\n",
              "      <td>420</td>\n",
              "      <td>420</td>\n",
              "      <td>420</td>\n",
              "      <td>420</td>\n",
              "      <td>420</td>\n",
              "      <td>420</td>\n",
              "      <td>420</td>\n",
              "      <td>420</td>\n",
              "    </tr>\n",
              "    <tr>\n",
              "      <th>3</th>\n",
              "      <td>0.3</td>\n",
              "      <td>355</td>\n",
              "      <td>355</td>\n",
              "      <td>355</td>\n",
              "      <td>355</td>\n",
              "      <td>355</td>\n",
              "      <td>355</td>\n",
              "      <td>355</td>\n",
              "      <td>355</td>\n",
              "    </tr>\n",
              "    <tr>\n",
              "      <th>4</th>\n",
              "      <td>0.4</td>\n",
              "      <td>875</td>\n",
              "      <td>875</td>\n",
              "      <td>875</td>\n",
              "      <td>875</td>\n",
              "      <td>875</td>\n",
              "      <td>875</td>\n",
              "      <td>875</td>\n",
              "      <td>875</td>\n",
              "    </tr>\n",
              "    <tr>\n",
              "      <th>5</th>\n",
              "      <td>0.5</td>\n",
              "      <td>510</td>\n",
              "      <td>510</td>\n",
              "      <td>510</td>\n",
              "      <td>510</td>\n",
              "      <td>510</td>\n",
              "      <td>510</td>\n",
              "      <td>510</td>\n",
              "      <td>510</td>\n",
              "    </tr>\n",
              "    <tr>\n",
              "      <th>6</th>\n",
              "      <td>0.6</td>\n",
              "      <td>912</td>\n",
              "      <td>912</td>\n",
              "      <td>912</td>\n",
              "      <td>912</td>\n",
              "      <td>912</td>\n",
              "      <td>912</td>\n",
              "      <td>912</td>\n",
              "      <td>912</td>\n",
              "    </tr>\n",
              "    <tr>\n",
              "      <th>7</th>\n",
              "      <td>0.7</td>\n",
              "      <td>386</td>\n",
              "      <td>386</td>\n",
              "      <td>386</td>\n",
              "      <td>386</td>\n",
              "      <td>386</td>\n",
              "      <td>386</td>\n",
              "      <td>386</td>\n",
              "      <td>386</td>\n",
              "    </tr>\n",
              "    <tr>\n",
              "      <th>8</th>\n",
              "      <td>0.8</td>\n",
              "      <td>475</td>\n",
              "      <td>475</td>\n",
              "      <td>475</td>\n",
              "      <td>475</td>\n",
              "      <td>475</td>\n",
              "      <td>475</td>\n",
              "      <td>475</td>\n",
              "      <td>475</td>\n",
              "    </tr>\n",
              "    <tr>\n",
              "      <th>9</th>\n",
              "      <td>0.9</td>\n",
              "      <td>13</td>\n",
              "      <td>13</td>\n",
              "      <td>13</td>\n",
              "      <td>13</td>\n",
              "      <td>13</td>\n",
              "      <td>13</td>\n",
              "      <td>13</td>\n",
              "      <td>13</td>\n",
              "    </tr>\n",
              "    <tr>\n",
              "      <th>10</th>\n",
              "      <td>1.0</td>\n",
              "      <td>22</td>\n",
              "      <td>22</td>\n",
              "      <td>22</td>\n",
              "      <td>22</td>\n",
              "      <td>22</td>\n",
              "      <td>22</td>\n",
              "      <td>22</td>\n",
              "      <td>22</td>\n",
              "    </tr>\n",
              "  </tbody>\n",
              "</table>\n",
              "</div>"
            ],
            "text/plain": [
              "    occupation  c_idx  s_idx   sex   age   gis  ins_cat  ins_name  gar_count\n",
              "0          0.0   1607   1607  1607  1607  1607     1607      1607       1607\n",
              "1          0.1    738    738   738   738   738      738       738        738\n",
              "2          0.2    420    420   420   420   420      420       420        420\n",
              "3          0.3    355    355   355   355   355      355       355        355\n",
              "4          0.4    875    875   875   875   875      875       875        875\n",
              "5          0.5    510    510   510   510   510      510       510        510\n",
              "6          0.6    912    912   912   912   912      912       912        912\n",
              "7          0.7    386    386   386   386   386      386       386        386\n",
              "8          0.8    475    475   475   475   475      475       475        475\n",
              "9          0.9     13     13    13    13    13       13        13         13\n",
              "10         1.0     22     22    22    22    22       22        22         22"
            ]
          },
          "metadata": {
            "tags": []
          },
          "execution_count": 346
        }
      ]
    },
    {
      "cell_type": "code",
      "metadata": {
        "id": "HDfSdttajtkk",
        "colab_type": "code",
        "colab": {
          "base_uri": "https://localhost:8080/",
          "height": 788
        },
        "outputId": "5e338ffc-8e02-4c6b-a7be-bf07d65f0a97"
      },
      "source": [
        "# 정제 전\n",
        "plt.figure(figsize=(10,6))\n",
        "plt.pie(\n",
        "    x=\"occupation\",\n",
        "    data=pop_job_counts,\n",
        "    labels=pop_job_counts[\"occupation_mapped\"],\n",
        "    autopct='%1.2f%%', # second decimal place\n",
        "    startangle=90,\n",
        "    explode=[0.3 for _ in range(11)]\n",
        ")\n",
        "plt.show()\n",
        "\n",
        "# 정제 후\n",
        "plt.figure(figsize=(10,6))\n",
        "plt.pie(\n",
        "    x=\"c_idx\",\n",
        "    data=oc_count,\n",
        "    labels=oc_count[\"occupation\"],\n",
        "    autopct='%1.2f%%', # second decimal place\n",
        "    startangle=90,\n",
        "    explode=[0.3 for _ in range(11)]\n",
        ")\n",
        "plt.show()"
      ],
      "execution_count": 347,
      "outputs": [
        {
          "output_type": "display_data",
          "data": {
            "image/png": "[encoded data removed]",
            "text/plain": [
              "<Figure size 720x432 with 1 Axes>"
            ]
          },
          "metadata": {
            "tags": []
          }
        },
        {
          "output_type": "display_data",
          "data": {
            "image/png": "[encoded data removed]",
            "text/plain": [
              "<Figure size 720x432 with 1 Axes>"
            ]
          },
          "metadata": {
            "tags": []
          }
        }
      ]
    },
    {
      "cell_type": "code",
      "metadata": {
        "id": "WzaNsiVWnmDJ",
        "colab_type": "code",
        "colab": {
          "base_uri": "https://localhost:8080/",
          "height": 620
        },
        "outputId": "0f8e7f77-c4a3-4c88-aa6d-9a9cf90ead47"
      },
      "source": [
        "# 직업군별 특약 개수\n",
        "# gar_count 형변환 object->int64\n",
        "pop_df[\"gar_count\"] = pop_df[\"gar_count\"].astype(str).astype(int)\n",
        "pop_df.groupby(\"occupation\").sum()[\"gar_count\"].sort_values(ascending=False).plot(\n",
        "    kind='bar',\n",
        "    stacked=True,\n",
        "    colormap='rainbow',\n",
        "    figsize=(12,8)).legend(loc='center left',\n",
        "    bbox_to_anchor=(1, 0.5)\n",
        ")"
      ],
      "execution_count": 348,
      "outputs": [
        {
          "output_type": "execute_result",
          "data": {
            "text/plain": [
              "<matplotlib.legend.Legend at 0x7f84e85c1dd8>"
            ]
          },
          "metadata": {
            "tags": []
          },
          "execution_count": 348
        },
        {
          "output_type": "display_data",
          "data": {
            "image/png": "[encoded data removed]",
            "text/plain": [
              "<Figure size 864x576 with 1 Axes>"
            ]
          },
          "metadata": {
            "tags": [],
            "needs_background": "light"
          }
        }
      ]
    },
    {
      "cell_type": "code",
      "metadata": {
        "id": "ryZ68aV8qo_l",
        "colab_type": "code",
        "colab": {
          "base_uri": "https://localhost:8080/",
          "height": 391
        },
        "outputId": "dde7cbac-3420-4357-92c2-7d76e5818802"
      },
      "source": [
        "# 각 직업 1인당 특약 개수\n",
        "rat=pop_df.groupby(\"occupation\").sum()[\"gar_count\"]/pop_df[\"occupation\"].value_counts()\n",
        "fig = plt.figure(figsize=(10,6))\n",
        "plt.bar(rat.index,rat)"
      ],
      "execution_count": 349,
      "outputs": [
        {
          "output_type": "execute_result",
          "data": {
            "text/plain": [
              "<BarContainer object of 11 artists>"
            ]
          },
          "metadata": {
            "tags": []
          },
          "execution_count": 349
        },
        {
          "output_type": "display_data",
          "data": {
            "image/png": "[encoded data removed]",
            "text/plain": [
              "<Figure size 720x432 with 1 Axes>"
            ]
          },
          "metadata": {
            "tags": [],
            "needs_background": "light"
          }
        }
      ]
    },
    {
      "cell_type": "markdown",
      "metadata": {
        "id": "8pKHYkLNuiwU",
        "colab_type": "text"
      },
      "source": [
        "- age\n",
        " - child, young, adult, mid-age, senior 로 구분\n",
        " - child -> 고등학생 이전(~16세)\n",
        " - young -> 대학교졸업(17~26세)\n",
        " - adult -> 사회초년생 -> 과장급(27~36세)\n",
        " - mid-age -> 예상 은퇴 나이(37~57세)\n",
        " - senior -> 퇴직이후(58세~)"
      ]
    },
    {
      "cell_type": "code",
      "metadata": {
        "id": "g7Kc5NuLufi_",
        "colab_type": "code",
        "outputId": "eddb33d6-c6b5-4993-b1dc-fc1c63b6f01b",
        "colab": {
          "base_uri": "https://localhost:8080/",
          "height": 119
        }
      },
      "source": [
        "age_map = {'child':0,'young':1,'adult':2,'mid-age':3,'senior':4}\n",
        "pop_df.loc[df[\"age\"] <= 16, 'age'] = 0\n",
        "pop_df.loc[(pop_df[\"age\"] > 16) & (pop_df[\"age\"] <= 26), 'age'] = 1\n",
        "pop_df.loc[(df[\"age\"] > 26) & (pop_df[\"age\"] <= 36), 'age'] = 2\n",
        "pop_df.loc[(df[\"age\"] > 36) & (pop_df[\"age\"] <= 57), 'age'] = 3\n",
        "pop_df.loc[(df[\"age\"] > 57),'age'] = 4\n",
        "\n",
        "pop_df[\"age\"].value_counts()"
      ],
      "execution_count": 350,
      "outputs": [
        {
          "output_type": "execute_result",
          "data": {
            "text/plain": [
              "3    2468\n",
              "4    1887\n",
              "2    1173\n",
              "1     538\n",
              "0     247\n",
              "Name: age, dtype: int64"
            ]
          },
          "metadata": {
            "tags": []
          },
          "execution_count": 350
        }
      ]
    },
    {
      "cell_type": "markdown",
      "metadata": {
        "id": "fqnUagMayEIx",
        "colab_type": "text"
      },
      "source": [
        "\n",
        "# https://data.seoul.go.kr/dataList/11043/S/2/datasetView.do\n",
        "\n",
        "- city-district\n",
        " - 전부 서울에 살고 있으므로 city는 제외\n",
        " - 사는 지역에서 차별점이 있는 변수는 자본수준(gis로 측정)\n",
        " - 자본수준과 보험을 들 수 있는 능력과 관계가 있다고 판단\n",
        " - district를 gdp//100000한 값으로 대체\n",
        " - MinMax scaler를 통해서 0~5 사이의 값으로 스케일링"
      ]
    },
    {
      "cell_type": "code",
      "metadata": {
        "id": "B55l86RXyAKU",
        "colab_type": "code",
        "outputId": "df0c0441-91c1-4530-98b8-6a2c4dabbb28",
        "colab": {
          "base_uri": "https://localhost:8080/",
          "height": 359
        }
      },
      "source": [
        "with open(\"/content/drive/My Drive/insuretech/insurance/report.txt\",\"r\") as f:\n",
        "  rows = f.read().split(\"\\n\")\n",
        "city_gdp_map = {each.split(\"\\t\")[1]:int(each.split(\"\\t\")[2].replace(\",\",\"\"))//100000 for each in rows[1:]}\n",
        "pop_df[\"gis\"] = pop_df[\"gis\"].replace(city_gdp_map)\n",
        "pop_df.head(10)"
      ],
      "execution_count": 351,
      "outputs": [
        {
          "output_type": "execute_result",
          "data": {
            "text/html": [
              "<div>\n",
              "<style scoped>\n",
              "    .dataframe tbody tr th:only-of-type {\n",
              "        vertical-align: middle;\n",
              "    }\n",
              "\n",
              "    .dataframe tbody tr th {\n",
              "        vertical-align: top;\n",
              "    }\n",
              "\n",
              "    .dataframe thead th {\n",
              "        text-align: right;\n",
              "    }\n",
              "</style>\n",
              "<table border=\"1\" class=\"dataframe\">\n",
              "  <thead>\n",
              "    <tr style=\"text-align: right;\">\n",
              "      <th></th>\n",
              "      <th>c_idx</th>\n",
              "      <th>s_idx</th>\n",
              "      <th>sex</th>\n",
              "      <th>age</th>\n",
              "      <th>occupation</th>\n",
              "      <th>gis</th>\n",
              "      <th>ins_cat</th>\n",
              "      <th>ins_name</th>\n",
              "      <th>gar_count</th>\n",
              "    </tr>\n",
              "  </thead>\n",
              "  <tbody>\n",
              "    <tr>\n",
              "      <th>0</th>\n",
              "      <td>2</td>\n",
              "      <td>26394</td>\n",
              "      <td>1</td>\n",
              "      <td>1</td>\n",
              "      <td>0.0</td>\n",
              "      <td>52</td>\n",
              "      <td>장기/운전자</td>\n",
              "      <td>무배당 프로미라이프 참좋은운전자+보험1908</td>\n",
              "      <td>6</td>\n",
              "    </tr>\n",
              "    <tr>\n",
              "      <th>6</th>\n",
              "      <td>4</td>\n",
              "      <td>20024</td>\n",
              "      <td>0</td>\n",
              "      <td>1</td>\n",
              "      <td>0.0</td>\n",
              "      <td>28</td>\n",
              "      <td>장기/질병</td>\n",
              "      <td>무배당 프로미라이프 참좋은치아사랑보험1904</td>\n",
              "      <td>7</td>\n",
              "    </tr>\n",
              "    <tr>\n",
              "      <th>13</th>\n",
              "      <td>8</td>\n",
              "      <td>27841</td>\n",
              "      <td>0</td>\n",
              "      <td>1</td>\n",
              "      <td>0.0</td>\n",
              "      <td>71</td>\n",
              "      <td>장기/질병</td>\n",
              "      <td>무배당 프로미라이프 참좋은행복플러스+종합보험1911</td>\n",
              "      <td>24</td>\n",
              "    </tr>\n",
              "    <tr>\n",
              "      <th>37</th>\n",
              "      <td>15</td>\n",
              "      <td>16512</td>\n",
              "      <td>0</td>\n",
              "      <td>1</td>\n",
              "      <td>0.0</td>\n",
              "      <td>150</td>\n",
              "      <td>장기/운전자</td>\n",
              "      <td>무배당 프로미라이프 참좋은운전자+보험1908</td>\n",
              "      <td>10</td>\n",
              "    </tr>\n",
              "    <tr>\n",
              "      <th>47</th>\n",
              "      <td>21</td>\n",
              "      <td>27840</td>\n",
              "      <td>1</td>\n",
              "      <td>1</td>\n",
              "      <td>0.0</td>\n",
              "      <td>71</td>\n",
              "      <td>장기/상해</td>\n",
              "      <td>무배당 프로미라이프 아이(I)러브(LOVE)건강보험2001</td>\n",
              "      <td>23</td>\n",
              "    </tr>\n",
              "    <tr>\n",
              "      <th>70</th>\n",
              "      <td>25</td>\n",
              "      <td>14177</td>\n",
              "      <td>0</td>\n",
              "      <td>0</td>\n",
              "      <td>0.0</td>\n",
              "      <td>119</td>\n",
              "      <td>장기/상해</td>\n",
              "      <td>무배당 프로미라이프 아이(I)러브(LOVE)건강보험2001</td>\n",
              "      <td>37</td>\n",
              "    </tr>\n",
              "    <tr>\n",
              "      <th>107</th>\n",
              "      <td>41</td>\n",
              "      <td>17679</td>\n",
              "      <td>0</td>\n",
              "      <td>4</td>\n",
              "      <td>0.0</td>\n",
              "      <td>277</td>\n",
              "      <td>장기/질병</td>\n",
              "      <td>무배당 프로미라이프 참좋은간편건강보험1906_TM</td>\n",
              "      <td>10</td>\n",
              "    </tr>\n",
              "    <tr>\n",
              "      <th>117</th>\n",
              "      <td>44</td>\n",
              "      <td>17112</td>\n",
              "      <td>0</td>\n",
              "      <td>4</td>\n",
              "      <td>0.1</td>\n",
              "      <td>107</td>\n",
              "      <td>장기/상해</td>\n",
              "      <td>무배당 프로미라이프 스마트가정보장보험1904</td>\n",
              "      <td>1</td>\n",
              "    </tr>\n",
              "    <tr>\n",
              "      <th>118</th>\n",
              "      <td>45</td>\n",
              "      <td>41013</td>\n",
              "      <td>0</td>\n",
              "      <td>4</td>\n",
              "      <td>0.2</td>\n",
              "      <td>52</td>\n",
              "      <td>장기/상해</td>\n",
              "      <td>무배당 프로미라이프 실손의료비보험(계약전환용)2001</td>\n",
              "      <td>6</td>\n",
              "    </tr>\n",
              "    <tr>\n",
              "      <th>124</th>\n",
              "      <td>47</td>\n",
              "      <td>14953</td>\n",
              "      <td>0</td>\n",
              "      <td>4</td>\n",
              "      <td>0.3</td>\n",
              "      <td>107</td>\n",
              "      <td>장기/운전자</td>\n",
              "      <td>무배당 프로미라이프 참좋은운전자보험(TM)1908</td>\n",
              "      <td>13</td>\n",
              "    </tr>\n",
              "  </tbody>\n",
              "</table>\n",
              "</div>"
            ],
            "text/plain": [
              "     c_idx  s_idx  sex  ...  ins_cat                          ins_name  gar_count\n",
              "0        2  26394    1  ...   장기/운전자          무배당 프로미라이프 참좋은운전자+보험1908          6\n",
              "6        4  20024    0  ...    장기/질병          무배당 프로미라이프 참좋은치아사랑보험1904          7\n",
              "13       8  27841    0  ...    장기/질병      무배당 프로미라이프 참좋은행복플러스+종합보험1911         24\n",
              "37      15  16512    0  ...   장기/운전자          무배당 프로미라이프 참좋은운전자+보험1908         10\n",
              "47      21  27840    1  ...    장기/상해  무배당 프로미라이프 아이(I)러브(LOVE)건강보험2001         23\n",
              "70      25  14177    0  ...    장기/상해  무배당 프로미라이프 아이(I)러브(LOVE)건강보험2001         37\n",
              "107     41  17679    0  ...    장기/질병       무배당 프로미라이프 참좋은간편건강보험1906_TM         10\n",
              "117     44  17112    0  ...    장기/상해          무배당 프로미라이프 스마트가정보장보험1904          1\n",
              "118     45  41013    0  ...    장기/상해     무배당 프로미라이프 실손의료비보험(계약전환용)2001          6\n",
              "124     47  14953    0  ...   장기/운전자       무배당 프로미라이프 참좋은운전자보험(TM)1908         13\n",
              "\n",
              "[10 rows x 9 columns]"
            ]
          },
          "metadata": {
            "tags": []
          },
          "execution_count": 351
        }
      ]
    },
    {
      "cell_type": "code",
      "metadata": {
        "id": "nStLSsnSt3CP",
        "colab_type": "code",
        "colab": {
          "base_uri": "https://localhost:8080/",
          "height": 404
        },
        "outputId": "52539cf4-3d80-4e44-d061-41802198a212"
      },
      "source": [
        "#직업 별 자본 수준\n",
        "oc_gis=pop_df.groupby(\"occupation\",as_index=False).mean()[[\"occupation\",\"gis\"]]\n",
        "\n",
        "sns.pairplot(oc_gis)"
      ],
      "execution_count": 352,
      "outputs": [
        {
          "output_type": "execute_result",
          "data": {
            "text/plain": [
              "<seaborn.axisgrid.PairGrid at 0x7f84e8a39dd8>"
            ]
          },
          "metadata": {
            "tags": []
          },
          "execution_count": 352
        },
        {
          "output_type": "display_data",
          "data": {
            "image/png": "[encoded data removed]",
            "text/plain": [
              "<Figure size 360x360 with 6 Axes>"
            ]
          },
          "metadata": {
            "tags": [],
            "needs_background": "light"
          }
        }
      ]
    },
    {
      "cell_type": "code",
      "metadata": {
        "id": "8f3L5DCRy9nh",
        "colab_type": "code",
        "outputId": "5993f68a-f089-47d0-d714-bf46f15cad96",
        "colab": {
          "base_uri": "https://localhost:8080/",
          "height": 221
        }
      },
      "source": [
        "#Min-Max scaler 정의\n",
        "MAX = pop_df[\"gis\"].max()\n",
        "MIN = pop_df[\"gis\"].min()\n",
        "denom = MAX-MIN\n",
        "\n",
        "def scaler(denom,min,x):\n",
        "    return (x - min) / denom\n",
        "\n",
        "pop_df[\"gis\"] = pop_df[\"gis\"].apply(lambda x: scaler(denom,MIN,x))\n",
        "\n",
        "# 정규화 결과확인\n",
        "pop_df[\"gis\"].value_counts()\n",
        "\n",
        "pop_df[\"gar_count\"] = pop_df[\"gar_count\"].apply(lambda x: scaler(denom,MIN,x))\n",
        "\n",
        "# 정규화 결과확인\n",
        "pop_df[\"gar_count\"].value_counts()"
      ],
      "execution_count": 353,
      "outputs": [
        {
          "output_type": "execute_result",
          "data": {
            "text/plain": [
              "-0.033275    1348\n",
              "-0.043783     243\n",
              "-0.042032     240\n",
              "-0.047285     183\n",
              "-0.022767     179\n",
              "             ... \n",
              " 0.129597       1\n",
              " 0.092820       1\n",
              " 0.108581       1\n",
              " 0.077058       1\n",
              " 0.154116       1\n",
              "Name: gar_count, Length: 88, dtype: int64"
            ]
          },
          "metadata": {
            "tags": []
          },
          "execution_count": 353
        }
      ]
    },
    {
      "cell_type": "code",
      "metadata": {
        "id": "Msl7toQj2mYZ",
        "colab_type": "code",
        "outputId": "9b0a7e19-245a-4725-f43e-d7f1baff4c92",
        "colab": {
          "base_uri": "https://localhost:8080/",
          "height": 204
        }
      },
      "source": [
        "pop_df.head()"
      ],
      "execution_count": 354,
      "outputs": [
        {
          "output_type": "execute_result",
          "data": {
            "text/html": [
              "<div>\n",
              "<style scoped>\n",
              "    .dataframe tbody tr th:only-of-type {\n",
              "        vertical-align: middle;\n",
              "    }\n",
              "\n",
              "    .dataframe tbody tr th {\n",
              "        vertical-align: top;\n",
              "    }\n",
              "\n",
              "    .dataframe thead th {\n",
              "        text-align: right;\n",
              "    }\n",
              "</style>\n",
              "<table border=\"1\" class=\"dataframe\">\n",
              "  <thead>\n",
              "    <tr style=\"text-align: right;\">\n",
              "      <th></th>\n",
              "      <th>c_idx</th>\n",
              "      <th>s_idx</th>\n",
              "      <th>sex</th>\n",
              "      <th>age</th>\n",
              "      <th>occupation</th>\n",
              "      <th>gis</th>\n",
              "      <th>ins_cat</th>\n",
              "      <th>ins_name</th>\n",
              "      <th>gar_count</th>\n",
              "    </tr>\n",
              "  </thead>\n",
              "  <tbody>\n",
              "    <tr>\n",
              "      <th>0</th>\n",
              "      <td>2</td>\n",
              "      <td>26394</td>\n",
              "      <td>1</td>\n",
              "      <td>1</td>\n",
              "      <td>0.0</td>\n",
              "      <td>0.042032</td>\n",
              "      <td>장기/운전자</td>\n",
              "      <td>무배당 프로미라이프 참좋은운전자+보험1908</td>\n",
              "      <td>-0.038529</td>\n",
              "    </tr>\n",
              "    <tr>\n",
              "      <th>6</th>\n",
              "      <td>4</td>\n",
              "      <td>20024</td>\n",
              "      <td>0</td>\n",
              "      <td>1</td>\n",
              "      <td>0.0</td>\n",
              "      <td>0.000000</td>\n",
              "      <td>장기/질병</td>\n",
              "      <td>무배당 프로미라이프 참좋은치아사랑보험1904</td>\n",
              "      <td>-0.036778</td>\n",
              "    </tr>\n",
              "    <tr>\n",
              "      <th>13</th>\n",
              "      <td>8</td>\n",
              "      <td>27841</td>\n",
              "      <td>0</td>\n",
              "      <td>1</td>\n",
              "      <td>0.0</td>\n",
              "      <td>0.075306</td>\n",
              "      <td>장기/질병</td>\n",
              "      <td>무배당 프로미라이프 참좋은행복플러스+종합보험1911</td>\n",
              "      <td>-0.007005</td>\n",
              "    </tr>\n",
              "    <tr>\n",
              "      <th>37</th>\n",
              "      <td>15</td>\n",
              "      <td>16512</td>\n",
              "      <td>0</td>\n",
              "      <td>1</td>\n",
              "      <td>0.0</td>\n",
              "      <td>0.213660</td>\n",
              "      <td>장기/운전자</td>\n",
              "      <td>무배당 프로미라이프 참좋은운전자+보험1908</td>\n",
              "      <td>-0.031524</td>\n",
              "    </tr>\n",
              "    <tr>\n",
              "      <th>47</th>\n",
              "      <td>21</td>\n",
              "      <td>27840</td>\n",
              "      <td>1</td>\n",
              "      <td>1</td>\n",
              "      <td>0.0</td>\n",
              "      <td>0.075306</td>\n",
              "      <td>장기/상해</td>\n",
              "      <td>무배당 프로미라이프 아이(I)러브(LOVE)건강보험2001</td>\n",
              "      <td>-0.008757</td>\n",
              "    </tr>\n",
              "  </tbody>\n",
              "</table>\n",
              "</div>"
            ],
            "text/plain": [
              "    c_idx  s_idx  sex  ...  ins_cat                          ins_name  gar_count\n",
              "0       2  26394    1  ...   장기/운전자          무배당 프로미라이프 참좋은운전자+보험1908  -0.038529\n",
              "6       4  20024    0  ...    장기/질병          무배당 프로미라이프 참좋은치아사랑보험1904  -0.036778\n",
              "13      8  27841    0  ...    장기/질병      무배당 프로미라이프 참좋은행복플러스+종합보험1911  -0.007005\n",
              "37     15  16512    0  ...   장기/운전자          무배당 프로미라이프 참좋은운전자+보험1908  -0.031524\n",
              "47     21  27840    1  ...    장기/상해  무배당 프로미라이프 아이(I)러브(LOVE)건강보험2001  -0.008757\n",
              "\n",
              "[5 rows x 9 columns]"
            ]
          },
          "metadata": {
            "tags": []
          },
          "execution_count": 354
        }
      ]
    },
    {
      "cell_type": "markdown",
      "metadata": {
        "id": "LE3p0Ojf20m2",
        "colab_type": "text"
      },
      "source": [
        "- ins_cat"
      ]
    },
    {
      "cell_type": "code",
      "metadata": {
        "id": "BIJw2wlX2z_a",
        "colab_type": "code",
        "outputId": "d6b9f4e2-24dc-45a2-bab4-f31a0e113222",
        "colab": {
          "base_uri": "https://localhost:8080/",
          "height": 119
        }
      },
      "source": [
        "pop_df[\"ins_cat\"].value_counts()\n",
        "\n",
        "# linspace를 통해서 데이터 매핑\n",
        "#1번\n",
        "#ins_cat_map = dict(zip([\"장기/질병\",\"장기/운전자\",\"장기/상해\",\"장기/재물\",\"장기/저축\"],np.linspace(0,1,5)))\n",
        "\n",
        "#2번\n",
        "ins_cat_map = dict(zip([\"장기/질병\",\"장기/운전자\",\"장기/상해\",\"장기/재물\",\"장기/저축\"],np.linspace(0,1,5)))\n",
        "pop_df[\"ins_cat\"] = pop_df[\"ins_cat\"].replace(ins_cat_map)\n",
        "pop_df[\"ins_cat\"].value_counts()"
      ],
      "execution_count": 355,
      "outputs": [
        {
          "output_type": "execute_result",
          "data": {
            "text/plain": [
              "0.50    2097\n",
              "0.00    2072\n",
              "0.25    1960\n",
              "0.75     179\n",
              "1.00       5\n",
              "Name: ins_cat, dtype: int64"
            ]
          },
          "metadata": {
            "tags": []
          },
          "execution_count": 355
        }
      ]
    },
    {
      "cell_type": "markdown",
      "metadata": {
        "id": "uqrZeu-rYtNu",
        "colab_type": "text"
      },
      "source": [
        "- ins_name\n",
        " - 총 56개의 보험중 상위 10개 제외 나머지 삭제"
      ]
    },
    {
      "cell_type": "code",
      "metadata": {
        "id": "csaIo9ReYz87",
        "colab_type": "code",
        "colab": {}
      },
      "source": [
        "#isin메소드로 마스크제작\n",
        "#각 보험별 수를 종합해서 랭킹 10위만 추출\n",
        "pop_df = pop_df.loc[pop_df[\"ins_name\"].isin(pop_df[\"ins_name\"].value_counts().index[:10])]"
      ],
      "execution_count": 0,
      "outputs": []
    },
    {
      "cell_type": "code",
      "metadata": {
        "id": "h9Tnmp5ad2ZH",
        "colab_type": "code",
        "colab": {
          "base_uri": "https://localhost:8080/",
          "height": 419
        },
        "outputId": "c88d306f-6083-459e-bf4c-60f592eb48b7"
      },
      "source": [
        "pop_df"
      ],
      "execution_count": 357,
      "outputs": [
        {
          "output_type": "execute_result",
          "data": {
            "text/html": [
              "<div>\n",
              "<style scoped>\n",
              "    .dataframe tbody tr th:only-of-type {\n",
              "        vertical-align: middle;\n",
              "    }\n",
              "\n",
              "    .dataframe tbody tr th {\n",
              "        vertical-align: top;\n",
              "    }\n",
              "\n",
              "    .dataframe thead th {\n",
              "        text-align: right;\n",
              "    }\n",
              "</style>\n",
              "<table border=\"1\" class=\"dataframe\">\n",
              "  <thead>\n",
              "    <tr style=\"text-align: right;\">\n",
              "      <th></th>\n",
              "      <th>c_idx</th>\n",
              "      <th>s_idx</th>\n",
              "      <th>sex</th>\n",
              "      <th>age</th>\n",
              "      <th>occupation</th>\n",
              "      <th>gis</th>\n",
              "      <th>ins_cat</th>\n",
              "      <th>ins_name</th>\n",
              "      <th>gar_count</th>\n",
              "    </tr>\n",
              "  </thead>\n",
              "  <tbody>\n",
              "    <tr>\n",
              "      <th>0</th>\n",
              "      <td>2</td>\n",
              "      <td>26394</td>\n",
              "      <td>1</td>\n",
              "      <td>1</td>\n",
              "      <td>0.0</td>\n",
              "      <td>0.042032</td>\n",
              "      <td>0.25</td>\n",
              "      <td>무배당 프로미라이프 참좋은운전자+보험1908</td>\n",
              "      <td>-0.038529</td>\n",
              "    </tr>\n",
              "    <tr>\n",
              "      <th>6</th>\n",
              "      <td>4</td>\n",
              "      <td>20024</td>\n",
              "      <td>0</td>\n",
              "      <td>1</td>\n",
              "      <td>0.0</td>\n",
              "      <td>0.000000</td>\n",
              "      <td>0.00</td>\n",
              "      <td>무배당 프로미라이프 참좋은치아사랑보험1904</td>\n",
              "      <td>-0.036778</td>\n",
              "    </tr>\n",
              "    <tr>\n",
              "      <th>13</th>\n",
              "      <td>8</td>\n",
              "      <td>27841</td>\n",
              "      <td>0</td>\n",
              "      <td>1</td>\n",
              "      <td>0.0</td>\n",
              "      <td>0.075306</td>\n",
              "      <td>0.00</td>\n",
              "      <td>무배당 프로미라이프 참좋은행복플러스+종합보험1911</td>\n",
              "      <td>-0.007005</td>\n",
              "    </tr>\n",
              "    <tr>\n",
              "      <th>37</th>\n",
              "      <td>15</td>\n",
              "      <td>16512</td>\n",
              "      <td>0</td>\n",
              "      <td>1</td>\n",
              "      <td>0.0</td>\n",
              "      <td>0.213660</td>\n",
              "      <td>0.25</td>\n",
              "      <td>무배당 프로미라이프 참좋은운전자+보험1908</td>\n",
              "      <td>-0.031524</td>\n",
              "    </tr>\n",
              "    <tr>\n",
              "      <th>47</th>\n",
              "      <td>21</td>\n",
              "      <td>27840</td>\n",
              "      <td>1</td>\n",
              "      <td>1</td>\n",
              "      <td>0.0</td>\n",
              "      <td>0.075306</td>\n",
              "      <td>0.50</td>\n",
              "      <td>무배당 프로미라이프 아이(I)러브(LOVE)건강보험2001</td>\n",
              "      <td>-0.008757</td>\n",
              "    </tr>\n",
              "    <tr>\n",
              "      <th>...</th>\n",
              "      <td>...</td>\n",
              "      <td>...</td>\n",
              "      <td>...</td>\n",
              "      <td>...</td>\n",
              "      <td>...</td>\n",
              "      <td>...</td>\n",
              "      <td>...</td>\n",
              "      <td>...</td>\n",
              "      <td>...</td>\n",
              "    </tr>\n",
              "    <tr>\n",
              "      <th>103137</th>\n",
              "      <td>39914</td>\n",
              "      <td>41392</td>\n",
              "      <td>1</td>\n",
              "      <td>0</td>\n",
              "      <td>0.0</td>\n",
              "      <td>0.021016</td>\n",
              "      <td>0.50</td>\n",
              "      <td>무배당 프로미라이프 실손의료비보험2001</td>\n",
              "      <td>-0.033275</td>\n",
              "    </tr>\n",
              "    <tr>\n",
              "      <th>103147</th>\n",
              "      <td>39929</td>\n",
              "      <td>43614</td>\n",
              "      <td>0</td>\n",
              "      <td>1</td>\n",
              "      <td>0.0</td>\n",
              "      <td>0.080560</td>\n",
              "      <td>0.50</td>\n",
              "      <td>무배당 프로미라이프 실손의료비보험2001</td>\n",
              "      <td>-0.033275</td>\n",
              "    </tr>\n",
              "    <tr>\n",
              "      <th>103156</th>\n",
              "      <td>39930</td>\n",
              "      <td>46077</td>\n",
              "      <td>0</td>\n",
              "      <td>3</td>\n",
              "      <td>0.7</td>\n",
              "      <td>0.134851</td>\n",
              "      <td>0.25</td>\n",
              "      <td>무배당 프로미라이프 참좋은운전자+보험1908</td>\n",
              "      <td>-0.012259</td>\n",
              "    </tr>\n",
              "    <tr>\n",
              "      <th>103177</th>\n",
              "      <td>39931</td>\n",
              "      <td>46435</td>\n",
              "      <td>1</td>\n",
              "      <td>3</td>\n",
              "      <td>0.4</td>\n",
              "      <td>0.159370</td>\n",
              "      <td>0.25</td>\n",
              "      <td>무배당 프로미라이프 참좋은운전자보험(TM)1908</td>\n",
              "      <td>-0.012259</td>\n",
              "    </tr>\n",
              "    <tr>\n",
              "      <th>103225</th>\n",
              "      <td>39951</td>\n",
              "      <td>9709</td>\n",
              "      <td>1</td>\n",
              "      <td>0</td>\n",
              "      <td>0.0</td>\n",
              "      <td>0.042032</td>\n",
              "      <td>0.50</td>\n",
              "      <td>무배당 프로미라이프 실손의료비보험2001</td>\n",
              "      <td>-0.033275</td>\n",
              "    </tr>\n",
              "  </tbody>\n",
              "</table>\n",
              "<p>5166 rows × 9 columns</p>\n",
              "</div>"
            ],
            "text/plain": [
              "        c_idx  s_idx  sex  ...  ins_cat                          ins_name  gar_count\n",
              "0           2  26394    1  ...     0.25          무배당 프로미라이프 참좋은운전자+보험1908  -0.038529\n",
              "6           4  20024    0  ...     0.00          무배당 프로미라이프 참좋은치아사랑보험1904  -0.036778\n",
              "13          8  27841    0  ...     0.00      무배당 프로미라이프 참좋은행복플러스+종합보험1911  -0.007005\n",
              "37         15  16512    0  ...     0.25          무배당 프로미라이프 참좋은운전자+보험1908  -0.031524\n",
              "47         21  27840    1  ...     0.50  무배당 프로미라이프 아이(I)러브(LOVE)건강보험2001  -0.008757\n",
              "...       ...    ...  ...  ...      ...                               ...        ...\n",
              "103137  39914  41392    1  ...     0.50            무배당 프로미라이프 실손의료비보험2001  -0.033275\n",
              "103147  39929  43614    0  ...     0.50            무배당 프로미라이프 실손의료비보험2001  -0.033275\n",
              "103156  39930  46077    0  ...     0.25          무배당 프로미라이프 참좋은운전자+보험1908  -0.012259\n",
              "103177  39931  46435    1  ...     0.25       무배당 프로미라이프 참좋은운전자보험(TM)1908  -0.012259\n",
              "103225  39951   9709    1  ...     0.50            무배당 프로미라이프 실손의료비보험2001  -0.033275\n",
              "\n",
              "[5166 rows x 9 columns]"
            ]
          },
          "metadata": {
            "tags": []
          },
          "execution_count": 357
        }
      ]
    },
    {
      "cell_type": "code",
      "metadata": {
        "id": "B3PVv1BsR8GR",
        "colab_type": "code",
        "colab": {
          "base_uri": "https://localhost:8080/",
          "height": 421
        },
        "outputId": "661f986e-c91d-474a-b96c-5aea8b98be67"
      },
      "source": [
        "pop_df.groupby(\"occupation\").sum()"
      ],
      "execution_count": 358,
      "outputs": [
        {
          "output_type": "execute_result",
          "data": {
            "text/html": [
              "<div>\n",
              "<style scoped>\n",
              "    .dataframe tbody tr th:only-of-type {\n",
              "        vertical-align: middle;\n",
              "    }\n",
              "\n",
              "    .dataframe tbody tr th {\n",
              "        vertical-align: top;\n",
              "    }\n",
              "\n",
              "    .dataframe thead th {\n",
              "        text-align: right;\n",
              "    }\n",
              "</style>\n",
              "<table border=\"1\" class=\"dataframe\">\n",
              "  <thead>\n",
              "    <tr style=\"text-align: right;\">\n",
              "      <th></th>\n",
              "      <th>c_idx</th>\n",
              "      <th>s_idx</th>\n",
              "      <th>sex</th>\n",
              "      <th>age</th>\n",
              "      <th>gis</th>\n",
              "      <th>ins_cat</th>\n",
              "      <th>gar_count</th>\n",
              "    </tr>\n",
              "    <tr>\n",
              "      <th>occupation</th>\n",
              "      <th></th>\n",
              "      <th></th>\n",
              "      <th></th>\n",
              "      <th></th>\n",
              "      <th></th>\n",
              "      <th></th>\n",
              "      <th></th>\n",
              "    </tr>\n",
              "  </thead>\n",
              "  <tbody>\n",
              "    <tr>\n",
              "      <th>0.0</th>\n",
              "      <td>27306181</td>\n",
              "      <td>32541275</td>\n",
              "      <td>919</td>\n",
              "      <td>2861</td>\n",
              "      <td>224.129597</td>\n",
              "      <td>409.25</td>\n",
              "      <td>-23.462347</td>\n",
              "    </tr>\n",
              "    <tr>\n",
              "      <th>0.1</th>\n",
              "      <td>14043541</td>\n",
              "      <td>13407700</td>\n",
              "      <td>289</td>\n",
              "      <td>1640</td>\n",
              "      <td>111.691769</td>\n",
              "      <td>145.25</td>\n",
              "      <td>-10.105079</td>\n",
              "    </tr>\n",
              "    <tr>\n",
              "      <th>0.2</th>\n",
              "      <td>6838123</td>\n",
              "      <td>8182577</td>\n",
              "      <td>196</td>\n",
              "      <td>1051</td>\n",
              "      <td>46.817863</td>\n",
              "      <td>83.25</td>\n",
              "      <td>-6.348511</td>\n",
              "    </tr>\n",
              "    <tr>\n",
              "      <th>0.3</th>\n",
              "      <td>5162409</td>\n",
              "      <td>6333107</td>\n",
              "      <td>74</td>\n",
              "      <td>889</td>\n",
              "      <td>45.451839</td>\n",
              "      <td>61.25</td>\n",
              "      <td>-5.350263</td>\n",
              "    </tr>\n",
              "    <tr>\n",
              "      <th>0.4</th>\n",
              "      <td>16512860</td>\n",
              "      <td>16272791</td>\n",
              "      <td>347</td>\n",
              "      <td>1896</td>\n",
              "      <td>132.985989</td>\n",
              "      <td>173.75</td>\n",
              "      <td>-10.854641</td>\n",
              "    </tr>\n",
              "    <tr>\n",
              "      <th>0.5</th>\n",
              "      <td>7276501</td>\n",
              "      <td>10665911</td>\n",
              "      <td>19</td>\n",
              "      <td>1516</td>\n",
              "      <td>62.366025</td>\n",
              "      <td>103.75</td>\n",
              "      <td>-7.008757</td>\n",
              "    </tr>\n",
              "    <tr>\n",
              "      <th>0.6</th>\n",
              "      <td>14478762</td>\n",
              "      <td>16952875</td>\n",
              "      <td>215</td>\n",
              "      <td>2227</td>\n",
              "      <td>158.504378</td>\n",
              "      <td>175.00</td>\n",
              "      <td>-13.593695</td>\n",
              "    </tr>\n",
              "    <tr>\n",
              "      <th>0.7</th>\n",
              "      <td>6797708</td>\n",
              "      <td>7504578</td>\n",
              "      <td>39</td>\n",
              "      <td>1026</td>\n",
              "      <td>50.150613</td>\n",
              "      <td>67.00</td>\n",
              "      <td>-5.345009</td>\n",
              "    </tr>\n",
              "    <tr>\n",
              "      <th>0.8</th>\n",
              "      <td>8624643</td>\n",
              "      <td>8945280</td>\n",
              "      <td>230</td>\n",
              "      <td>1095</td>\n",
              "      <td>61.345009</td>\n",
              "      <td>90.25</td>\n",
              "      <td>-6.868651</td>\n",
              "    </tr>\n",
              "    <tr>\n",
              "      <th>0.9</th>\n",
              "      <td>135515</td>\n",
              "      <td>245433</td>\n",
              "      <td>2</td>\n",
              "      <td>35</td>\n",
              "      <td>1.612960</td>\n",
              "      <td>1.75</td>\n",
              "      <td>-0.161121</td>\n",
              "    </tr>\n",
              "    <tr>\n",
              "      <th>1.0</th>\n",
              "      <td>638405</td>\n",
              "      <td>511779</td>\n",
              "      <td>2</td>\n",
              "      <td>32</td>\n",
              "      <td>2.105079</td>\n",
              "      <td>6.25</td>\n",
              "      <td>-0.255692</td>\n",
              "    </tr>\n",
              "  </tbody>\n",
              "</table>\n",
              "</div>"
            ],
            "text/plain": [
              "               c_idx     s_idx  sex   age         gis  ins_cat  gar_count\n",
              "occupation                                                               \n",
              "0.0         27306181  32541275  919  2861  224.129597   409.25 -23.462347\n",
              "0.1         14043541  13407700  289  1640  111.691769   145.25 -10.105079\n",
              "0.2          6838123   8182577  196  1051   46.817863    83.25  -6.348511\n",
              "0.3          5162409   6333107   74   889   45.451839    61.25  -5.350263\n",
              "0.4         16512860  16272791  347  1896  132.985989   173.75 -10.854641\n",
              "0.5          7276501  10665911   19  1516   62.366025   103.75  -7.008757\n",
              "0.6         14478762  16952875  215  2227  158.504378   175.00 -13.593695\n",
              "0.7          6797708   7504578   39  1026   50.150613    67.00  -5.345009\n",
              "0.8          8624643   8945280  230  1095   61.345009    90.25  -6.868651\n",
              "0.9           135515    245433    2    35    1.612960     1.75  -0.161121\n",
              "1.0           638405    511779    2    32    2.105079     6.25  -0.255692"
            ]
          },
          "metadata": {
            "tags": []
          },
          "execution_count": 358
        }
      ]
    },
    {
      "cell_type": "code",
      "metadata": {
        "id": "b96zAP4jN3lW",
        "colab_type": "code",
        "colab": {
          "base_uri": "https://localhost:8080/",
          "height": 221
        },
        "outputId": "074a5a58-be76-4d91-8c6e-23903e3d6a95"
      },
      "source": [
        "# 직업 군별 점유율\n",
        "pop_df[\"occupation\"].value_counts()/pop_df[\"occupation\"].value_counts().sum()*100"
      ],
      "execution_count": 359,
      "outputs": [
        {
          "output_type": "execute_result",
          "data": {
            "text/plain": [
              "0.0    25.725900\n",
              "0.6    14.324429\n",
              "0.4    13.704994\n",
              "0.1    11.420828\n",
              "0.5     8.749516\n",
              "0.8     7.200929\n",
              "0.2     6.813782\n",
              "0.7     6.252420\n",
              "0.3     5.207123\n",
              "1.0     0.406504\n",
              "0.9     0.193573\n",
              "Name: occupation, dtype: float64"
            ]
          },
          "metadata": {
            "tags": []
          },
          "execution_count": 359
        }
      ]
    },
    {
      "cell_type": "code",
      "metadata": {
        "id": "EuDcUpYNs0eR",
        "colab_type": "code",
        "colab": {
          "base_uri": "https://localhost:8080/",
          "height": 102
        },
        "outputId": "dc07fe4d-7588-4490-c06a-710d3bcbeba7"
      },
      "source": [
        "# 질병,운전자,상해가 비슷한 특약 양상을 보임\n",
        "pivot = pd.crosstab(pop_df[\"ins_cat\"],pop_df[\"gar_count\"]).sum(axis=1)\n",
        "pivot"
      ],
      "execution_count": 360,
      "outputs": [
        {
          "output_type": "execute_result",
          "data": {
            "text/plain": [
              "ins_cat\n",
              "0.00    1582\n",
              "0.25    1901\n",
              "0.50    1683\n",
              "dtype: int64"
            ]
          },
          "metadata": {
            "tags": []
          },
          "execution_count": 360
        }
      ]
    },
    {
      "cell_type": "markdown",
      "metadata": {
        "id": "_E64oN0-lc24",
        "colab_type": "text"
      },
      "source": [
        "- randomforest"
      ]
    },
    {
      "cell_type": "code",
      "metadata": {
        "id": "sk6fWT-xlh5h",
        "colab_type": "code",
        "colab": {}
      },
      "source": [
        "from sklearn.ensemble import RandomForestClassifier\n",
        "from sklearn.utils import shuffle\n",
        "from sklearn.model_selection import train_test_split"
      ],
      "execution_count": 0,
      "outputs": []
    },
    {
      "cell_type": "code",
      "metadata": {
        "id": "gqbwcXcgKz5y",
        "colab_type": "code",
        "colab": {}
      },
      "source": [
        "pop_df = shuffle(pop_df)\n",
        "data = pop_df.drop(['c_idx','s_idx','ins_name'], axis=1)\n",
        "label = pop_df[\"ins_name\"]\n",
        "\n",
        "train_data, test_data, train_label, test_label = train_test_split(data,label)\n",
        "\n",
        "train_data.to_excel(\"/content/drive/My Drive/insuretech/train_data.xlsx\")\n",
        "test_data.to_excel(\"/content/drive/My Drive/insuretech/test_data.xlsx\")\n",
        "\n",
        "train_label.to_excel(\"/content/drive/My Drive/insuretech/train_label.xlsx\")\n",
        "test_label.to_excel(\"/content/drive/My Drive/insuretech/test_label.xlsx\")\n"
      ],
      "execution_count": 0,
      "outputs": []
    },
    {
      "cell_type": "code",
      "metadata": {
        "id": "6zHavHh-OP5N",
        "colab_type": "code",
        "outputId": "eaefd21d-9c8c-44a9-9f6b-5cb60eddab92",
        "colab": {
          "base_uri": "https://localhost:8080/",
          "height": 235
        }
      },
      "source": [
        "test_data.head()\n",
        "pd.crosstab(pop_df[\"age\"],pop_df[\"ins_cat\"])"
      ],
      "execution_count": 363,
      "outputs": [
        {
          "output_type": "execute_result",
          "data": {
            "text/html": [
              "<div>\n",
              "<style scoped>\n",
              "    .dataframe tbody tr th:only-of-type {\n",
              "        vertical-align: middle;\n",
              "    }\n",
              "\n",
              "    .dataframe tbody tr th {\n",
              "        vertical-align: top;\n",
              "    }\n",
              "\n",
              "    .dataframe thead th {\n",
              "        text-align: right;\n",
              "    }\n",
              "</style>\n",
              "<table border=\"1\" class=\"dataframe\">\n",
              "  <thead>\n",
              "    <tr style=\"text-align: right;\">\n",
              "      <th>ins_cat</th>\n",
              "      <th>0.00</th>\n",
              "      <th>0.25</th>\n",
              "      <th>0.50</th>\n",
              "    </tr>\n",
              "    <tr>\n",
              "      <th>age</th>\n",
              "      <th></th>\n",
              "      <th></th>\n",
              "      <th></th>\n",
              "    </tr>\n",
              "  </thead>\n",
              "  <tbody>\n",
              "    <tr>\n",
              "      <th>0</th>\n",
              "      <td>8</td>\n",
              "      <td>0</td>\n",
              "      <td>225</td>\n",
              "    </tr>\n",
              "    <tr>\n",
              "      <th>1</th>\n",
              "      <td>85</td>\n",
              "      <td>105</td>\n",
              "      <td>290</td>\n",
              "    </tr>\n",
              "    <tr>\n",
              "      <th>2</th>\n",
              "      <td>287</td>\n",
              "      <td>294</td>\n",
              "      <td>412</td>\n",
              "    </tr>\n",
              "    <tr>\n",
              "      <th>3</th>\n",
              "      <td>764</td>\n",
              "      <td>785</td>\n",
              "      <td>489</td>\n",
              "    </tr>\n",
              "    <tr>\n",
              "      <th>4</th>\n",
              "      <td>438</td>\n",
              "      <td>717</td>\n",
              "      <td>267</td>\n",
              "    </tr>\n",
              "  </tbody>\n",
              "</table>\n",
              "</div>"
            ],
            "text/plain": [
              "ins_cat  0.00  0.25  0.50\n",
              "age                      \n",
              "0           8     0   225\n",
              "1          85   105   290\n",
              "2         287   294   412\n",
              "3         764   785   489\n",
              "4         438   717   267"
            ]
          },
          "metadata": {
            "tags": []
          },
          "execution_count": 363
        }
      ]
    },
    {
      "cell_type": "code",
      "metadata": {
        "id": "Md7fztScPLIY",
        "colab_type": "code",
        "outputId": "7331bcf9-0833-4547-d17d-ef62e3ddd6cc",
        "colab": {
          "base_uri": "https://localhost:8080/",
          "height": 306
        }
      },
      "source": [
        "from sklearn import metrics\n",
        "\n",
        "clf = RandomForestClassifier(n_estimators=100)\n",
        "clf.fit(train_data,train_label)\n",
        "pre = clf.predict(test_data)\n",
        "report = metrics.classification_report(pre,test_label)\n",
        "print(report)"
      ],
      "execution_count": 364,
      "outputs": [
        {
          "output_type": "stream",
          "text": [
            "                                  precision    recall  f1-score   support\n",
            "\n",
            "        무배당 프로미라이프 스마트가정보장보험1904       0.80      0.85      0.82        46\n",
            "   무배당 프로미라이프 실손의료비보험(계약전환용)2001       0.33      0.58      0.42        24\n",
            "          무배당 프로미라이프 실손의료비보험2001       0.93      0.84      0.88       246\n",
            "무배당 프로미라이프 아이(I)러브(LOVE)건강보험2001       0.89      0.93      0.91        96\n",
            "  무배당 프로미라이프 참좋은 훼밀리플러스+종합보험1911       0.26      0.41      0.32        83\n",
            "        무배당 프로미라이프 참좋은간편건강보험1906       0.69      0.55      0.61       132\n",
            "        무배당 프로미라이프 참좋은운전자+보험1908       0.91      0.77      0.83       416\n",
            "     무배당 프로미라이프 참좋은운전자보험(TM)1908       0.19      0.40      0.26        55\n",
            "        무배당 프로미라이프 참좋은치아사랑보험1904       0.68      0.47      0.56        40\n",
            "    무배당 프로미라이프 참좋은행복플러스+종합보험1911       0.47      0.45      0.46       154\n",
            "\n",
            "                        accuracy                           0.68      1292\n",
            "                       macro avg       0.61      0.62      0.61      1292\n",
            "                    weighted avg       0.74      0.68      0.71      1292\n",
            "\n"
          ],
          "name": "stdout"
        }
      ]
    }
  ]
}