{
  "nbformat": 4,
  "nbformat_minor": 0,
  "metadata": {
    "colab": {
      "name": "kisa_insure.ipynb",
      "provenance": [],
      "collapsed_sections": [],
      "mount_file_id": "1MjVcO-f7qgJMxMUDQAHT0PlWu-LSxPfM",
      "authorship_tag": "ABX9TyOi+4E/Ew7FUGLEpMFN5OSq",
      "include_colab_link": true
    },
    "kernelspec": {
      "name": "python3",
      "display_name": "Python 3"
    }
  },
  "cells": [
    {
      "cell_type": "markdown",
      "metadata": {
        "id": "view-in-github",
        "colab_type": "text"
      },
      "source": [
        "<a href=\"https://colab.research.google.com/github/Rekt77/kisa_insuretech/blob/master/kisa_insure.ipynb\" target=\"_parent\"><img src=\"https://colab.research.google.com/assets/colab-badge.svg\" alt=\"Open In Colab\"/></a>"
      ]
    },
    {
      "cell_type": "code",
      "metadata": {
        "id": "rb_TdjTUfcAI",
        "colab_type": "code",
        "colab": {
          "base_uri": "https://localhost:8080/",
          "height": 75
        },
        "outputId": "b427b9a1-e463-4172-d345-4541c582c0fa"
      },
      "source": [
        "%matplotlib inline\n",
        "import pandas as pd\n",
        "import numpy as np\n",
        "import matplotlib.pyplot as plt\n",
        "import seaborn as sns\n",
        "import json\n",
        "from pandas.io.json import json_normalize\n",
        "from wordcloud import WordCloud, STOPWORDS"
      ],
      "execution_count": null,
      "outputs": [
        {
          "output_type": "stream",
          "text": [
            "/usr/local/lib/python3.6/dist-packages/statsmodels/tools/_testing.py:19: FutureWarning: pandas.util.testing is deprecated. Use the functions in the public API at pandas.testing instead.\n",
            "  import pandas.util.testing as tm\n"
          ],
          "name": "stderr"
        }
      ]
    },
    {
      "cell_type": "code",
      "metadata": {
        "id": "rzbYsQC_ezj_",
        "colab_type": "code",
        "colab": {}
      },
      "source": [
        "df = pd.read_excel(\"/content/drive/My Drive/insuretech/insurance/kisa_insurance.xlsx\")"
      ],
      "execution_count": null,
      "outputs": []
    },
    {
      "cell_type": "code",
      "metadata": {
        "id": "kq-pxO02AvvU",
        "colab_type": "code",
        "colab": {
          "base_uri": "https://localhost:8080/",
          "height": 1000
        },
        "outputId": "ab44ea91-ce19-4b6a-943c-e246ee01f79f"
      },
      "source": [
        "df.head(15)"
      ],
      "execution_count": null,
      "outputs": [
        {
          "output_type": "execute_result",
          "data": {
            "text/html": [
              "<div>\n",
              "<style scoped>\n",
              "    .dataframe tbody tr th:only-of-type {\n",
              "        vertical-align: middle;\n",
              "    }\n",
              "\n",
              "    .dataframe tbody tr th {\n",
              "        vertical-align: top;\n",
              "    }\n",
              "\n",
              "    .dataframe thead th {\n",
              "        text-align: right;\n",
              "    }\n",
              "</style>\n",
              "<table border=\"1\" class=\"dataframe\">\n",
              "  <thead>\n",
              "    <tr style=\"text-align: right;\">\n",
              "      <th></th>\n",
              "      <th>고객번호</th>\n",
              "      <th>증권번호</th>\n",
              "      <th>피보험자성별명</th>\n",
              "      <th>피보험자연령</th>\n",
              "      <th>피보험자직업대분류명</th>\n",
              "      <th>피보험자직업중분류명</th>\n",
              "      <th>피보험자직업소분류명</th>\n",
              "      <th>피보험자직업세분류명</th>\n",
              "      <th>시도명</th>\n",
              "      <th>군구명</th>\n",
              "      <th>상품군명</th>\n",
              "      <th>상품명</th>\n",
              "      <th>담보분류유형명</th>\n",
              "      <th>장기담보군명</th>\n",
              "      <th>담보특약명</th>\n",
              "    </tr>\n",
              "  </thead>\n",
              "  <tbody>\n",
              "    <tr>\n",
              "      <th>0</th>\n",
              "      <td>2</td>\n",
              "      <td>26394</td>\n",
              "      <td>여자</td>\n",
              "      <td>21</td>\n",
              "      <td>주부, 학생 및 기타 비경제활동인구</td>\n",
              "      <td>고등학생 및 주부, 무직</td>\n",
              "      <td>고등학생</td>\n",
              "      <td>고등학생</td>\n",
              "      <td>서울</td>\n",
              "      <td>노원구</td>\n",
              "      <td>장기/운전자</td>\n",
              "      <td>무배당 프로미라이프 참좋은운전자+보험1908</td>\n",
              "      <td>상해</td>\n",
              "      <td>상해후유장해</td>\n",
              "      <td>교통상해50%이상후유장해(1회한)</td>\n",
              "    </tr>\n",
              "    <tr>\n",
              "      <th>1</th>\n",
              "      <td>2</td>\n",
              "      <td>26394</td>\n",
              "      <td>여자</td>\n",
              "      <td>21</td>\n",
              "      <td>주부, 학생 및 기타 비경제활동인구</td>\n",
              "      <td>고등학생 및 주부, 무직</td>\n",
              "      <td>고등학생</td>\n",
              "      <td>고등학생</td>\n",
              "      <td>서울</td>\n",
              "      <td>노원구</td>\n",
              "      <td>장기/운전자</td>\n",
              "      <td>무배당 프로미라이프 참좋은운전자+보험1908</td>\n",
              "      <td>기타/인</td>\n",
              "      <td>비용기타</td>\n",
              "      <td>행정소송법률비용손해(실손)</td>\n",
              "    </tr>\n",
              "    <tr>\n",
              "      <th>2</th>\n",
              "      <td>2</td>\n",
              "      <td>26394</td>\n",
              "      <td>여자</td>\n",
              "      <td>21</td>\n",
              "      <td>주부, 학생 및 기타 비경제활동인구</td>\n",
              "      <td>고등학생 및 주부, 무직</td>\n",
              "      <td>고등학생</td>\n",
              "      <td>고등학생</td>\n",
              "      <td>서울</td>\n",
              "      <td>노원구</td>\n",
              "      <td>장기/운전자</td>\n",
              "      <td>무배당 프로미라이프 참좋은운전자+보험1908</td>\n",
              "      <td>상해</td>\n",
              "      <td>상해사망·후유장해</td>\n",
              "      <td>상해사망</td>\n",
              "    </tr>\n",
              "    <tr>\n",
              "      <th>3</th>\n",
              "      <td>2</td>\n",
              "      <td>26394</td>\n",
              "      <td>여자</td>\n",
              "      <td>21</td>\n",
              "      <td>주부, 학생 및 기타 비경제활동인구</td>\n",
              "      <td>고등학생 및 주부, 무직</td>\n",
              "      <td>고등학생</td>\n",
              "      <td>고등학생</td>\n",
              "      <td>서울</td>\n",
              "      <td>노원구</td>\n",
              "      <td>장기/운전자</td>\n",
              "      <td>무배당 프로미라이프 참좋은운전자+보험1908</td>\n",
              "      <td>상해</td>\n",
              "      <td>상해사망·후유장해</td>\n",
              "      <td>교통상해사망</td>\n",
              "    </tr>\n",
              "    <tr>\n",
              "      <th>4</th>\n",
              "      <td>2</td>\n",
              "      <td>26394</td>\n",
              "      <td>여자</td>\n",
              "      <td>21</td>\n",
              "      <td>주부, 학생 및 기타 비경제활동인구</td>\n",
              "      <td>고등학생 및 주부, 무직</td>\n",
              "      <td>고등학생</td>\n",
              "      <td>고등학생</td>\n",
              "      <td>서울</td>\n",
              "      <td>노원구</td>\n",
              "      <td>장기/운전자</td>\n",
              "      <td>무배당 프로미라이프 참좋은운전자+보험1908</td>\n",
              "      <td>기타/인</td>\n",
              "      <td>비용기타</td>\n",
              "      <td>법률비용손해(실손)</td>\n",
              "    </tr>\n",
              "    <tr>\n",
              "      <th>5</th>\n",
              "      <td>2</td>\n",
              "      <td>26394</td>\n",
              "      <td>여자</td>\n",
              "      <td>21</td>\n",
              "      <td>주부, 학생 및 기타 비경제활동인구</td>\n",
              "      <td>고등학생 및 주부, 무직</td>\n",
              "      <td>고등학생</td>\n",
              "      <td>고등학생</td>\n",
              "      <td>서울</td>\n",
              "      <td>노원구</td>\n",
              "      <td>장기/운전자</td>\n",
              "      <td>무배당 프로미라이프 참좋은운전자+보험1908</td>\n",
              "      <td>운전중손해</td>\n",
              "      <td>상해기타</td>\n",
              "      <td>자동차부상치료비(1~5급)</td>\n",
              "    </tr>\n",
              "    <tr>\n",
              "      <th>6</th>\n",
              "      <td>4</td>\n",
              "      <td>20024</td>\n",
              "      <td>남자</td>\n",
              "      <td>21</td>\n",
              "      <td>주부, 학생 및 기타 비경제활동인구</td>\n",
              "      <td>고등학생 및 주부, 무직</td>\n",
              "      <td>고등학생</td>\n",
              "      <td>고등학생</td>\n",
              "      <td>서울</td>\n",
              "      <td>도봉구</td>\n",
              "      <td>장기/질병</td>\n",
              "      <td>무배당 프로미라이프 참좋은치아사랑보험1904</td>\n",
              "      <td>질병</td>\n",
              "      <td>질병기타</td>\n",
              "      <td>치주질환치료비(20년만기자동갱신)</td>\n",
              "    </tr>\n",
              "    <tr>\n",
              "      <th>7</th>\n",
              "      <td>4</td>\n",
              "      <td>20024</td>\n",
              "      <td>남자</td>\n",
              "      <td>21</td>\n",
              "      <td>주부, 학생 및 기타 비경제활동인구</td>\n",
              "      <td>고등학생 및 주부, 무직</td>\n",
              "      <td>고등학생</td>\n",
              "      <td>고등학생</td>\n",
              "      <td>서울</td>\n",
              "      <td>도봉구</td>\n",
              "      <td>장기/질병</td>\n",
              "      <td>무배당 프로미라이프 참좋은치아사랑보험1904</td>\n",
              "      <td>질병</td>\n",
              "      <td>질병기타</td>\n",
              "      <td>특정치석제거(스케일링)치료비(20년만기자동갱신)</td>\n",
              "    </tr>\n",
              "    <tr>\n",
              "      <th>8</th>\n",
              "      <td>4</td>\n",
              "      <td>20024</td>\n",
              "      <td>남자</td>\n",
              "      <td>21</td>\n",
              "      <td>주부, 학생 및 기타 비경제활동인구</td>\n",
              "      <td>고등학생 및 주부, 무직</td>\n",
              "      <td>고등학생</td>\n",
              "      <td>고등학생</td>\n",
              "      <td>서울</td>\n",
              "      <td>도봉구</td>\n",
              "      <td>장기/질병</td>\n",
              "      <td>무배당 프로미라이프 참좋은치아사랑보험1904</td>\n",
              "      <td>질병</td>\n",
              "      <td>질병기타</td>\n",
              "      <td>치아치수치료비(상해및질병)(유치,영구치)(20년만기자동갱신)</td>\n",
              "    </tr>\n",
              "    <tr>\n",
              "      <th>9</th>\n",
              "      <td>4</td>\n",
              "      <td>20024</td>\n",
              "      <td>남자</td>\n",
              "      <td>21</td>\n",
              "      <td>주부, 학생 및 기타 비경제활동인구</td>\n",
              "      <td>고등학생 및 주부, 무직</td>\n",
              "      <td>고등학생</td>\n",
              "      <td>고등학생</td>\n",
              "      <td>서울</td>\n",
              "      <td>도봉구</td>\n",
              "      <td>장기/질병</td>\n",
              "      <td>무배당 프로미라이프 참좋은치아사랑보험1904</td>\n",
              "      <td>상해</td>\n",
              "      <td>질병기타</td>\n",
              "      <td>영구치보철치료비(상해및질병)(20년만기자동갱신)</td>\n",
              "    </tr>\n",
              "    <tr>\n",
              "      <th>10</th>\n",
              "      <td>4</td>\n",
              "      <td>20024</td>\n",
              "      <td>남자</td>\n",
              "      <td>21</td>\n",
              "      <td>주부, 학생 및 기타 비경제활동인구</td>\n",
              "      <td>고등학생 및 주부, 무직</td>\n",
              "      <td>고등학생</td>\n",
              "      <td>고등학생</td>\n",
              "      <td>서울</td>\n",
              "      <td>도봉구</td>\n",
              "      <td>장기/질병</td>\n",
              "      <td>무배당 프로미라이프 참좋은치아사랑보험1904</td>\n",
              "      <td>질병</td>\n",
              "      <td>질병기타</td>\n",
              "      <td>X-Ray및파노라마치아촬영비(20년만기자동갱신)</td>\n",
              "    </tr>\n",
              "    <tr>\n",
              "      <th>11</th>\n",
              "      <td>4</td>\n",
              "      <td>20024</td>\n",
              "      <td>남자</td>\n",
              "      <td>21</td>\n",
              "      <td>주부, 학생 및 기타 비경제활동인구</td>\n",
              "      <td>고등학생 및 주부, 무직</td>\n",
              "      <td>고등학생</td>\n",
              "      <td>고등학생</td>\n",
              "      <td>서울</td>\n",
              "      <td>도봉구</td>\n",
              "      <td>장기/질병</td>\n",
              "      <td>무배당 프로미라이프 참좋은치아사랑보험1904</td>\n",
              "      <td>질병</td>\n",
              "      <td>질병기타</td>\n",
              "      <td>치아보존치료비(상해및질병)(유치,영구치)(크라운 무제한)(20년만기자동갱신)</td>\n",
              "    </tr>\n",
              "    <tr>\n",
              "      <th>12</th>\n",
              "      <td>4</td>\n",
              "      <td>20024</td>\n",
              "      <td>남자</td>\n",
              "      <td>21</td>\n",
              "      <td>주부, 학생 및 기타 비경제활동인구</td>\n",
              "      <td>고등학생 및 주부, 무직</td>\n",
              "      <td>고등학생</td>\n",
              "      <td>고등학생</td>\n",
              "      <td>서울</td>\n",
              "      <td>도봉구</td>\n",
              "      <td>장기/질병</td>\n",
              "      <td>무배당 프로미라이프 참좋은치아사랑보험1904</td>\n",
              "      <td>상해</td>\n",
              "      <td>질병기타</td>\n",
              "      <td>영구치상실치료비(상해및질병)(20년만기자동갱신)</td>\n",
              "    </tr>\n",
              "    <tr>\n",
              "      <th>13</th>\n",
              "      <td>8</td>\n",
              "      <td>27841</td>\n",
              "      <td>남자</td>\n",
              "      <td>21</td>\n",
              "      <td>주부, 학생 및 기타 비경제활동인구</td>\n",
              "      <td>고등학생 및 주부, 무직</td>\n",
              "      <td>고등학생</td>\n",
              "      <td>고등학생</td>\n",
              "      <td>서울</td>\n",
              "      <td>동대문구</td>\n",
              "      <td>장기/질병</td>\n",
              "      <td>무배당 프로미라이프 참좋은행복플러스+종합보험1911</td>\n",
              "      <td>질병</td>\n",
              "      <td>질병기타</td>\n",
              "      <td>충수염수술비</td>\n",
              "    </tr>\n",
              "    <tr>\n",
              "      <th>14</th>\n",
              "      <td>8</td>\n",
              "      <td>27841</td>\n",
              "      <td>남자</td>\n",
              "      <td>21</td>\n",
              "      <td>주부, 학생 및 기타 비경제활동인구</td>\n",
              "      <td>고등학생 및 주부, 무직</td>\n",
              "      <td>고등학생</td>\n",
              "      <td>고등학생</td>\n",
              "      <td>서울</td>\n",
              "      <td>동대문구</td>\n",
              "      <td>장기/질병</td>\n",
              "      <td>무배당 프로미라이프 참좋은행복플러스+종합보험1911</td>\n",
              "      <td>질병</td>\n",
              "      <td>질병기타</td>\n",
              "      <td>40대질병수술비(특정다빈도3대질병)</td>\n",
              "    </tr>\n",
              "  </tbody>\n",
              "</table>\n",
              "</div>"
            ],
            "text/plain": [
              "    고객번호   증권번호  ...     장기담보군명                                       담보특약명\n",
              "0      2  26394  ...     상해후유장해                          교통상해50%이상후유장해(1회한)\n",
              "1      2  26394  ...       비용기타                              행정소송법률비용손해(실손)\n",
              "2      2  26394  ...  상해사망·후유장해                                        상해사망\n",
              "3      2  26394  ...  상해사망·후유장해                                      교통상해사망\n",
              "4      2  26394  ...       비용기타                                  법률비용손해(실손)\n",
              "5      2  26394  ...       상해기타                              자동차부상치료비(1~5급)\n",
              "6      4  20024  ...       질병기타                          치주질환치료비(20년만기자동갱신)\n",
              "7      4  20024  ...       질병기타                  특정치석제거(스케일링)치료비(20년만기자동갱신)\n",
              "8      4  20024  ...       질병기타           치아치수치료비(상해및질병)(유치,영구치)(20년만기자동갱신)\n",
              "9      4  20024  ...       질병기타                  영구치보철치료비(상해및질병)(20년만기자동갱신)\n",
              "10     4  20024  ...       질병기타                  X-Ray및파노라마치아촬영비(20년만기자동갱신)\n",
              "11     4  20024  ...       질병기타  치아보존치료비(상해및질병)(유치,영구치)(크라운 무제한)(20년만기자동갱신)\n",
              "12     4  20024  ...       질병기타                  영구치상실치료비(상해및질병)(20년만기자동갱신)\n",
              "13     8  27841  ...       질병기타                                      충수염수술비\n",
              "14     8  27841  ...       질병기타                         40대질병수술비(특정다빈도3대질병)\n",
              "\n",
              "[15 rows x 15 columns]"
            ]
          },
          "metadata": {
            "tags": []
          },
          "execution_count": 4
        }
      ]
    },
    {
      "cell_type": "code",
      "metadata": {
        "id": "NGoOw98KBZlh",
        "colab_type": "code",
        "colab": {
          "base_uri": "https://localhost:8080/",
          "height": 428
        },
        "outputId": "d8b5cffb-de0d-47b4-e3f7-c4cf58f45f03"
      },
      "source": [
        "# info를 통해서 결측치 확인\n",
        "df.info()"
      ],
      "execution_count": null,
      "outputs": [
        {
          "output_type": "stream",
          "text": [
            "<class 'pandas.core.frame.DataFrame'>\n",
            "RangeIndex: 103234 entries, 0 to 103233\n",
            "Data columns (total 15 columns):\n",
            " #   Column      Non-Null Count   Dtype \n",
            "---  ------      --------------   ----- \n",
            " 0   고객번호        103234 non-null  int64 \n",
            " 1   증권번호        103234 non-null  int64 \n",
            " 2   피보험자성별명     103234 non-null  object\n",
            " 3   피보험자연령      103234 non-null  int64 \n",
            " 4   피보험자직업대분류명  103234 non-null  object\n",
            " 5   피보험자직업중분류명  103234 non-null  object\n",
            " 6   피보험자직업소분류명  103234 non-null  object\n",
            " 7   피보험자직업세분류명  103234 non-null  object\n",
            " 8   시도명         103234 non-null  object\n",
            " 9   군구명         103234 non-null  object\n",
            " 10  상품군명        103234 non-null  object\n",
            " 11  상품명         103234 non-null  object\n",
            " 12  담보분류유형명     101472 non-null  object\n",
            " 13  장기담보군명      103234 non-null  object\n",
            " 14  담보특약명       103234 non-null  object\n",
            "dtypes: int64(3), object(12)\n",
            "memory usage: 11.8+ MB\n"
          ],
          "name": "stdout"
        }
      ]
    },
    {
      "cell_type": "code",
      "metadata": {
        "id": "mZKJiFf5-ULb",
        "colab_type": "code",
        "colab": {}
      },
      "source": [
        "# 블랭크를 NaN처리\n",
        "def blank2Nan(x):\n",
        "  if x==\" \":\n",
        "    return None\n",
        "  else:\n",
        "    return x\n",
        "for col in df.columns:\n",
        "  df[col] = df[col].apply(blank2Nan)"
      ],
      "execution_count": null,
      "outputs": []
    },
    {
      "cell_type": "code",
      "metadata": {
        "id": "aInkW9V6-vlu",
        "colab_type": "code",
        "colab": {
          "base_uri": "https://localhost:8080/",
          "height": 428
        },
        "outputId": "cf8abad1-1410-456c-d10a-ffe005fb8bb0"
      },
      "source": [
        "# 결측치 재확인\n",
        "df.info()"
      ],
      "execution_count": null,
      "outputs": [
        {
          "output_type": "stream",
          "text": [
            "<class 'pandas.core.frame.DataFrame'>\n",
            "RangeIndex: 103234 entries, 0 to 103233\n",
            "Data columns (total 15 columns):\n",
            " #   Column      Non-Null Count   Dtype \n",
            "---  ------      --------------   ----- \n",
            " 0   고객번호        103234 non-null  int64 \n",
            " 1   증권번호        103234 non-null  int64 \n",
            " 2   피보험자성별명     103234 non-null  object\n",
            " 3   피보험자연령      103234 non-null  int64 \n",
            " 4   피보험자직업대분류명  103234 non-null  object\n",
            " 5   피보험자직업중분류명  70121 non-null   object\n",
            " 6   피보험자직업소분류명  55146 non-null   object\n",
            " 7   피보험자직업세분류명  45240 non-null   object\n",
            " 8   시도명         103234 non-null  object\n",
            " 9   군구명         103234 non-null  object\n",
            " 10  상품군명        103234 non-null  object\n",
            " 11  상품명         103234 non-null  object\n",
            " 12  담보분류유형명     101472 non-null  object\n",
            " 13  장기담보군명      103234 non-null  object\n",
            " 14  담보특약명       103234 non-null  object\n",
            "dtypes: int64(3), object(12)\n",
            "memory usage: 11.8+ MB\n"
          ],
          "name": "stdout"
        }
      ]
    },
    {
      "cell_type": "code",
      "metadata": {
        "id": "ZiSCA7hce_if",
        "colab_type": "code",
        "colab": {
          "base_uri": "https://localhost:8080/",
          "height": 410
        },
        "outputId": "43bb3284-ee07-4c6a-f27b-64d4636acfb6"
      },
      "source": [
        "# 컬럼이름 변경\n",
        "new_columns = ['c_idx','s_idx','sex','age','occupation','middle_div','small_div','sub_div','city','district','ins_cat','ins_name','gar_name','long_gar_cat','sp_term']\n",
        "df.columns = new_columns\n",
        "df.head()"
      ],
      "execution_count": null,
      "outputs": [
        {
          "output_type": "execute_result",
          "data": {
            "text/html": [
              "<div>\n",
              "<style scoped>\n",
              "    .dataframe tbody tr th:only-of-type {\n",
              "        vertical-align: middle;\n",
              "    }\n",
              "\n",
              "    .dataframe tbody tr th {\n",
              "        vertical-align: top;\n",
              "    }\n",
              "\n",
              "    .dataframe thead th {\n",
              "        text-align: right;\n",
              "    }\n",
              "</style>\n",
              "<table border=\"1\" class=\"dataframe\">\n",
              "  <thead>\n",
              "    <tr style=\"text-align: right;\">\n",
              "      <th></th>\n",
              "      <th>c_idx</th>\n",
              "      <th>s_idx</th>\n",
              "      <th>sex</th>\n",
              "      <th>age</th>\n",
              "      <th>occupation</th>\n",
              "      <th>middle_div</th>\n",
              "      <th>small_div</th>\n",
              "      <th>sub_div</th>\n",
              "      <th>city</th>\n",
              "      <th>district</th>\n",
              "      <th>ins_cat</th>\n",
              "      <th>ins_name</th>\n",
              "      <th>gar_name</th>\n",
              "      <th>long_gar_cat</th>\n",
              "      <th>sp_term</th>\n",
              "    </tr>\n",
              "  </thead>\n",
              "  <tbody>\n",
              "    <tr>\n",
              "      <th>0</th>\n",
              "      <td>2</td>\n",
              "      <td>26394</td>\n",
              "      <td>여자</td>\n",
              "      <td>21</td>\n",
              "      <td>주부, 학생 및 기타 비경제활동인구</td>\n",
              "      <td>고등학생 및 주부, 무직</td>\n",
              "      <td>고등학생</td>\n",
              "      <td>고등학생</td>\n",
              "      <td>서울</td>\n",
              "      <td>노원구</td>\n",
              "      <td>장기/운전자</td>\n",
              "      <td>무배당 프로미라이프 참좋은운전자+보험1908</td>\n",
              "      <td>상해</td>\n",
              "      <td>상해후유장해</td>\n",
              "      <td>교통상해50%이상후유장해(1회한)</td>\n",
              "    </tr>\n",
              "    <tr>\n",
              "      <th>1</th>\n",
              "      <td>2</td>\n",
              "      <td>26394</td>\n",
              "      <td>여자</td>\n",
              "      <td>21</td>\n",
              "      <td>주부, 학생 및 기타 비경제활동인구</td>\n",
              "      <td>고등학생 및 주부, 무직</td>\n",
              "      <td>고등학생</td>\n",
              "      <td>고등학생</td>\n",
              "      <td>서울</td>\n",
              "      <td>노원구</td>\n",
              "      <td>장기/운전자</td>\n",
              "      <td>무배당 프로미라이프 참좋은운전자+보험1908</td>\n",
              "      <td>기타/인</td>\n",
              "      <td>비용기타</td>\n",
              "      <td>행정소송법률비용손해(실손)</td>\n",
              "    </tr>\n",
              "    <tr>\n",
              "      <th>2</th>\n",
              "      <td>2</td>\n",
              "      <td>26394</td>\n",
              "      <td>여자</td>\n",
              "      <td>21</td>\n",
              "      <td>주부, 학생 및 기타 비경제활동인구</td>\n",
              "      <td>고등학생 및 주부, 무직</td>\n",
              "      <td>고등학생</td>\n",
              "      <td>고등학생</td>\n",
              "      <td>서울</td>\n",
              "      <td>노원구</td>\n",
              "      <td>장기/운전자</td>\n",
              "      <td>무배당 프로미라이프 참좋은운전자+보험1908</td>\n",
              "      <td>상해</td>\n",
              "      <td>상해사망·후유장해</td>\n",
              "      <td>상해사망</td>\n",
              "    </tr>\n",
              "    <tr>\n",
              "      <th>3</th>\n",
              "      <td>2</td>\n",
              "      <td>26394</td>\n",
              "      <td>여자</td>\n",
              "      <td>21</td>\n",
              "      <td>주부, 학생 및 기타 비경제활동인구</td>\n",
              "      <td>고등학생 및 주부, 무직</td>\n",
              "      <td>고등학생</td>\n",
              "      <td>고등학생</td>\n",
              "      <td>서울</td>\n",
              "      <td>노원구</td>\n",
              "      <td>장기/운전자</td>\n",
              "      <td>무배당 프로미라이프 참좋은운전자+보험1908</td>\n",
              "      <td>상해</td>\n",
              "      <td>상해사망·후유장해</td>\n",
              "      <td>교통상해사망</td>\n",
              "    </tr>\n",
              "    <tr>\n",
              "      <th>4</th>\n",
              "      <td>2</td>\n",
              "      <td>26394</td>\n",
              "      <td>여자</td>\n",
              "      <td>21</td>\n",
              "      <td>주부, 학생 및 기타 비경제활동인구</td>\n",
              "      <td>고등학생 및 주부, 무직</td>\n",
              "      <td>고등학생</td>\n",
              "      <td>고등학생</td>\n",
              "      <td>서울</td>\n",
              "      <td>노원구</td>\n",
              "      <td>장기/운전자</td>\n",
              "      <td>무배당 프로미라이프 참좋은운전자+보험1908</td>\n",
              "      <td>기타/인</td>\n",
              "      <td>비용기타</td>\n",
              "      <td>법률비용손해(실손)</td>\n",
              "    </tr>\n",
              "  </tbody>\n",
              "</table>\n",
              "</div>"
            ],
            "text/plain": [
              "   c_idx  s_idx sex  ...  gar_name long_gar_cat             sp_term\n",
              "0      2  26394  여자  ...        상해       상해후유장해  교통상해50%이상후유장해(1회한)\n",
              "1      2  26394  여자  ...      기타/인         비용기타      행정소송법률비용손해(실손)\n",
              "2      2  26394  여자  ...        상해    상해사망·후유장해                상해사망\n",
              "3      2  26394  여자  ...        상해    상해사망·후유장해              교통상해사망\n",
              "4      2  26394  여자  ...      기타/인         비용기타          법률비용손해(실손)\n",
              "\n",
              "[5 rows x 15 columns]"
            ]
          },
          "metadata": {
            "tags": []
          },
          "execution_count": 8
        }
      ]
    },
    {
      "cell_type": "code",
      "metadata": {
        "id": "lZGugWIyfaF7",
        "colab_type": "code",
        "colab": {
          "base_uri": "https://localhost:8080/",
          "height": 428
        },
        "outputId": "080a6525-982a-41fe-c8c8-aef07183ca72"
      },
      "source": [
        "# 데이터의 값을 확인\n",
        "df.info()"
      ],
      "execution_count": null,
      "outputs": [
        {
          "output_type": "stream",
          "text": [
            "<class 'pandas.core.frame.DataFrame'>\n",
            "RangeIndex: 103234 entries, 0 to 103233\n",
            "Data columns (total 15 columns):\n",
            " #   Column        Non-Null Count   Dtype \n",
            "---  ------        --------------   ----- \n",
            " 0   c_idx         103234 non-null  int64 \n",
            " 1   s_idx         103234 non-null  int64 \n",
            " 2   sex           103234 non-null  object\n",
            " 3   age           103234 non-null  int64 \n",
            " 4   occupation    103234 non-null  object\n",
            " 5   middle_div    70121 non-null   object\n",
            " 6   small_div     55146 non-null   object\n",
            " 7   sub_div       45240 non-null   object\n",
            " 8   city          103234 non-null  object\n",
            " 9   district      103234 non-null  object\n",
            " 10  ins_cat       103234 non-null  object\n",
            " 11  ins_name      103234 non-null  object\n",
            " 12  gar_name      101472 non-null  object\n",
            " 13  long_gar_cat  103234 non-null  object\n",
            " 14  sp_term       103234 non-null  object\n",
            "dtypes: int64(3), object(12)\n",
            "memory usage: 11.8+ MB\n"
          ],
          "name": "stdout"
        }
      ]
    },
    {
      "cell_type": "code",
      "metadata": {
        "id": "vFoy0cFUoMel",
        "colab_type": "code",
        "colab": {}
      },
      "source": [
        "from collections import Counter\n",
        "\n",
        "# occupation,age,sex를 추출\n",
        "pop_job = df.loc[:,[\"occupation\",\"age\",\"sex\"]]\n",
        "\n",
        "# Counter에 occupation의 값 넣고 값 확인\n",
        "# 직업별 출현횟수 딕셔너리로 리턴\n",
        "# 단어:출현횟수\n",
        "job_freq = Counter(pop_job[\"occupation\"])\n",
        "\n",
        "# 직업별 출현횟수를 키로 job_map을 제작\n",
        "job_map = {k:i for i,k in enumerate(job_freq.keys())}\n",
        "\n",
        "# 숫자로 치환된 직업 데이터가 저장된 oocupation_mapped를 생성\n",
        "pop_job[\"occupation_mapped\"] = pop_job[\"occupation\"].replace(job_map)\n",
        "\n",
        "# pop_job을 occupation_mapped를 기준으로 그루핑(인덱스화 x)\n",
        "# count를 하면 직업(숫자)별 사람 수를 매핑 가능\n",
        "pop_job_counts = pop_job.groupby(\"occupation_mapped\",as_index=False).count().sort_values(\"occupation\",ascending=False)\n"
      ],
      "execution_count": null,
      "outputs": []
    },
    {
      "cell_type": "code",
      "metadata": {
        "id": "gJiOdLYUHQ3a",
        "colab_type": "code",
        "colab": {}
      },
      "source": [
        "pop_job_counts"
      ],
      "execution_count": null,
      "outputs": []
    },
    {
      "cell_type": "markdown",
      "metadata": {
        "id": "Jc-mQWc0qD4f",
        "colab_type": "text"
      },
      "source": [
        "# 1.Feature\n",
        " - long_gar_cat&sp_term\n",
        "  - 보험 가입 시 증권번호가 생성되고 고객번호랑은 별개\n",
        "  - 같은 고객이 여러개의 보험을 가입했을 경우가 있으므로 증권번호를 기준으로 데이터를 정제\n",
        "  - 증권번호별 보험당 특약개수를 종합\n",
        "  - long_gar & sp_term == drop\n",
        "\n",
        " - SEX\n",
        "   - 남자 : 0\n",
        "   - 여자 : 1\n"
      ]
    },
    {
      "cell_type": "code",
      "metadata": {
        "id": "gLh5vrbjDMsI",
        "colab_type": "code",
        "colab": {
          "base_uri": "https://localhost:8080/",
          "height": 415
        },
        "outputId": "088a7d09-08aa-4794-dcdb-0e699d098452"
      },
      "source": [
        "# 장기담보, 담보명 제외\n",
        "pop_col = [\"c_idx\",\"s_idx\",\"sex\",\"age\",\"occupation\",\"district\",\"ins_cat\",\"ins_name\",\"gar_name\"]\n",
        "pop_df = df[pop_col]\n",
        "pop_df"
      ],
      "execution_count": null,
      "outputs": [
        {
          "output_type": "execute_result",
          "data": {
            "text/html": [
              "<div>\n",
              "<style scoped>\n",
              "    .dataframe tbody tr th:only-of-type {\n",
              "        vertical-align: middle;\n",
              "    }\n",
              "\n",
              "    .dataframe tbody tr th {\n",
              "        vertical-align: top;\n",
              "    }\n",
              "\n",
              "    .dataframe thead th {\n",
              "        text-align: right;\n",
              "    }\n",
              "</style>\n",
              "<table border=\"1\" class=\"dataframe\">\n",
              "  <thead>\n",
              "    <tr style=\"text-align: right;\">\n",
              "      <th></th>\n",
              "      <th>c_idx</th>\n",
              "      <th>s_idx</th>\n",
              "      <th>sex</th>\n",
              "      <th>age</th>\n",
              "      <th>occupation</th>\n",
              "      <th>district</th>\n",
              "      <th>ins_cat</th>\n",
              "      <th>ins_name</th>\n",
              "      <th>gar_name</th>\n",
              "    </tr>\n",
              "  </thead>\n",
              "  <tbody>\n",
              "    <tr>\n",
              "      <th>0</th>\n",
              "      <td>2</td>\n",
              "      <td>26394</td>\n",
              "      <td>여자</td>\n",
              "      <td>21</td>\n",
              "      <td>주부, 학생 및 기타 비경제활동인구</td>\n",
              "      <td>노원구</td>\n",
              "      <td>장기/운전자</td>\n",
              "      <td>무배당 프로미라이프 참좋은운전자+보험1908</td>\n",
              "      <td>상해</td>\n",
              "    </tr>\n",
              "    <tr>\n",
              "      <th>1</th>\n",
              "      <td>2</td>\n",
              "      <td>26394</td>\n",
              "      <td>여자</td>\n",
              "      <td>21</td>\n",
              "      <td>주부, 학생 및 기타 비경제활동인구</td>\n",
              "      <td>노원구</td>\n",
              "      <td>장기/운전자</td>\n",
              "      <td>무배당 프로미라이프 참좋은운전자+보험1908</td>\n",
              "      <td>기타/인</td>\n",
              "    </tr>\n",
              "    <tr>\n",
              "      <th>2</th>\n",
              "      <td>2</td>\n",
              "      <td>26394</td>\n",
              "      <td>여자</td>\n",
              "      <td>21</td>\n",
              "      <td>주부, 학생 및 기타 비경제활동인구</td>\n",
              "      <td>노원구</td>\n",
              "      <td>장기/운전자</td>\n",
              "      <td>무배당 프로미라이프 참좋은운전자+보험1908</td>\n",
              "      <td>상해</td>\n",
              "    </tr>\n",
              "    <tr>\n",
              "      <th>3</th>\n",
              "      <td>2</td>\n",
              "      <td>26394</td>\n",
              "      <td>여자</td>\n",
              "      <td>21</td>\n",
              "      <td>주부, 학생 및 기타 비경제활동인구</td>\n",
              "      <td>노원구</td>\n",
              "      <td>장기/운전자</td>\n",
              "      <td>무배당 프로미라이프 참좋은운전자+보험1908</td>\n",
              "      <td>상해</td>\n",
              "    </tr>\n",
              "    <tr>\n",
              "      <th>4</th>\n",
              "      <td>2</td>\n",
              "      <td>26394</td>\n",
              "      <td>여자</td>\n",
              "      <td>21</td>\n",
              "      <td>주부, 학생 및 기타 비경제활동인구</td>\n",
              "      <td>노원구</td>\n",
              "      <td>장기/운전자</td>\n",
              "      <td>무배당 프로미라이프 참좋은운전자+보험1908</td>\n",
              "      <td>기타/인</td>\n",
              "    </tr>\n",
              "    <tr>\n",
              "      <th>...</th>\n",
              "      <td>...</td>\n",
              "      <td>...</td>\n",
              "      <td>...</td>\n",
              "      <td>...</td>\n",
              "      <td>...</td>\n",
              "      <td>...</td>\n",
              "      <td>...</td>\n",
              "      <td>...</td>\n",
              "      <td>...</td>\n",
              "    </tr>\n",
              "    <tr>\n",
              "      <th>103229</th>\n",
              "      <td>39951</td>\n",
              "      <td>9709</td>\n",
              "      <td>여자</td>\n",
              "      <td>1</td>\n",
              "      <td>주부, 학생 및 기타 비경제활동인구</td>\n",
              "      <td>노원구</td>\n",
              "      <td>장기/상해</td>\n",
              "      <td>무배당 프로미라이프 실손의료비보험2001</td>\n",
              "      <td>건강</td>\n",
              "    </tr>\n",
              "    <tr>\n",
              "      <th>103230</th>\n",
              "      <td>39951</td>\n",
              "      <td>9709</td>\n",
              "      <td>여자</td>\n",
              "      <td>1</td>\n",
              "      <td>주부, 학생 및 기타 비경제활동인구</td>\n",
              "      <td>노원구</td>\n",
              "      <td>장기/상해</td>\n",
              "      <td>무배당 프로미라이프 실손의료비보험2001</td>\n",
              "      <td>건강</td>\n",
              "    </tr>\n",
              "    <tr>\n",
              "      <th>103231</th>\n",
              "      <td>39951</td>\n",
              "      <td>9709</td>\n",
              "      <td>여자</td>\n",
              "      <td>1</td>\n",
              "      <td>주부, 학생 및 기타 비경제활동인구</td>\n",
              "      <td>노원구</td>\n",
              "      <td>장기/상해</td>\n",
              "      <td>무배당 프로미라이프 실손의료비보험2001</td>\n",
              "      <td>건강</td>\n",
              "    </tr>\n",
              "    <tr>\n",
              "      <th>103232</th>\n",
              "      <td>39951</td>\n",
              "      <td>9709</td>\n",
              "      <td>여자</td>\n",
              "      <td>1</td>\n",
              "      <td>주부, 학생 및 기타 비경제활동인구</td>\n",
              "      <td>노원구</td>\n",
              "      <td>장기/상해</td>\n",
              "      <td>무배당 프로미라이프 실손의료비보험2001</td>\n",
              "      <td>건강</td>\n",
              "    </tr>\n",
              "    <tr>\n",
              "      <th>103233</th>\n",
              "      <td>39951</td>\n",
              "      <td>9709</td>\n",
              "      <td>여자</td>\n",
              "      <td>1</td>\n",
              "      <td>주부, 학생 및 기타 비경제활동인구</td>\n",
              "      <td>노원구</td>\n",
              "      <td>장기/상해</td>\n",
              "      <td>무배당 프로미라이프 실손의료비보험2001</td>\n",
              "      <td>건강</td>\n",
              "    </tr>\n",
              "  </tbody>\n",
              "</table>\n",
              "<p>103234 rows × 9 columns</p>\n",
              "</div>"
            ],
            "text/plain": [
              "        c_idx  s_idx sex  ...  ins_cat                  ins_name gar_name\n",
              "0           2  26394  여자  ...   장기/운전자  무배당 프로미라이프 참좋은운전자+보험1908       상해\n",
              "1           2  26394  여자  ...   장기/운전자  무배당 프로미라이프 참좋은운전자+보험1908     기타/인\n",
              "2           2  26394  여자  ...   장기/운전자  무배당 프로미라이프 참좋은운전자+보험1908       상해\n",
              "3           2  26394  여자  ...   장기/운전자  무배당 프로미라이프 참좋은운전자+보험1908       상해\n",
              "4           2  26394  여자  ...   장기/운전자  무배당 프로미라이프 참좋은운전자+보험1908     기타/인\n",
              "...       ...    ...  ..  ...      ...                       ...      ...\n",
              "103229  39951   9709  여자  ...    장기/상해    무배당 프로미라이프 실손의료비보험2001       건강\n",
              "103230  39951   9709  여자  ...    장기/상해    무배당 프로미라이프 실손의료비보험2001       건강\n",
              "103231  39951   9709  여자  ...    장기/상해    무배당 프로미라이프 실손의료비보험2001       건강\n",
              "103232  39951   9709  여자  ...    장기/상해    무배당 프로미라이프 실손의료비보험2001       건강\n",
              "103233  39951   9709  여자  ...    장기/상해    무배당 프로미라이프 실손의료비보험2001       건강\n",
              "\n",
              "[103234 rows x 9 columns]"
            ]
          },
          "metadata": {
            "tags": []
          },
          "execution_count": 11
        }
      ]
    },
    {
      "cell_type": "code",
      "metadata": {
        "id": "hLB_i5QFDamR",
        "colab_type": "code",
        "colab": {}
      },
      "source": [
        "# 증권 번호를 불러와서 중복된 것들을 전부제거\n",
        "# 각 데이터당 1개의 고유값만 남음\n",
        "sidxs = df[\"s_idx\"].drop_duplicates()"
      ],
      "execution_count": null,
      "outputs": []
    },
    {
      "cell_type": "code",
      "metadata": {
        "id": "gM1VKASNDcm5",
        "colab_type": "code",
        "colab": {
          "base_uri": "https://localhost:8080/",
          "height": 241
        },
        "outputId": "2334c9ee-75fe-4701-883a-da44cfd18e02"
      },
      "source": [
        "sidxs"
      ],
      "execution_count": null,
      "outputs": [
        {
          "output_type": "execute_result",
          "data": {
            "text/plain": [
              "0         26394\n",
              "6         20024\n",
              "13        27841\n",
              "37        16512\n",
              "47        27840\n",
              "          ...  \n",
              "103177    46435\n",
              "103198    46927\n",
              "103207    44901\n",
              "103216    46427\n",
              "103225     9709\n",
              "Name: s_idx, Length: 6313, dtype: int64"
            ]
          },
          "metadata": {
            "tags": []
          },
          "execution_count": 13
        }
      ]
    },
    {
      "cell_type": "code",
      "metadata": {
        "id": "g7nwYKqteycf",
        "colab_type": "code",
        "colab": {
          "base_uri": "https://localhost:8080/",
          "height": 129
        },
        "outputId": "f25a7b75-9ebc-4ee3-8902-a4c9dadb22d0"
      },
      "source": [
        "# 중복되지 않은 증권번호를 이터레이팅\n",
        "for sidx in sidxs:\n",
        "  # row중에 sidx와 s_idx가 같은것을 고르고 그중에 gar_name에,\n",
        "  # df[\"s_idx\"]==sidx 마스크를 만족하는 row가 몇개인지 카운팅하여 삽입\n",
        "  pop_df.loc[df[\"s_idx\"]==sidx,\"gar_name\"] = int(len(pop_df[pop_df[\"s_idx\"]==sidx]))"
      ],
      "execution_count": null,
      "outputs": [
        {
          "output_type": "stream",
          "text": [
            "/usr/local/lib/python3.6/dist-packages/pandas/core/indexing.py:966: SettingWithCopyWarning: \n",
            "A value is trying to be set on a copy of a slice from a DataFrame.\n",
            "Try using .loc[row_indexer,col_indexer] = value instead\n",
            "\n",
            "See the caveats in the documentation: https://pandas.pydata.org/pandas-docs/stable/user_guide/indexing.html#returning-a-view-versus-a-copy\n",
            "  self.obj[item] = s\n"
          ],
          "name": "stderr"
        }
      ]
    },
    {
      "cell_type": "code",
      "metadata": {
        "id": "qbmZDoqXELsj",
        "colab_type": "code",
        "colab": {
          "base_uri": "https://localhost:8080/",
          "height": 415
        },
        "outputId": "52ace653-6518-4e20-cb47-b231fbd655f5"
      },
      "source": [
        "pop_df"
      ],
      "execution_count": null,
      "outputs": [
        {
          "output_type": "execute_result",
          "data": {
            "text/html": [
              "<div>\n",
              "<style scoped>\n",
              "    .dataframe tbody tr th:only-of-type {\n",
              "        vertical-align: middle;\n",
              "    }\n",
              "\n",
              "    .dataframe tbody tr th {\n",
              "        vertical-align: top;\n",
              "    }\n",
              "\n",
              "    .dataframe thead th {\n",
              "        text-align: right;\n",
              "    }\n",
              "</style>\n",
              "<table border=\"1\" class=\"dataframe\">\n",
              "  <thead>\n",
              "    <tr style=\"text-align: right;\">\n",
              "      <th></th>\n",
              "      <th>c_idx</th>\n",
              "      <th>s_idx</th>\n",
              "      <th>sex</th>\n",
              "      <th>age</th>\n",
              "      <th>occupation</th>\n",
              "      <th>district</th>\n",
              "      <th>ins_cat</th>\n",
              "      <th>ins_name</th>\n",
              "      <th>gar_name</th>\n",
              "    </tr>\n",
              "  </thead>\n",
              "  <tbody>\n",
              "    <tr>\n",
              "      <th>0</th>\n",
              "      <td>2</td>\n",
              "      <td>26394</td>\n",
              "      <td>여자</td>\n",
              "      <td>21</td>\n",
              "      <td>주부, 학생 및 기타 비경제활동인구</td>\n",
              "      <td>노원구</td>\n",
              "      <td>장기/운전자</td>\n",
              "      <td>무배당 프로미라이프 참좋은운전자+보험1908</td>\n",
              "      <td>6</td>\n",
              "    </tr>\n",
              "    <tr>\n",
              "      <th>1</th>\n",
              "      <td>2</td>\n",
              "      <td>26394</td>\n",
              "      <td>여자</td>\n",
              "      <td>21</td>\n",
              "      <td>주부, 학생 및 기타 비경제활동인구</td>\n",
              "      <td>노원구</td>\n",
              "      <td>장기/운전자</td>\n",
              "      <td>무배당 프로미라이프 참좋은운전자+보험1908</td>\n",
              "      <td>6</td>\n",
              "    </tr>\n",
              "    <tr>\n",
              "      <th>2</th>\n",
              "      <td>2</td>\n",
              "      <td>26394</td>\n",
              "      <td>여자</td>\n",
              "      <td>21</td>\n",
              "      <td>주부, 학생 및 기타 비경제활동인구</td>\n",
              "      <td>노원구</td>\n",
              "      <td>장기/운전자</td>\n",
              "      <td>무배당 프로미라이프 참좋은운전자+보험1908</td>\n",
              "      <td>6</td>\n",
              "    </tr>\n",
              "    <tr>\n",
              "      <th>3</th>\n",
              "      <td>2</td>\n",
              "      <td>26394</td>\n",
              "      <td>여자</td>\n",
              "      <td>21</td>\n",
              "      <td>주부, 학생 및 기타 비경제활동인구</td>\n",
              "      <td>노원구</td>\n",
              "      <td>장기/운전자</td>\n",
              "      <td>무배당 프로미라이프 참좋은운전자+보험1908</td>\n",
              "      <td>6</td>\n",
              "    </tr>\n",
              "    <tr>\n",
              "      <th>4</th>\n",
              "      <td>2</td>\n",
              "      <td>26394</td>\n",
              "      <td>여자</td>\n",
              "      <td>21</td>\n",
              "      <td>주부, 학생 및 기타 비경제활동인구</td>\n",
              "      <td>노원구</td>\n",
              "      <td>장기/운전자</td>\n",
              "      <td>무배당 프로미라이프 참좋은운전자+보험1908</td>\n",
              "      <td>6</td>\n",
              "    </tr>\n",
              "    <tr>\n",
              "      <th>...</th>\n",
              "      <td>...</td>\n",
              "      <td>...</td>\n",
              "      <td>...</td>\n",
              "      <td>...</td>\n",
              "      <td>...</td>\n",
              "      <td>...</td>\n",
              "      <td>...</td>\n",
              "      <td>...</td>\n",
              "      <td>...</td>\n",
              "    </tr>\n",
              "    <tr>\n",
              "      <th>103229</th>\n",
              "      <td>39951</td>\n",
              "      <td>9709</td>\n",
              "      <td>여자</td>\n",
              "      <td>1</td>\n",
              "      <td>주부, 학생 및 기타 비경제활동인구</td>\n",
              "      <td>노원구</td>\n",
              "      <td>장기/상해</td>\n",
              "      <td>무배당 프로미라이프 실손의료비보험2001</td>\n",
              "      <td>9</td>\n",
              "    </tr>\n",
              "    <tr>\n",
              "      <th>103230</th>\n",
              "      <td>39951</td>\n",
              "      <td>9709</td>\n",
              "      <td>여자</td>\n",
              "      <td>1</td>\n",
              "      <td>주부, 학생 및 기타 비경제활동인구</td>\n",
              "      <td>노원구</td>\n",
              "      <td>장기/상해</td>\n",
              "      <td>무배당 프로미라이프 실손의료비보험2001</td>\n",
              "      <td>9</td>\n",
              "    </tr>\n",
              "    <tr>\n",
              "      <th>103231</th>\n",
              "      <td>39951</td>\n",
              "      <td>9709</td>\n",
              "      <td>여자</td>\n",
              "      <td>1</td>\n",
              "      <td>주부, 학생 및 기타 비경제활동인구</td>\n",
              "      <td>노원구</td>\n",
              "      <td>장기/상해</td>\n",
              "      <td>무배당 프로미라이프 실손의료비보험2001</td>\n",
              "      <td>9</td>\n",
              "    </tr>\n",
              "    <tr>\n",
              "      <th>103232</th>\n",
              "      <td>39951</td>\n",
              "      <td>9709</td>\n",
              "      <td>여자</td>\n",
              "      <td>1</td>\n",
              "      <td>주부, 학생 및 기타 비경제활동인구</td>\n",
              "      <td>노원구</td>\n",
              "      <td>장기/상해</td>\n",
              "      <td>무배당 프로미라이프 실손의료비보험2001</td>\n",
              "      <td>9</td>\n",
              "    </tr>\n",
              "    <tr>\n",
              "      <th>103233</th>\n",
              "      <td>39951</td>\n",
              "      <td>9709</td>\n",
              "      <td>여자</td>\n",
              "      <td>1</td>\n",
              "      <td>주부, 학생 및 기타 비경제활동인구</td>\n",
              "      <td>노원구</td>\n",
              "      <td>장기/상해</td>\n",
              "      <td>무배당 프로미라이프 실손의료비보험2001</td>\n",
              "      <td>9</td>\n",
              "    </tr>\n",
              "  </tbody>\n",
              "</table>\n",
              "<p>103234 rows × 9 columns</p>\n",
              "</div>"
            ],
            "text/plain": [
              "        c_idx  s_idx sex  ...  ins_cat                  ins_name gar_name\n",
              "0           2  26394  여자  ...   장기/운전자  무배당 프로미라이프 참좋은운전자+보험1908        6\n",
              "1           2  26394  여자  ...   장기/운전자  무배당 프로미라이프 참좋은운전자+보험1908        6\n",
              "2           2  26394  여자  ...   장기/운전자  무배당 프로미라이프 참좋은운전자+보험1908        6\n",
              "3           2  26394  여자  ...   장기/운전자  무배당 프로미라이프 참좋은운전자+보험1908        6\n",
              "4           2  26394  여자  ...   장기/운전자  무배당 프로미라이프 참좋은운전자+보험1908        6\n",
              "...       ...    ...  ..  ...      ...                       ...      ...\n",
              "103229  39951   9709  여자  ...    장기/상해    무배당 프로미라이프 실손의료비보험2001        9\n",
              "103230  39951   9709  여자  ...    장기/상해    무배당 프로미라이프 실손의료비보험2001        9\n",
              "103231  39951   9709  여자  ...    장기/상해    무배당 프로미라이프 실손의료비보험2001        9\n",
              "103232  39951   9709  여자  ...    장기/상해    무배당 프로미라이프 실손의료비보험2001        9\n",
              "103233  39951   9709  여자  ...    장기/상해    무배당 프로미라이프 실손의료비보험2001        9\n",
              "\n",
              "[103234 rows x 9 columns]"
            ]
          },
          "metadata": {
            "tags": []
          },
          "execution_count": 15
        }
      ]
    },
    {
      "cell_type": "code",
      "metadata": {
        "id": "XHi51BEWDPhm",
        "colab_type": "code",
        "colab": {
          "base_uri": "https://localhost:8080/",
          "height": 202
        },
        "outputId": "3ab54925-d127-48ee-e453-262460d06b20"
      },
      "source": [
        "# 중복된 행을 전부제거하고 고유 행만 남김\n",
        "pop_df = pop_df.drop_duplicates()\n",
        "pop_df.head()"
      ],
      "execution_count": null,
      "outputs": [
        {
          "output_type": "execute_result",
          "data": {
            "text/html": [
              "<div>\n",
              "<style scoped>\n",
              "    .dataframe tbody tr th:only-of-type {\n",
              "        vertical-align: middle;\n",
              "    }\n",
              "\n",
              "    .dataframe tbody tr th {\n",
              "        vertical-align: top;\n",
              "    }\n",
              "\n",
              "    .dataframe thead th {\n",
              "        text-align: right;\n",
              "    }\n",
              "</style>\n",
              "<table border=\"1\" class=\"dataframe\">\n",
              "  <thead>\n",
              "    <tr style=\"text-align: right;\">\n",
              "      <th></th>\n",
              "      <th>c_idx</th>\n",
              "      <th>s_idx</th>\n",
              "      <th>sex</th>\n",
              "      <th>age</th>\n",
              "      <th>occupation</th>\n",
              "      <th>district</th>\n",
              "      <th>ins_cat</th>\n",
              "      <th>ins_name</th>\n",
              "      <th>gar_name</th>\n",
              "    </tr>\n",
              "  </thead>\n",
              "  <tbody>\n",
              "    <tr>\n",
              "      <th>0</th>\n",
              "      <td>2</td>\n",
              "      <td>26394</td>\n",
              "      <td>여자</td>\n",
              "      <td>21</td>\n",
              "      <td>주부, 학생 및 기타 비경제활동인구</td>\n",
              "      <td>노원구</td>\n",
              "      <td>장기/운전자</td>\n",
              "      <td>무배당 프로미라이프 참좋은운전자+보험1908</td>\n",
              "      <td>6</td>\n",
              "    </tr>\n",
              "    <tr>\n",
              "      <th>6</th>\n",
              "      <td>4</td>\n",
              "      <td>20024</td>\n",
              "      <td>남자</td>\n",
              "      <td>21</td>\n",
              "      <td>주부, 학생 및 기타 비경제활동인구</td>\n",
              "      <td>도봉구</td>\n",
              "      <td>장기/질병</td>\n",
              "      <td>무배당 프로미라이프 참좋은치아사랑보험1904</td>\n",
              "      <td>7</td>\n",
              "    </tr>\n",
              "    <tr>\n",
              "      <th>13</th>\n",
              "      <td>8</td>\n",
              "      <td>27841</td>\n",
              "      <td>남자</td>\n",
              "      <td>21</td>\n",
              "      <td>주부, 학생 및 기타 비경제활동인구</td>\n",
              "      <td>동대문구</td>\n",
              "      <td>장기/질병</td>\n",
              "      <td>무배당 프로미라이프 참좋은행복플러스+종합보험1911</td>\n",
              "      <td>24</td>\n",
              "    </tr>\n",
              "    <tr>\n",
              "      <th>37</th>\n",
              "      <td>15</td>\n",
              "      <td>16512</td>\n",
              "      <td>남자</td>\n",
              "      <td>20</td>\n",
              "      <td>주부, 학생 및 기타 비경제활동인구</td>\n",
              "      <td>금천구</td>\n",
              "      <td>장기/운전자</td>\n",
              "      <td>무배당 프로미라이프 참좋은운전자+보험1908</td>\n",
              "      <td>10</td>\n",
              "    </tr>\n",
              "    <tr>\n",
              "      <th>47</th>\n",
              "      <td>21</td>\n",
              "      <td>27840</td>\n",
              "      <td>여자</td>\n",
              "      <td>18</td>\n",
              "      <td>주부, 학생 및 기타 비경제활동인구</td>\n",
              "      <td>동대문구</td>\n",
              "      <td>장기/상해</td>\n",
              "      <td>무배당 프로미라이프 아이(I)러브(LOVE)건강보험2001</td>\n",
              "      <td>23</td>\n",
              "    </tr>\n",
              "  </tbody>\n",
              "</table>\n",
              "</div>"
            ],
            "text/plain": [
              "    c_idx  s_idx sex  ...  ins_cat                          ins_name gar_name\n",
              "0       2  26394  여자  ...   장기/운전자          무배당 프로미라이프 참좋은운전자+보험1908        6\n",
              "6       4  20024  남자  ...    장기/질병          무배당 프로미라이프 참좋은치아사랑보험1904        7\n",
              "13      8  27841  남자  ...    장기/질병      무배당 프로미라이프 참좋은행복플러스+종합보험1911       24\n",
              "37     15  16512  남자  ...   장기/운전자          무배당 프로미라이프 참좋은운전자+보험1908       10\n",
              "47     21  27840  여자  ...    장기/상해  무배당 프로미라이프 아이(I)러브(LOVE)건강보험2001       23\n",
              "\n",
              "[5 rows x 9 columns]"
            ]
          },
          "metadata": {
            "tags": []
          },
          "execution_count": 16
        }
      ]
    },
    {
      "cell_type": "code",
      "metadata": {
        "id": "_6EtKL2thHeQ",
        "colab_type": "code",
        "colab": {}
      },
      "source": [
        "# 고객 한명이 최대 몇개의 보험을 들었는지\n",
        "pivot = pd.crosstab(pop_df[\"c_idx\"],pop_df[\"s_idx\"]).sum(axis=1).sort_values(ascending=False)"
      ],
      "execution_count": null,
      "outputs": []
    },
    {
      "cell_type": "code",
      "metadata": {
        "id": "0MA2YfsbDmYS",
        "colab_type": "code",
        "colab": {
          "base_uri": "https://localhost:8080/",
          "height": 498
        },
        "outputId": "9c4f6736-2d60-493f-a1fd-8cd5bce66269"
      },
      "source": [
        "pivot.value_counts().plot(kind='bar',\n",
        "            stacked=True,\n",
        "            colormap='rainbow',\n",
        "            figsize=(12,8))"
      ],
      "execution_count": null,
      "outputs": [
        {
          "output_type": "execute_result",
          "data": {
            "text/plain": [
              "<matplotlib.axes._subplots.AxesSubplot at 0x7ffa23ad3d68>"
            ]
          },
          "metadata": {
            "tags": []
          },
          "execution_count": 20
        },
        {
          "output_type": "display_data",
          "data": {
            "image/png": "[encoded data removed]",
            "text/plain": [
              "<Figure size 864x576 with 1 Axes>"
            ]
          },
          "metadata": {
            "tags": [],
            "needs_background": "light"
          }
        }
      ]
    },
    {
      "cell_type": "code",
      "metadata": {
        "id": "_oNoCTbMewwY",
        "colab_type": "code",
        "colab": {
          "base_uri": "https://localhost:8080/",
          "height": 202
        },
        "outputId": "f0bebb52-c3f2-497e-c0c7-f4ff52c142e1"
      },
      "source": [
        "# column name 변경\n",
        "pop_df.columns = [\"c_idx\",\"s_idx\",\"sex\",\"age\",\"occupation\",\"gis\",\"ins_cat\",\"ins_name\",\"gar_count\"]\n",
        "pop_df.head()"
      ],
      "execution_count": null,
      "outputs": [
        {
          "output_type": "execute_result",
          "data": {
            "text/html": [
              "<div>\n",
              "<style scoped>\n",
              "    .dataframe tbody tr th:only-of-type {\n",
              "        vertical-align: middle;\n",
              "    }\n",
              "\n",
              "    .dataframe tbody tr th {\n",
              "        vertical-align: top;\n",
              "    }\n",
              "\n",
              "    .dataframe thead th {\n",
              "        text-align: right;\n",
              "    }\n",
              "</style>\n",
              "<table border=\"1\" class=\"dataframe\">\n",
              "  <thead>\n",
              "    <tr style=\"text-align: right;\">\n",
              "      <th></th>\n",
              "      <th>c_idx</th>\n",
              "      <th>s_idx</th>\n",
              "      <th>sex</th>\n",
              "      <th>age</th>\n",
              "      <th>occupation</th>\n",
              "      <th>gis</th>\n",
              "      <th>ins_cat</th>\n",
              "      <th>ins_name</th>\n",
              "      <th>gar_count</th>\n",
              "    </tr>\n",
              "  </thead>\n",
              "  <tbody>\n",
              "    <tr>\n",
              "      <th>0</th>\n",
              "      <td>2</td>\n",
              "      <td>26394</td>\n",
              "      <td>여자</td>\n",
              "      <td>21</td>\n",
              "      <td>주부, 학생 및 기타 비경제활동인구</td>\n",
              "      <td>노원구</td>\n",
              "      <td>장기/운전자</td>\n",
              "      <td>무배당 프로미라이프 참좋은운전자+보험1908</td>\n",
              "      <td>6</td>\n",
              "    </tr>\n",
              "    <tr>\n",
              "      <th>6</th>\n",
              "      <td>4</td>\n",
              "      <td>20024</td>\n",
              "      <td>남자</td>\n",
              "      <td>21</td>\n",
              "      <td>주부, 학생 및 기타 비경제활동인구</td>\n",
              "      <td>도봉구</td>\n",
              "      <td>장기/질병</td>\n",
              "      <td>무배당 프로미라이프 참좋은치아사랑보험1904</td>\n",
              "      <td>7</td>\n",
              "    </tr>\n",
              "    <tr>\n",
              "      <th>13</th>\n",
              "      <td>8</td>\n",
              "      <td>27841</td>\n",
              "      <td>남자</td>\n",
              "      <td>21</td>\n",
              "      <td>주부, 학생 및 기타 비경제활동인구</td>\n",
              "      <td>동대문구</td>\n",
              "      <td>장기/질병</td>\n",
              "      <td>무배당 프로미라이프 참좋은행복플러스+종합보험1911</td>\n",
              "      <td>24</td>\n",
              "    </tr>\n",
              "    <tr>\n",
              "      <th>37</th>\n",
              "      <td>15</td>\n",
              "      <td>16512</td>\n",
              "      <td>남자</td>\n",
              "      <td>20</td>\n",
              "      <td>주부, 학생 및 기타 비경제활동인구</td>\n",
              "      <td>금천구</td>\n",
              "      <td>장기/운전자</td>\n",
              "      <td>무배당 프로미라이프 참좋은운전자+보험1908</td>\n",
              "      <td>10</td>\n",
              "    </tr>\n",
              "    <tr>\n",
              "      <th>47</th>\n",
              "      <td>21</td>\n",
              "      <td>27840</td>\n",
              "      <td>여자</td>\n",
              "      <td>18</td>\n",
              "      <td>주부, 학생 및 기타 비경제활동인구</td>\n",
              "      <td>동대문구</td>\n",
              "      <td>장기/상해</td>\n",
              "      <td>무배당 프로미라이프 아이(I)러브(LOVE)건강보험2001</td>\n",
              "      <td>23</td>\n",
              "    </tr>\n",
              "  </tbody>\n",
              "</table>\n",
              "</div>"
            ],
            "text/plain": [
              "    c_idx  s_idx sex  ...  ins_cat                          ins_name gar_count\n",
              "0       2  26394  여자  ...   장기/운전자          무배당 프로미라이프 참좋은운전자+보험1908         6\n",
              "6       4  20024  남자  ...    장기/질병          무배당 프로미라이프 참좋은치아사랑보험1904         7\n",
              "13      8  27841  남자  ...    장기/질병      무배당 프로미라이프 참좋은행복플러스+종합보험1911        24\n",
              "37     15  16512  남자  ...   장기/운전자          무배당 프로미라이프 참좋은운전자+보험1908        10\n",
              "47     21  27840  여자  ...    장기/상해  무배당 프로미라이프 아이(I)러브(LOVE)건강보험2001        23\n",
              "\n",
              "[5 rows x 9 columns]"
            ]
          },
          "metadata": {
            "tags": []
          },
          "execution_count": 21
        }
      ]
    },
    {
      "cell_type": "code",
      "metadata": {
        "id": "nH8vvK0jiIz0",
        "colab_type": "code",
        "colab": {
          "base_uri": "https://localhost:8080/",
          "height": 314
        },
        "outputId": "6efeb6aa-087f-45a1-c134-3e84c38a4c74"
      },
      "source": [
        "sex_map = {\"남자\":0,\"여자\":1}\n",
        "\n",
        "pop_df[\"sex\"] = pop_df[\"sex\"].replace(sex_map)\n",
        "pop_df.head()"
      ],
      "execution_count": null,
      "outputs": [
        {
          "output_type": "stream",
          "text": [
            "/usr/local/lib/python3.6/dist-packages/ipykernel_launcher.py:3: SettingWithCopyWarning: \n",
            "A value is trying to be set on a copy of a slice from a DataFrame.\n",
            "Try using .loc[row_indexer,col_indexer] = value instead\n",
            "\n",
            "See the caveats in the documentation: https://pandas.pydata.org/pandas-docs/stable/user_guide/indexing.html#returning-a-view-versus-a-copy\n",
            "  This is separate from the ipykernel package so we can avoid doing imports until\n"
          ],
          "name": "stderr"
        },
        {
          "output_type": "execute_result",
          "data": {
            "text/html": [
              "<div>\n",
              "<style scoped>\n",
              "    .dataframe tbody tr th:only-of-type {\n",
              "        vertical-align: middle;\n",
              "    }\n",
              "\n",
              "    .dataframe tbody tr th {\n",
              "        vertical-align: top;\n",
              "    }\n",
              "\n",
              "    .dataframe thead th {\n",
              "        text-align: right;\n",
              "    }\n",
              "</style>\n",
              "<table border=\"1\" class=\"dataframe\">\n",
              "  <thead>\n",
              "    <tr style=\"text-align: right;\">\n",
              "      <th></th>\n",
              "      <th>c_idx</th>\n",
              "      <th>s_idx</th>\n",
              "      <th>sex</th>\n",
              "      <th>age</th>\n",
              "      <th>occupation</th>\n",
              "      <th>gis</th>\n",
              "      <th>ins_cat</th>\n",
              "      <th>ins_name</th>\n",
              "      <th>gar_count</th>\n",
              "    </tr>\n",
              "  </thead>\n",
              "  <tbody>\n",
              "    <tr>\n",
              "      <th>0</th>\n",
              "      <td>2</td>\n",
              "      <td>26394</td>\n",
              "      <td>1</td>\n",
              "      <td>21</td>\n",
              "      <td>주부, 학생 및 기타 비경제활동인구</td>\n",
              "      <td>노원구</td>\n",
              "      <td>장기/운전자</td>\n",
              "      <td>무배당 프로미라이프 참좋은운전자+보험1908</td>\n",
              "      <td>6</td>\n",
              "    </tr>\n",
              "    <tr>\n",
              "      <th>6</th>\n",
              "      <td>4</td>\n",
              "      <td>20024</td>\n",
              "      <td>0</td>\n",
              "      <td>21</td>\n",
              "      <td>주부, 학생 및 기타 비경제활동인구</td>\n",
              "      <td>도봉구</td>\n",
              "      <td>장기/질병</td>\n",
              "      <td>무배당 프로미라이프 참좋은치아사랑보험1904</td>\n",
              "      <td>7</td>\n",
              "    </tr>\n",
              "    <tr>\n",
              "      <th>13</th>\n",
              "      <td>8</td>\n",
              "      <td>27841</td>\n",
              "      <td>0</td>\n",
              "      <td>21</td>\n",
              "      <td>주부, 학생 및 기타 비경제활동인구</td>\n",
              "      <td>동대문구</td>\n",
              "      <td>장기/질병</td>\n",
              "      <td>무배당 프로미라이프 참좋은행복플러스+종합보험1911</td>\n",
              "      <td>24</td>\n",
              "    </tr>\n",
              "    <tr>\n",
              "      <th>37</th>\n",
              "      <td>15</td>\n",
              "      <td>16512</td>\n",
              "      <td>0</td>\n",
              "      <td>20</td>\n",
              "      <td>주부, 학생 및 기타 비경제활동인구</td>\n",
              "      <td>금천구</td>\n",
              "      <td>장기/운전자</td>\n",
              "      <td>무배당 프로미라이프 참좋은운전자+보험1908</td>\n",
              "      <td>10</td>\n",
              "    </tr>\n",
              "    <tr>\n",
              "      <th>47</th>\n",
              "      <td>21</td>\n",
              "      <td>27840</td>\n",
              "      <td>1</td>\n",
              "      <td>18</td>\n",
              "      <td>주부, 학생 및 기타 비경제활동인구</td>\n",
              "      <td>동대문구</td>\n",
              "      <td>장기/상해</td>\n",
              "      <td>무배당 프로미라이프 아이(I)러브(LOVE)건강보험2001</td>\n",
              "      <td>23</td>\n",
              "    </tr>\n",
              "  </tbody>\n",
              "</table>\n",
              "</div>"
            ],
            "text/plain": [
              "    c_idx  s_idx  sex  ...  ins_cat                          ins_name gar_count\n",
              "0       2  26394    1  ...   장기/운전자          무배당 프로미라이프 참좋은운전자+보험1908         6\n",
              "6       4  20024    0  ...    장기/질병          무배당 프로미라이프 참좋은치아사랑보험1904         7\n",
              "13      8  27841    0  ...    장기/질병      무배당 프로미라이프 참좋은행복플러스+종합보험1911        24\n",
              "37     15  16512    0  ...   장기/운전자          무배당 프로미라이프 참좋은운전자+보험1908        10\n",
              "47     21  27840    1  ...    장기/상해  무배당 프로미라이프 아이(I)러브(LOVE)건강보험2001        23\n",
              "\n",
              "[5 rows x 9 columns]"
            ]
          },
          "metadata": {
            "tags": []
          },
          "execution_count": 22
        }
      ]
    },
    {
      "cell_type": "code",
      "metadata": {
        "id": "atZWZaZXFfkL",
        "colab_type": "code",
        "colab": {
          "base_uri": "https://localhost:8080/",
          "height": 241
        },
        "outputId": "11fb8d1e-bab6-41f8-9033-ea0f5acbc85d"
      },
      "source": [
        "pop_df[\"age\"]"
      ],
      "execution_count": null,
      "outputs": [
        {
          "output_type": "execute_result",
          "data": {
            "text/plain": [
              "0         21\n",
              "6         21\n",
              "13        21\n",
              "37        20\n",
              "47        18\n",
              "          ..\n",
              "103177    55\n",
              "103198    27\n",
              "103207    26\n",
              "103216    38\n",
              "103225     1\n",
              "Name: age, Length: 6313, dtype: int64"
            ]
          },
          "metadata": {
            "tags": []
          },
          "execution_count": 23
        }
      ]
    },
    {
      "cell_type": "code",
      "metadata": {
        "id": "9dOsL9UmFxaS",
        "colab_type": "code",
        "colab": {
          "base_uri": "https://localhost:8080/",
          "height": 554
        },
        "outputId": "f35a9d99-86d8-4e5c-a807-8eb6f5b2de11"
      },
      "source": [
        "pop_df"
      ],
      "execution_count": null,
      "outputs": [
        {
          "output_type": "execute_result",
          "data": {
            "text/html": [
              "<div>\n",
              "<style scoped>\n",
              "    .dataframe tbody tr th:only-of-type {\n",
              "        vertical-align: middle;\n",
              "    }\n",
              "\n",
              "    .dataframe tbody tr th {\n",
              "        vertical-align: top;\n",
              "    }\n",
              "\n",
              "    .dataframe thead th {\n",
              "        text-align: right;\n",
              "    }\n",
              "</style>\n",
              "<table border=\"1\" class=\"dataframe\">\n",
              "  <thead>\n",
              "    <tr style=\"text-align: right;\">\n",
              "      <th></th>\n",
              "      <th>c_idx</th>\n",
              "      <th>s_idx</th>\n",
              "      <th>sex</th>\n",
              "      <th>age</th>\n",
              "      <th>occupation</th>\n",
              "      <th>gis</th>\n",
              "      <th>ins_cat</th>\n",
              "      <th>ins_name</th>\n",
              "      <th>gar_count</th>\n",
              "    </tr>\n",
              "  </thead>\n",
              "  <tbody>\n",
              "    <tr>\n",
              "      <th>0</th>\n",
              "      <td>2</td>\n",
              "      <td>26394</td>\n",
              "      <td>1</td>\n",
              "      <td>21</td>\n",
              "      <td>주부, 학생 및 기타 비경제활동인구</td>\n",
              "      <td>노원구</td>\n",
              "      <td>장기/운전자</td>\n",
              "      <td>무배당 프로미라이프 참좋은운전자+보험1908</td>\n",
              "      <td>6</td>\n",
              "    </tr>\n",
              "    <tr>\n",
              "      <th>6</th>\n",
              "      <td>4</td>\n",
              "      <td>20024</td>\n",
              "      <td>0</td>\n",
              "      <td>21</td>\n",
              "      <td>주부, 학생 및 기타 비경제활동인구</td>\n",
              "      <td>도봉구</td>\n",
              "      <td>장기/질병</td>\n",
              "      <td>무배당 프로미라이프 참좋은치아사랑보험1904</td>\n",
              "      <td>7</td>\n",
              "    </tr>\n",
              "    <tr>\n",
              "      <th>13</th>\n",
              "      <td>8</td>\n",
              "      <td>27841</td>\n",
              "      <td>0</td>\n",
              "      <td>21</td>\n",
              "      <td>주부, 학생 및 기타 비경제활동인구</td>\n",
              "      <td>동대문구</td>\n",
              "      <td>장기/질병</td>\n",
              "      <td>무배당 프로미라이프 참좋은행복플러스+종합보험1911</td>\n",
              "      <td>24</td>\n",
              "    </tr>\n",
              "    <tr>\n",
              "      <th>37</th>\n",
              "      <td>15</td>\n",
              "      <td>16512</td>\n",
              "      <td>0</td>\n",
              "      <td>20</td>\n",
              "      <td>주부, 학생 및 기타 비경제활동인구</td>\n",
              "      <td>금천구</td>\n",
              "      <td>장기/운전자</td>\n",
              "      <td>무배당 프로미라이프 참좋은운전자+보험1908</td>\n",
              "      <td>10</td>\n",
              "    </tr>\n",
              "    <tr>\n",
              "      <th>47</th>\n",
              "      <td>21</td>\n",
              "      <td>27840</td>\n",
              "      <td>1</td>\n",
              "      <td>18</td>\n",
              "      <td>주부, 학생 및 기타 비경제활동인구</td>\n",
              "      <td>동대문구</td>\n",
              "      <td>장기/상해</td>\n",
              "      <td>무배당 프로미라이프 아이(I)러브(LOVE)건강보험2001</td>\n",
              "      <td>23</td>\n",
              "    </tr>\n",
              "    <tr>\n",
              "      <th>...</th>\n",
              "      <td>...</td>\n",
              "      <td>...</td>\n",
              "      <td>...</td>\n",
              "      <td>...</td>\n",
              "      <td>...</td>\n",
              "      <td>...</td>\n",
              "      <td>...</td>\n",
              "      <td>...</td>\n",
              "      <td>...</td>\n",
              "    </tr>\n",
              "    <tr>\n",
              "      <th>103177</th>\n",
              "      <td>39931</td>\n",
              "      <td>46435</td>\n",
              "      <td>1</td>\n",
              "      <td>55</td>\n",
              "      <td>교육, 의료, 종교, 문화예술, 스포츠, 사회복지 관련 분야</td>\n",
              "      <td>구로구</td>\n",
              "      <td>장기/운전자</td>\n",
              "      <td>무배당 프로미라이프 참좋은운전자보험(TM)1908</td>\n",
              "      <td>21</td>\n",
              "    </tr>\n",
              "    <tr>\n",
              "      <th>103198</th>\n",
              "      <td>39932</td>\n",
              "      <td>46927</td>\n",
              "      <td>1</td>\n",
              "      <td>27</td>\n",
              "      <td>서비스 관련 분야 (음식, 숙박, 여행 등)</td>\n",
              "      <td>강남구</td>\n",
              "      <td>장기/상해</td>\n",
              "      <td>무배당 프로미라이프 다이렉트 실손의료비보험2001(CM)</td>\n",
              "      <td>9</td>\n",
              "    </tr>\n",
              "    <tr>\n",
              "      <th>103207</th>\n",
              "      <td>39941</td>\n",
              "      <td>44901</td>\n",
              "      <td>0</td>\n",
              "      <td>26</td>\n",
              "      <td>자연과학, 공학, 컴퓨터 및 통신 관련분야</td>\n",
              "      <td>마포구</td>\n",
              "      <td>장기/상해</td>\n",
              "      <td>무배당 프로미라이프 다이렉트 실손의료비보험2001(CM)</td>\n",
              "      <td>9</td>\n",
              "    </tr>\n",
              "    <tr>\n",
              "      <th>103216</th>\n",
              "      <td>39950</td>\n",
              "      <td>46427</td>\n",
              "      <td>0</td>\n",
              "      <td>38</td>\n",
              "      <td>행정, 금융, 사무관리,법률 관련 분야</td>\n",
              "      <td>금천구</td>\n",
              "      <td>장기/상해</td>\n",
              "      <td>무배당 프로미라이프 다이렉트 실손의료비보험2001(CM)</td>\n",
              "      <td>9</td>\n",
              "    </tr>\n",
              "    <tr>\n",
              "      <th>103225</th>\n",
              "      <td>39951</td>\n",
              "      <td>9709</td>\n",
              "      <td>1</td>\n",
              "      <td>1</td>\n",
              "      <td>주부, 학생 및 기타 비경제활동인구</td>\n",
              "      <td>노원구</td>\n",
              "      <td>장기/상해</td>\n",
              "      <td>무배당 프로미라이프 실손의료비보험2001</td>\n",
              "      <td>9</td>\n",
              "    </tr>\n",
              "  </tbody>\n",
              "</table>\n",
              "<p>6313 rows × 9 columns</p>\n",
              "</div>"
            ],
            "text/plain": [
              "        c_idx  s_idx  sex  ...  ins_cat                          ins_name gar_count\n",
              "0           2  26394    1  ...   장기/운전자          무배당 프로미라이프 참좋은운전자+보험1908         6\n",
              "6           4  20024    0  ...    장기/질병          무배당 프로미라이프 참좋은치아사랑보험1904         7\n",
              "13          8  27841    0  ...    장기/질병      무배당 프로미라이프 참좋은행복플러스+종합보험1911        24\n",
              "37         15  16512    0  ...   장기/운전자          무배당 프로미라이프 참좋은운전자+보험1908        10\n",
              "47         21  27840    1  ...    장기/상해  무배당 프로미라이프 아이(I)러브(LOVE)건강보험2001        23\n",
              "...       ...    ...  ...  ...      ...                               ...       ...\n",
              "103177  39931  46435    1  ...   장기/운전자       무배당 프로미라이프 참좋은운전자보험(TM)1908        21\n",
              "103198  39932  46927    1  ...    장기/상해   무배당 프로미라이프 다이렉트 실손의료비보험2001(CM)         9\n",
              "103207  39941  44901    0  ...    장기/상해   무배당 프로미라이프 다이렉트 실손의료비보험2001(CM)         9\n",
              "103216  39950  46427    0  ...    장기/상해   무배당 프로미라이프 다이렉트 실손의료비보험2001(CM)         9\n",
              "103225  39951   9709    1  ...    장기/상해            무배당 프로미라이프 실손의료비보험2001         9\n",
              "\n",
              "[6313 rows x 9 columns]"
            ]
          },
          "metadata": {
            "tags": []
          },
          "execution_count": 24
        }
      ]
    },
    {
      "cell_type": "code",
      "metadata": {
        "id": "yKMls2FdFm1W",
        "colab_type": "code",
        "colab": {
          "base_uri": "https://localhost:8080/",
          "height": 241
        },
        "outputId": "d58669bb-4dc4-4b9e-d2f3-1fc3c8224499"
      },
      "source": [
        "pop_df[\"occupation\"].value_counts()"
      ],
      "execution_count": null,
      "outputs": [
        {
          "output_type": "execute_result",
          "data": {
            "text/plain": [
              "주부, 학생 및 기타 비경제활동인구                       1607\n",
              "행정, 금융, 사무관리,법률 관련 분야                      912\n",
              "교육, 의료, 종교, 문화예술, 스포츠, 사회복지 관련 분야          875\n",
              "자연과학, 공학, 컴퓨터 및 통신 관련분야                    738\n",
              "화학, 섬유, 식품, 설비 및 기타 제조 (기능, 생산직 관련 분야)     510\n",
              "판매 관련 분야                                   475\n",
              "서비스 관련 분야 (음식, 숙박, 여행 등)                   420\n",
              "전기, 전자, 기계, 금속 (기능, 생산직 관련 분야)             386\n",
              "농림어업, 광업, 축산업 관련 분야                        355\n",
              "군인,경찰, 경호, 소방, 경비 관련 분야                     22\n",
              "건설, 운송(기능직 관련분야)                            13\n",
              "Name: occupation, dtype: int64"
            ]
          },
          "metadata": {
            "tags": []
          },
          "execution_count": 25
        }
      ]
    },
    {
      "cell_type": "markdown",
      "metadata": {
        "id": "IJxb29VjrsjV",
        "colab_type": "text"
      },
      "source": [
        " - occupation\n",
        "  - 직업 군\n",
        "  - 상세직업(중,소,세)는 결측치가 너무 많고 대체값이 존재하지 않기 때문에 열 삭제\n",
        "  --------------\n",
        "   * 주부, 학생 및 기타 비경제활동인구': 0,\n",
        "   * 자연과학, 공학, 컴퓨터 및 통신 관련분야': 1,\n",
        "   * 서비스 관련 분야 (음식, 숙박, 여행 등)': 2,\n",
        "   * 농림어업, 광업, 축산업 관련 분야': 3,\n",
        "   * 교육, 의료, 종교, 문화예술, 스포츠, 사회복지 관련 분야': 4,\n",
        "   * 화학, 섬유, 식품, 설비 및 기타 제조 (기능, 생산직 관련 분야)': 5\n",
        "   * 행정, 금융, 사무관리,법률 관련 분야': 6,\n",
        "   * 전기, 전자, 기계, 금속 (기능, 생산직 관련 분야)': 7,\n",
        "   * 판매 관련 분야': 8,\n",
        "   * 건설, 운송(기능직 관련분야)': 9,\n",
        "   * 군인,경찰, 경호, 소방, 경비 관련 분야': 10,\n",
        "   \n",
        "   "
      ]
    },
    {
      "cell_type": "code",
      "metadata": {
        "id": "_eBihMJcGvpI",
        "colab_type": "code",
        "colab": {}
      },
      "source": [
        "import collections\n",
        "\n",
        "bow = collections.Counter(pop_df['occupation'])\n"
      ],
      "execution_count": null,
      "outputs": []
    },
    {
      "cell_type": "code",
      "metadata": {
        "id": "usIPDuOaF5At",
        "colab_type": "code",
        "colab": {
          "base_uri": "https://localhost:8080/",
          "height": 209
        },
        "outputId": "9f476ef5-6c62-447f-bc7d-c6ed5649ba9e"
      },
      "source": [
        "bow"
      ],
      "execution_count": null,
      "outputs": [
        {
          "output_type": "execute_result",
          "data": {
            "text/plain": [
              "Counter({'건설, 운송(기능직 관련분야)': 13,\n",
              "         '교육, 의료, 종교, 문화예술, 스포츠, 사회복지 관련 분야': 875,\n",
              "         '군인,경찰, 경호, 소방, 경비 관련 분야': 22,\n",
              "         '농림어업, 광업, 축산업 관련 분야': 355,\n",
              "         '서비스 관련 분야 (음식, 숙박, 여행 등)': 420,\n",
              "         '자연과학, 공학, 컴퓨터 및 통신 관련분야': 738,\n",
              "         '전기, 전자, 기계, 금속 (기능, 생산직 관련 분야)': 386,\n",
              "         '주부, 학생 및 기타 비경제활동인구': 1607,\n",
              "         '판매 관련 분야': 475,\n",
              "         '행정, 금융, 사무관리,법률 관련 분야': 912,\n",
              "         '화학, 섬유, 식품, 설비 및 기타 제조 (기능, 생산직 관련 분야)': 510})"
            ]
          },
          "metadata": {
            "tags": []
          },
          "execution_count": 27
        }
      ]
    },
    {
      "cell_type": "code",
      "metadata": {
        "id": "-eMfZo2-GbTS",
        "colab_type": "code",
        "colab": {
          "base_uri": "https://localhost:8080/",
          "height": 209
        },
        "outputId": "1d4b9131-e690-4c12-9e01-4457a4125558"
      },
      "source": [
        "occp_map"
      ],
      "execution_count": null,
      "outputs": [
        {
          "output_type": "execute_result",
          "data": {
            "text/plain": [
              "{'건설, 운송(기능직 관련분야)': 9,\n",
              " '교육, 의료, 종교, 문화예술, 스포츠, 사회복지 관련 분야': 4,\n",
              " '군인,경찰, 경호, 소방, 경비 관련 분야': 10,\n",
              " '농림어업, 광업, 축산업 관련 분야': 3,\n",
              " '서비스 관련 분야 (음식, 숙박, 여행 등)': 2,\n",
              " '자연과학, 공학, 컴퓨터 및 통신 관련분야': 1,\n",
              " '전기, 전자, 기계, 금속 (기능, 생산직 관련 분야)': 7,\n",
              " '주부, 학생 및 기타 비경제활동인구': 0,\n",
              " '판매 관련 분야': 8,\n",
              " '행정, 금융, 사무관리,법률 관련 분야': 6,\n",
              " '화학, 섬유, 식품, 설비 및 기타 제조 (기능, 생산직 관련 분야)': 5}"
            ]
          },
          "metadata": {
            "tags": []
          },
          "execution_count": 30
        }
      ]
    },
    {
      "cell_type": "code",
      "metadata": {
        "id": "N-n0NpyYsVN5",
        "colab_type": "code",
        "colab": {
          "base_uri": "https://localhost:8080/",
          "height": 332
        },
        "outputId": "d9635826-26c7-4b22-d7c6-1bb35eb1d944"
      },
      "source": [
        "# 1번\n",
        "occp_map = { k:i for i,k in enumerate(bow.keys()) }\n",
        "\n",
        "# 2번\n",
        "#occp_map = dict(zip(bow.keys(),np.linspace(0,1,11)))\n",
        "pop_df['occupation'] = pop_df['occupation'].replace(occp_map)\n",
        "pop_df.head(6)"
      ],
      "execution_count": null,
      "outputs": [
        {
          "output_type": "stream",
          "text": [
            "/usr/local/lib/python3.6/dist-packages/ipykernel_launcher.py:6: SettingWithCopyWarning: \n",
            "A value is trying to be set on a copy of a slice from a DataFrame.\n",
            "Try using .loc[row_indexer,col_indexer] = value instead\n",
            "\n",
            "See the caveats in the documentation: https://pandas.pydata.org/pandas-docs/stable/user_guide/indexing.html#returning-a-view-versus-a-copy\n",
            "  \n"
          ],
          "name": "stderr"
        },
        {
          "output_type": "execute_result",
          "data": {
            "text/html": [
              "<div>\n",
              "<style scoped>\n",
              "    .dataframe tbody tr th:only-of-type {\n",
              "        vertical-align: middle;\n",
              "    }\n",
              "\n",
              "    .dataframe tbody tr th {\n",
              "        vertical-align: top;\n",
              "    }\n",
              "\n",
              "    .dataframe thead th {\n",
              "        text-align: right;\n",
              "    }\n",
              "</style>\n",
              "<table border=\"1\" class=\"dataframe\">\n",
              "  <thead>\n",
              "    <tr style=\"text-align: right;\">\n",
              "      <th></th>\n",
              "      <th>c_idx</th>\n",
              "      <th>s_idx</th>\n",
              "      <th>sex</th>\n",
              "      <th>age</th>\n",
              "      <th>occupation</th>\n",
              "      <th>gis</th>\n",
              "      <th>ins_cat</th>\n",
              "      <th>ins_name</th>\n",
              "      <th>gar_count</th>\n",
              "    </tr>\n",
              "  </thead>\n",
              "  <tbody>\n",
              "    <tr>\n",
              "      <th>0</th>\n",
              "      <td>2</td>\n",
              "      <td>26394</td>\n",
              "      <td>1</td>\n",
              "      <td>21</td>\n",
              "      <td>0</td>\n",
              "      <td>노원구</td>\n",
              "      <td>장기/운전자</td>\n",
              "      <td>무배당 프로미라이프 참좋은운전자+보험1908</td>\n",
              "      <td>6</td>\n",
              "    </tr>\n",
              "    <tr>\n",
              "      <th>6</th>\n",
              "      <td>4</td>\n",
              "      <td>20024</td>\n",
              "      <td>0</td>\n",
              "      <td>21</td>\n",
              "      <td>0</td>\n",
              "      <td>도봉구</td>\n",
              "      <td>장기/질병</td>\n",
              "      <td>무배당 프로미라이프 참좋은치아사랑보험1904</td>\n",
              "      <td>7</td>\n",
              "    </tr>\n",
              "    <tr>\n",
              "      <th>13</th>\n",
              "      <td>8</td>\n",
              "      <td>27841</td>\n",
              "      <td>0</td>\n",
              "      <td>21</td>\n",
              "      <td>0</td>\n",
              "      <td>동대문구</td>\n",
              "      <td>장기/질병</td>\n",
              "      <td>무배당 프로미라이프 참좋은행복플러스+종합보험1911</td>\n",
              "      <td>24</td>\n",
              "    </tr>\n",
              "    <tr>\n",
              "      <th>37</th>\n",
              "      <td>15</td>\n",
              "      <td>16512</td>\n",
              "      <td>0</td>\n",
              "      <td>20</td>\n",
              "      <td>0</td>\n",
              "      <td>금천구</td>\n",
              "      <td>장기/운전자</td>\n",
              "      <td>무배당 프로미라이프 참좋은운전자+보험1908</td>\n",
              "      <td>10</td>\n",
              "    </tr>\n",
              "    <tr>\n",
              "      <th>47</th>\n",
              "      <td>21</td>\n",
              "      <td>27840</td>\n",
              "      <td>1</td>\n",
              "      <td>18</td>\n",
              "      <td>0</td>\n",
              "      <td>동대문구</td>\n",
              "      <td>장기/상해</td>\n",
              "      <td>무배당 프로미라이프 아이(I)러브(LOVE)건강보험2001</td>\n",
              "      <td>23</td>\n",
              "    </tr>\n",
              "    <tr>\n",
              "      <th>70</th>\n",
              "      <td>25</td>\n",
              "      <td>14177</td>\n",
              "      <td>0</td>\n",
              "      <td>16</td>\n",
              "      <td>0</td>\n",
              "      <td>구로구</td>\n",
              "      <td>장기/상해</td>\n",
              "      <td>무배당 프로미라이프 아이(I)러브(LOVE)건강보험2001</td>\n",
              "      <td>37</td>\n",
              "    </tr>\n",
              "  </tbody>\n",
              "</table>\n",
              "</div>"
            ],
            "text/plain": [
              "    c_idx  s_idx  sex  ...  ins_cat                          ins_name gar_count\n",
              "0       2  26394    1  ...   장기/운전자          무배당 프로미라이프 참좋은운전자+보험1908         6\n",
              "6       4  20024    0  ...    장기/질병          무배당 프로미라이프 참좋은치아사랑보험1904         7\n",
              "13      8  27841    0  ...    장기/질병      무배당 프로미라이프 참좋은행복플러스+종합보험1911        24\n",
              "37     15  16512    0  ...   장기/운전자          무배당 프로미라이프 참좋은운전자+보험1908        10\n",
              "47     21  27840    1  ...    장기/상해  무배당 프로미라이프 아이(I)러브(LOVE)건강보험2001        23\n",
              "70     25  14177    0  ...    장기/상해  무배당 프로미라이프 아이(I)러브(LOVE)건강보험2001        37\n",
              "\n",
              "[6 rows x 9 columns]"
            ]
          },
          "metadata": {
            "tags": []
          },
          "execution_count": 29
        }
      ]
    },
    {
      "cell_type": "code",
      "metadata": {
        "id": "X4-Snl4vlZzh",
        "colab_type": "code",
        "colab": {
          "base_uri": "https://localhost:8080/",
          "height": 377
        },
        "outputId": "bc00cd9b-9974-4210-bc8d-66fee46976f0"
      },
      "source": [
        "# 직업을 기준으로 데이터 재구성\n",
        "# count 함수로 직업군별 사람 수를 구할 수 있음\n",
        "oc_count=pop_df.groupby(\"occupation\",as_index=False).count()\n",
        "\n",
        "oc_count"
      ],
      "execution_count": null,
      "outputs": [
        {
          "output_type": "execute_result",
          "data": {
            "text/html": [
              "<div>\n",
              "<style scoped>\n",
              "    .dataframe tbody tr th:only-of-type {\n",
              "        vertical-align: middle;\n",
              "    }\n",
              "\n",
              "    .dataframe tbody tr th {\n",
              "        vertical-align: top;\n",
              "    }\n",
              "\n",
              "    .dataframe thead th {\n",
              "        text-align: right;\n",
              "    }\n",
              "</style>\n",
              "<table border=\"1\" class=\"dataframe\">\n",
              "  <thead>\n",
              "    <tr style=\"text-align: right;\">\n",
              "      <th></th>\n",
              "      <th>occupation</th>\n",
              "      <th>c_idx</th>\n",
              "      <th>s_idx</th>\n",
              "      <th>sex</th>\n",
              "      <th>age</th>\n",
              "      <th>gis</th>\n",
              "      <th>ins_cat</th>\n",
              "      <th>ins_name</th>\n",
              "      <th>gar_count</th>\n",
              "    </tr>\n",
              "  </thead>\n",
              "  <tbody>\n",
              "    <tr>\n",
              "      <th>0</th>\n",
              "      <td>0</td>\n",
              "      <td>1607</td>\n",
              "      <td>1607</td>\n",
              "      <td>1607</td>\n",
              "      <td>1607</td>\n",
              "      <td>1607</td>\n",
              "      <td>1607</td>\n",
              "      <td>1607</td>\n",
              "      <td>1607</td>\n",
              "    </tr>\n",
              "    <tr>\n",
              "      <th>1</th>\n",
              "      <td>1</td>\n",
              "      <td>738</td>\n",
              "      <td>738</td>\n",
              "      <td>738</td>\n",
              "      <td>738</td>\n",
              "      <td>738</td>\n",
              "      <td>738</td>\n",
              "      <td>738</td>\n",
              "      <td>738</td>\n",
              "    </tr>\n",
              "    <tr>\n",
              "      <th>2</th>\n",
              "      <td>2</td>\n",
              "      <td>420</td>\n",
              "      <td>420</td>\n",
              "      <td>420</td>\n",
              "      <td>420</td>\n",
              "      <td>420</td>\n",
              "      <td>420</td>\n",
              "      <td>420</td>\n",
              "      <td>420</td>\n",
              "    </tr>\n",
              "    <tr>\n",
              "      <th>3</th>\n",
              "      <td>3</td>\n",
              "      <td>355</td>\n",
              "      <td>355</td>\n",
              "      <td>355</td>\n",
              "      <td>355</td>\n",
              "      <td>355</td>\n",
              "      <td>355</td>\n",
              "      <td>355</td>\n",
              "      <td>355</td>\n",
              "    </tr>\n",
              "    <tr>\n",
              "      <th>4</th>\n",
              "      <td>4</td>\n",
              "      <td>875</td>\n",
              "      <td>875</td>\n",
              "      <td>875</td>\n",
              "      <td>875</td>\n",
              "      <td>875</td>\n",
              "      <td>875</td>\n",
              "      <td>875</td>\n",
              "      <td>875</td>\n",
              "    </tr>\n",
              "    <tr>\n",
              "      <th>5</th>\n",
              "      <td>5</td>\n",
              "      <td>510</td>\n",
              "      <td>510</td>\n",
              "      <td>510</td>\n",
              "      <td>510</td>\n",
              "      <td>510</td>\n",
              "      <td>510</td>\n",
              "      <td>510</td>\n",
              "      <td>510</td>\n",
              "    </tr>\n",
              "    <tr>\n",
              "      <th>6</th>\n",
              "      <td>6</td>\n",
              "      <td>912</td>\n",
              "      <td>912</td>\n",
              "      <td>912</td>\n",
              "      <td>912</td>\n",
              "      <td>912</td>\n",
              "      <td>912</td>\n",
              "      <td>912</td>\n",
              "      <td>912</td>\n",
              "    </tr>\n",
              "    <tr>\n",
              "      <th>7</th>\n",
              "      <td>7</td>\n",
              "      <td>386</td>\n",
              "      <td>386</td>\n",
              "      <td>386</td>\n",
              "      <td>386</td>\n",
              "      <td>386</td>\n",
              "      <td>386</td>\n",
              "      <td>386</td>\n",
              "      <td>386</td>\n",
              "    </tr>\n",
              "    <tr>\n",
              "      <th>8</th>\n",
              "      <td>8</td>\n",
              "      <td>475</td>\n",
              "      <td>475</td>\n",
              "      <td>475</td>\n",
              "      <td>475</td>\n",
              "      <td>475</td>\n",
              "      <td>475</td>\n",
              "      <td>475</td>\n",
              "      <td>475</td>\n",
              "    </tr>\n",
              "    <tr>\n",
              "      <th>9</th>\n",
              "      <td>9</td>\n",
              "      <td>13</td>\n",
              "      <td>13</td>\n",
              "      <td>13</td>\n",
              "      <td>13</td>\n",
              "      <td>13</td>\n",
              "      <td>13</td>\n",
              "      <td>13</td>\n",
              "      <td>13</td>\n",
              "    </tr>\n",
              "    <tr>\n",
              "      <th>10</th>\n",
              "      <td>10</td>\n",
              "      <td>22</td>\n",
              "      <td>22</td>\n",
              "      <td>22</td>\n",
              "      <td>22</td>\n",
              "      <td>22</td>\n",
              "      <td>22</td>\n",
              "      <td>22</td>\n",
              "      <td>22</td>\n",
              "    </tr>\n",
              "  </tbody>\n",
              "</table>\n",
              "</div>"
            ],
            "text/plain": [
              "    occupation  c_idx  s_idx   sex   age   gis  ins_cat  ins_name  gar_count\n",
              "0            0   1607   1607  1607  1607  1607     1607      1607       1607\n",
              "1            1    738    738   738   738   738      738       738        738\n",
              "2            2    420    420   420   420   420      420       420        420\n",
              "3            3    355    355   355   355   355      355       355        355\n",
              "4            4    875    875   875   875   875      875       875        875\n",
              "5            5    510    510   510   510   510      510       510        510\n",
              "6            6    912    912   912   912   912      912       912        912\n",
              "7            7    386    386   386   386   386      386       386        386\n",
              "8            8    475    475   475   475   475      475       475        475\n",
              "9            9     13     13    13    13    13       13        13         13\n",
              "10          10     22     22    22    22    22       22        22         22"
            ]
          },
          "metadata": {
            "tags": []
          },
          "execution_count": 31
        }
      ]
    },
    {
      "cell_type": "code",
      "metadata": {
        "id": "HDfSdttajtkk",
        "colab_type": "code",
        "colab": {
          "base_uri": "https://localhost:8080/",
          "height": 788
        },
        "outputId": "0977bc08-2ea0-448b-d827-b71a84153569"
      },
      "source": [
        "# 정제 전\n",
        "plt.figure(figsize=(10,6))\n",
        "plt.pie(\n",
        "    x=\"occupation\",\n",
        "    data=pop_job_counts,\n",
        "    labels=pop_job_counts[\"occupation_mapped\"],\n",
        "    autopct='%1.2f%%', # second decimal place\n",
        "    startangle=90,\n",
        "    explode=[0.3 for _ in range(11)]\n",
        ")\n",
        "plt.show()\n",
        "\n",
        "# 정제 후\n",
        "plt.figure(figsize=(10,6))\n",
        "plt.pie(\n",
        "    x=\"c_idx\",\n",
        "    data=oc_count,\n",
        "    labels=oc_count[\"occupation\"],\n",
        "    autopct='%1.2f%%', # second decimal place\n",
        "    startangle=90,\n",
        "    explode=[0.3 for _ in range(11)]\n",
        ")\n",
        "plt.show()"
      ],
      "execution_count": null,
      "outputs": [
        {
          "output_type": "display_data",
          "data": {
            "image/png": "[encoded data removed]",
            "text/plain": [
              "<Figure size 720x432 with 1 Axes>"
            ]
          },
          "metadata": {
            "tags": []
          }
        },
        {
          "output_type": "display_data",
          "data": {
            "image/png": "[encoded data removed]",
            "text/plain": [
              "<Figure size 720x432 with 1 Axes>"
            ]
          },
          "metadata": {
            "tags": []
          }
        }
      ]
    },
    {
      "cell_type": "code",
      "metadata": {
        "id": "xslskNh0IXmD",
        "colab_type": "code",
        "colab": {
          "base_uri": "https://localhost:8080/",
          "height": 512
        },
        "outputId": "d7357468-3fb7-4f10-921d-b44885c95f4e"
      },
      "source": [
        "pop_df[\"gar_count\"] = pop_df[\"gar_count\"].astype(str).astype(int)\n",
        "pop_df.groupby(\"occupation\").sum()"
      ],
      "execution_count": null,
      "outputs": [
        {
          "output_type": "stream",
          "text": [
            "/usr/local/lib/python3.6/dist-packages/ipykernel_launcher.py:1: SettingWithCopyWarning: \n",
            "A value is trying to be set on a copy of a slice from a DataFrame.\n",
            "Try using .loc[row_indexer,col_indexer] = value instead\n",
            "\n",
            "See the caveats in the documentation: https://pandas.pydata.org/pandas-docs/stable/user_guide/indexing.html#returning-a-view-versus-a-copy\n",
            "  \"\"\"Entry point for launching an IPython kernel.\n"
          ],
          "name": "stderr"
        },
        {
          "output_type": "execute_result",
          "data": {
            "text/html": [
              "<div>\n",
              "<style scoped>\n",
              "    .dataframe tbody tr th:only-of-type {\n",
              "        vertical-align: middle;\n",
              "    }\n",
              "\n",
              "    .dataframe tbody tr th {\n",
              "        vertical-align: top;\n",
              "    }\n",
              "\n",
              "    .dataframe thead th {\n",
              "        text-align: right;\n",
              "    }\n",
              "</style>\n",
              "<table border=\"1\" class=\"dataframe\">\n",
              "  <thead>\n",
              "    <tr style=\"text-align: right;\">\n",
              "      <th></th>\n",
              "      <th>c_idx</th>\n",
              "      <th>s_idx</th>\n",
              "      <th>sex</th>\n",
              "      <th>age</th>\n",
              "      <th>gar_count</th>\n",
              "    </tr>\n",
              "    <tr>\n",
              "      <th>occupation</th>\n",
              "      <th></th>\n",
              "      <th></th>\n",
              "      <th></th>\n",
              "      <th></th>\n",
              "      <th></th>\n",
              "    </tr>\n",
              "  </thead>\n",
              "  <tbody>\n",
              "    <tr>\n",
              "      <th>0</th>\n",
              "      <td>32212333</td>\n",
              "      <td>39132622</td>\n",
              "      <td>1138</td>\n",
              "      <td>65675</td>\n",
              "      <td>26272</td>\n",
              "    </tr>\n",
              "    <tr>\n",
              "      <th>1</th>\n",
              "      <td>17567914</td>\n",
              "      <td>17081783</td>\n",
              "      <td>349</td>\n",
              "      <td>32532</td>\n",
              "      <td>12018</td>\n",
              "    </tr>\n",
              "    <tr>\n",
              "      <th>2</th>\n",
              "      <td>8080187</td>\n",
              "      <td>9831023</td>\n",
              "      <td>227</td>\n",
              "      <td>20662</td>\n",
              "      <td>6783</td>\n",
              "    </tr>\n",
              "    <tr>\n",
              "      <th>3</th>\n",
              "      <td>6495311</td>\n",
              "      <td>8426606</td>\n",
              "      <td>103</td>\n",
              "      <td>19719</td>\n",
              "      <td>5280</td>\n",
              "    </tr>\n",
              "    <tr>\n",
              "      <th>4</th>\n",
              "      <td>20367695</td>\n",
              "      <td>20328558</td>\n",
              "      <td>427</td>\n",
              "      <td>37235</td>\n",
              "      <td>15233</td>\n",
              "    </tr>\n",
              "    <tr>\n",
              "      <th>5</th>\n",
              "      <td>8126186</td>\n",
              "      <td>11979962</td>\n",
              "      <td>25</td>\n",
              "      <td>28336</td>\n",
              "      <td>9113</td>\n",
              "    </tr>\n",
              "    <tr>\n",
              "      <th>6</th>\n",
              "      <td>17305707</td>\n",
              "      <td>20861718</td>\n",
              "      <td>272</td>\n",
              "      <td>44868</td>\n",
              "      <td>14238</td>\n",
              "    </tr>\n",
              "    <tr>\n",
              "      <th>7</th>\n",
              "      <td>7935149</td>\n",
              "      <td>8853387</td>\n",
              "      <td>51</td>\n",
              "      <td>20008</td>\n",
              "      <td>6411</td>\n",
              "    </tr>\n",
              "    <tr>\n",
              "      <th>8</th>\n",
              "      <td>10813002</td>\n",
              "      <td>11237158</td>\n",
              "      <td>288</td>\n",
              "      <td>23023</td>\n",
              "      <td>7204</td>\n",
              "    </tr>\n",
              "    <tr>\n",
              "      <th>9</th>\n",
              "      <td>186465</td>\n",
              "      <td>323259</td>\n",
              "      <td>2</td>\n",
              "      <td>774</td>\n",
              "      <td>222</td>\n",
              "    </tr>\n",
              "    <tr>\n",
              "      <th>10</th>\n",
              "      <td>668264</td>\n",
              "      <td>511891</td>\n",
              "      <td>2</td>\n",
              "      <td>645</td>\n",
              "      <td>460</td>\n",
              "    </tr>\n",
              "  </tbody>\n",
              "</table>\n",
              "</div>"
            ],
            "text/plain": [
              "               c_idx     s_idx   sex    age  gar_count\n",
              "occupation                                            \n",
              "0           32212333  39132622  1138  65675      26272\n",
              "1           17567914  17081783   349  32532      12018\n",
              "2            8080187   9831023   227  20662       6783\n",
              "3            6495311   8426606   103  19719       5280\n",
              "4           20367695  20328558   427  37235      15233\n",
              "5            8126186  11979962    25  28336       9113\n",
              "6           17305707  20861718   272  44868      14238\n",
              "7            7935149   8853387    51  20008       6411\n",
              "8           10813002  11237158   288  23023       7204\n",
              "9             186465    323259     2    774        222\n",
              "10            668264    511891     2    645        460"
            ]
          },
          "metadata": {
            "tags": []
          },
          "execution_count": 35
        }
      ]
    },
    {
      "cell_type": "code",
      "metadata": {
        "id": "WzaNsiVWnmDJ",
        "colab_type": "code",
        "colab": {
          "base_uri": "https://localhost:8080/",
          "height": 516
        },
        "outputId": "5621bb48-bd24-44ba-cce3-455fabd0fa98"
      },
      "source": [
        "# 직업군별 특약 개수\n",
        "# gar_count 형변환 object->int64\n",
        "pop_df[\"gar_count\"] = pop_df[\"gar_count\"].astype(str).astype(int)\n",
        "pop_df.groupby(\"occupation\").sum()[\"gar_count\"].sort_values(ascending=False).plot(\n",
        "    kind='bar',\n",
        "    stacked=True,\n",
        "    colormap='rainbow',\n",
        "    figsize=(12,8)).legend(loc='center left',\n",
        "    bbox_to_anchor=(1, 0.5)\n",
        ")"
      ],
      "execution_count": null,
      "outputs": [
        {
          "output_type": "execute_result",
          "data": {
            "text/plain": [
              "<matplotlib.legend.Legend at 0x7f73e94d9f28>"
            ]
          },
          "metadata": {
            "tags": []
          },
          "execution_count": 30
        },
        {
          "output_type": "display_data",
          "data": {
            "image/png": "[encoded data removed]",
            "text/plain": [
              "<Figure size 864x576 with 1 Axes>"
            ]
          },
          "metadata": {
            "tags": [],
            "needs_background": "light"
          }
        }
      ]
    },
    {
      "cell_type": "code",
      "metadata": {
        "id": "ryZ68aV8qo_l",
        "colab_type": "code",
        "colab": {
          "base_uri": "https://localhost:8080/",
          "height": 392
        },
        "outputId": "f8a7242e-828c-4351-d706-f2f98614583d"
      },
      "source": [
        "# 각 직업군별 1인당 특약 개수\n",
        "rat=pop_df.groupby(\"occupation\").sum()[\"gar_count\"]/pop_df[\"occupation\"].value_counts()\n",
        "fig = plt.figure(figsize=(10,6))\n",
        "plt.bar(rat.index,rat)"
      ],
      "execution_count": null,
      "outputs": [
        {
          "output_type": "execute_result",
          "data": {
            "text/plain": [
              "<BarContainer object of 11 artists>"
            ]
          },
          "metadata": {
            "tags": []
          },
          "execution_count": 36
        },
        {
          "output_type": "display_data",
          "data": {
            "image/png": "[encoded data removed]",
            "text/plain": [
              "<Figure size 720x432 with 1 Axes>"
            ]
          },
          "metadata": {
            "tags": [],
            "needs_background": "light"
          }
        }
      ]
    },
    {
      "cell_type": "markdown",
      "metadata": {
        "id": "8pKHYkLNuiwU",
        "colab_type": "text"
      },
      "source": [
        "- age\n",
        " - child, young, adult, mid-age, senior 로 구분\n",
        " - child -> 고등학생 이전(~16세)\n",
        " - young -> 대학교졸업(17~26세)\n",
        " - adult -> 사회초년생 -> 과장급(27~36세)\n",
        " - mid-age -> 예상 은퇴 나이(37~57세)\n",
        " - senior -> 퇴직이후(58세~)"
      ]
    },
    {
      "cell_type": "code",
      "metadata": {
        "id": "g7Kc5NuLufi_",
        "colab_type": "code",
        "colab": {
          "base_uri": "https://localhost:8080/",
          "height": 227
        },
        "outputId": "2696f3cd-242a-4898-d6b9-9bc0b87ed684"
      },
      "source": [
        "age_map = {'child':0,'young':1,'adult':2,'mid-age':3,'senior':4}\n",
        "pop_df.loc[df[\"age\"] <= 16, 'age'] = 0\n",
        "pop_df.loc[(pop_df[\"age\"] > 16) & (pop_df[\"age\"] <= 26), 'age'] = 1\n",
        "pop_df.loc[(df[\"age\"] > 26) & (pop_df[\"age\"] <= 36), 'age'] = 2\n",
        "pop_df.loc[(df[\"age\"] > 36) & (pop_df[\"age\"] <= 57), 'age'] = 3\n",
        "pop_df.loc[(df[\"age\"] > 57),'age'] = 4\n",
        "\n",
        "pop_df[\"age\"].value_counts()"
      ],
      "execution_count": null,
      "outputs": [
        {
          "output_type": "stream",
          "text": [
            "/usr/local/lib/python3.6/dist-packages/pandas/core/indexing.py:966: SettingWithCopyWarning: \n",
            "A value is trying to be set on a copy of a slice from a DataFrame.\n",
            "Try using .loc[row_indexer,col_indexer] = value instead\n",
            "\n",
            "See the caveats in the documentation: https://pandas.pydata.org/pandas-docs/stable/user_guide/indexing.html#returning-a-view-versus-a-copy\n",
            "  self.obj[item] = s\n"
          ],
          "name": "stderr"
        },
        {
          "output_type": "execute_result",
          "data": {
            "text/plain": [
              "3    2468\n",
              "4    1887\n",
              "2    1173\n",
              "1     538\n",
              "0     247\n",
              "Name: age, dtype: int64"
            ]
          },
          "metadata": {
            "tags": []
          },
          "execution_count": 37
        }
      ]
    },
    {
      "cell_type": "markdown",
      "metadata": {
        "id": "fqnUagMayEIx",
        "colab_type": "text"
      },
      "source": [
        "\n",
        "# https://data.seoul.go.kr/dataList/11043/S/2/datasetView.do\n",
        "\n",
        "- city-district\n",
        " - 전부 서울에 살고 있으므로 city는 제외\n",
        " - 사는 지역에서 차별점이 있는 변수는 자본수준(gis로 측정)\n",
        " - 자본수준과 보험 특약을 들 수 있는 능력과 관계가 있다고 판단\n",
        " - district를 gdp//100000한 값으로 대체\n",
        " - MinMax scaler를 통해서 0~5 사이의 값으로 스케일링"
      ]
    },
    {
      "cell_type": "code",
      "metadata": {
        "id": "B55l86RXyAKU",
        "colab_type": "code",
        "colab": {
          "base_uri": "https://localhost:8080/",
          "height": 359
        },
        "outputId": "f4953191-39cb-4dee-ebf4-e3969b7965c5"
      },
      "source": [
        "with open(\"/content/drive/My Drive/insuretech/insurance/report.txt\",\"r\") as f:\n",
        "  rows = f.read().split(\"\\n\")\n",
        "city_gdp_map = {each.split(\"\\t\")[1]:int(each.split(\"\\t\")[2].replace(\",\",\"\"))//100000 for each in rows[1:]}\n",
        "pop_df[\"gis\"] = pop_df[\"gis\"].replace(city_gdp_map)\n",
        "pop_df.head(10)"
      ],
      "execution_count": null,
      "outputs": [
        {
          "output_type": "execute_result",
          "data": {
            "text/html": [
              "<div>\n",
              "<style scoped>\n",
              "    .dataframe tbody tr th:only-of-type {\n",
              "        vertical-align: middle;\n",
              "    }\n",
              "\n",
              "    .dataframe tbody tr th {\n",
              "        vertical-align: top;\n",
              "    }\n",
              "\n",
              "    .dataframe thead th {\n",
              "        text-align: right;\n",
              "    }\n",
              "</style>\n",
              "<table border=\"1\" class=\"dataframe\">\n",
              "  <thead>\n",
              "    <tr style=\"text-align: right;\">\n",
              "      <th></th>\n",
              "      <th>c_idx</th>\n",
              "      <th>s_idx</th>\n",
              "      <th>sex</th>\n",
              "      <th>age</th>\n",
              "      <th>occupation</th>\n",
              "      <th>gis</th>\n",
              "      <th>ins_cat</th>\n",
              "      <th>ins_name</th>\n",
              "      <th>gar_count</th>\n",
              "    </tr>\n",
              "  </thead>\n",
              "  <tbody>\n",
              "    <tr>\n",
              "      <th>0</th>\n",
              "      <td>2</td>\n",
              "      <td>26394</td>\n",
              "      <td>1</td>\n",
              "      <td>1</td>\n",
              "      <td>0</td>\n",
              "      <td>52</td>\n",
              "      <td>장기/운전자</td>\n",
              "      <td>무배당 프로미라이프 참좋은운전자+보험1908</td>\n",
              "      <td>6</td>\n",
              "    </tr>\n",
              "    <tr>\n",
              "      <th>6</th>\n",
              "      <td>4</td>\n",
              "      <td>20024</td>\n",
              "      <td>0</td>\n",
              "      <td>1</td>\n",
              "      <td>0</td>\n",
              "      <td>28</td>\n",
              "      <td>장기/질병</td>\n",
              "      <td>무배당 프로미라이프 참좋은치아사랑보험1904</td>\n",
              "      <td>7</td>\n",
              "    </tr>\n",
              "    <tr>\n",
              "      <th>13</th>\n",
              "      <td>8</td>\n",
              "      <td>27841</td>\n",
              "      <td>0</td>\n",
              "      <td>1</td>\n",
              "      <td>0</td>\n",
              "      <td>71</td>\n",
              "      <td>장기/질병</td>\n",
              "      <td>무배당 프로미라이프 참좋은행복플러스+종합보험1911</td>\n",
              "      <td>24</td>\n",
              "    </tr>\n",
              "    <tr>\n",
              "      <th>37</th>\n",
              "      <td>15</td>\n",
              "      <td>16512</td>\n",
              "      <td>0</td>\n",
              "      <td>1</td>\n",
              "      <td>0</td>\n",
              "      <td>150</td>\n",
              "      <td>장기/운전자</td>\n",
              "      <td>무배당 프로미라이프 참좋은운전자+보험1908</td>\n",
              "      <td>10</td>\n",
              "    </tr>\n",
              "    <tr>\n",
              "      <th>47</th>\n",
              "      <td>21</td>\n",
              "      <td>27840</td>\n",
              "      <td>1</td>\n",
              "      <td>1</td>\n",
              "      <td>0</td>\n",
              "      <td>71</td>\n",
              "      <td>장기/상해</td>\n",
              "      <td>무배당 프로미라이프 아이(I)러브(LOVE)건강보험2001</td>\n",
              "      <td>23</td>\n",
              "    </tr>\n",
              "    <tr>\n",
              "      <th>70</th>\n",
              "      <td>25</td>\n",
              "      <td>14177</td>\n",
              "      <td>0</td>\n",
              "      <td>0</td>\n",
              "      <td>0</td>\n",
              "      <td>119</td>\n",
              "      <td>장기/상해</td>\n",
              "      <td>무배당 프로미라이프 아이(I)러브(LOVE)건강보험2001</td>\n",
              "      <td>37</td>\n",
              "    </tr>\n",
              "    <tr>\n",
              "      <th>107</th>\n",
              "      <td>41</td>\n",
              "      <td>17679</td>\n",
              "      <td>0</td>\n",
              "      <td>4</td>\n",
              "      <td>0</td>\n",
              "      <td>277</td>\n",
              "      <td>장기/질병</td>\n",
              "      <td>무배당 프로미라이프 참좋은간편건강보험1906_TM</td>\n",
              "      <td>10</td>\n",
              "    </tr>\n",
              "    <tr>\n",
              "      <th>117</th>\n",
              "      <td>44</td>\n",
              "      <td>17112</td>\n",
              "      <td>0</td>\n",
              "      <td>4</td>\n",
              "      <td>1</td>\n",
              "      <td>107</td>\n",
              "      <td>장기/상해</td>\n",
              "      <td>무배당 프로미라이프 스마트가정보장보험1904</td>\n",
              "      <td>1</td>\n",
              "    </tr>\n",
              "    <tr>\n",
              "      <th>118</th>\n",
              "      <td>45</td>\n",
              "      <td>41013</td>\n",
              "      <td>0</td>\n",
              "      <td>4</td>\n",
              "      <td>2</td>\n",
              "      <td>52</td>\n",
              "      <td>장기/상해</td>\n",
              "      <td>무배당 프로미라이프 실손의료비보험(계약전환용)2001</td>\n",
              "      <td>6</td>\n",
              "    </tr>\n",
              "    <tr>\n",
              "      <th>124</th>\n",
              "      <td>47</td>\n",
              "      <td>14953</td>\n",
              "      <td>0</td>\n",
              "      <td>4</td>\n",
              "      <td>3</td>\n",
              "      <td>107</td>\n",
              "      <td>장기/운전자</td>\n",
              "      <td>무배당 프로미라이프 참좋은운전자보험(TM)1908</td>\n",
              "      <td>13</td>\n",
              "    </tr>\n",
              "  </tbody>\n",
              "</table>\n",
              "</div>"
            ],
            "text/plain": [
              "     c_idx  s_idx  sex  ...  ins_cat                          ins_name  gar_count\n",
              "0        2  26394    1  ...   장기/운전자          무배당 프로미라이프 참좋은운전자+보험1908          6\n",
              "6        4  20024    0  ...    장기/질병          무배당 프로미라이프 참좋은치아사랑보험1904          7\n",
              "13       8  27841    0  ...    장기/질병      무배당 프로미라이프 참좋은행복플러스+종합보험1911         24\n",
              "37      15  16512    0  ...   장기/운전자          무배당 프로미라이프 참좋은운전자+보험1908         10\n",
              "47      21  27840    1  ...    장기/상해  무배당 프로미라이프 아이(I)러브(LOVE)건강보험2001         23\n",
              "70      25  14177    0  ...    장기/상해  무배당 프로미라이프 아이(I)러브(LOVE)건강보험2001         37\n",
              "107     41  17679    0  ...    장기/질병       무배당 프로미라이프 참좋은간편건강보험1906_TM         10\n",
              "117     44  17112    0  ...    장기/상해          무배당 프로미라이프 스마트가정보장보험1904          1\n",
              "118     45  41013    0  ...    장기/상해     무배당 프로미라이프 실손의료비보험(계약전환용)2001          6\n",
              "124     47  14953    0  ...   장기/운전자       무배당 프로미라이프 참좋은운전자보험(TM)1908         13\n",
              "\n",
              "[10 rows x 9 columns]"
            ]
          },
          "metadata": {
            "tags": []
          },
          "execution_count": 35
        }
      ]
    },
    {
      "cell_type": "code",
      "metadata": {
        "id": "MsSSMy3UEg2C",
        "colab_type": "code",
        "colab": {
          "base_uri": "https://localhost:8080/",
          "height": 459
        },
        "outputId": "e58dd2b5-493f-467b-84b6-f69acf579d6d"
      },
      "source": [
        "city_gdp_map"
      ],
      "execution_count": null,
      "outputs": [
        {
          "output_type": "execute_result",
          "data": {
            "text/plain": [
              "{'강남구': 599,\n",
              " '강동구': 74,\n",
              " '강북구': 28,\n",
              " '강서구': 107,\n",
              " '관악구': 53,\n",
              " '광진구': 59,\n",
              " '구로구': 119,\n",
              " '금천구': 150,\n",
              " '노원구': 52,\n",
              " '도봉구': 28,\n",
              " '동대문구': 71,\n",
              " '동작구': 51,\n",
              " '마포구': 163,\n",
              " '서대문구': 74,\n",
              " '서울시': 3594,\n",
              " '서초구': 294,\n",
              " '성동구': 105,\n",
              " '성북구': 52,\n",
              " '송파구': 220,\n",
              " '양천구': 60,\n",
              " '영등포구': 277,\n",
              " '용산구': 103,\n",
              " '은평구': 39,\n",
              " '종로구': 280,\n",
              " '중구': 486,\n",
              " '중랑구': 40}"
            ]
          },
          "metadata": {
            "tags": []
          },
          "execution_count": 51
        }
      ]
    },
    {
      "cell_type": "code",
      "metadata": {
        "id": "nStLSsnSt3CP",
        "colab_type": "code",
        "colab": {
          "base_uri": "https://localhost:8080/",
          "height": 500
        },
        "outputId": "5af54f03-9ab6-40bc-bd3d-e175ea3f4f3d"
      },
      "source": [
        "#직업 별 자본 수준\n",
        "oc_gis=pop_df.groupby(\"occupation\",as_index=False).mean()[[\"occupation\",\"gis\"]]\n",
        "oc_gis.head(11)\n",
        "f, ax = plt.subplots(figsize=(12, 8))\n",
        "ax.plot(oc_gis[\"occupation\"],oc_gis[\"gis\"])"
      ],
      "execution_count": null,
      "outputs": [
        {
          "output_type": "execute_result",
          "data": {
            "text/plain": [
              "[<matplotlib.lines.Line2D at 0x7f73e25aa9e8>]"
            ]
          },
          "metadata": {
            "tags": []
          },
          "execution_count": 41
        },
        {
          "output_type": "display_data",
          "data": {
            "image/png": "[encoded data removed]",
            "text/plain": [
              "<Figure size 864x576 with 1 Axes>"
            ]
          },
          "metadata": {
            "tags": [],
            "needs_background": "light"
          }
        }
      ]
    },
    {
      "cell_type": "code",
      "metadata": {
        "id": "-Cn2aTiVDnwb",
        "colab_type": "code",
        "colab": {
          "base_uri": "https://localhost:8080/",
          "height": 458
        },
        "outputId": "05716979-ea45-491b-d71f-c57e3c140d37"
      },
      "source": [
        "# 지역구별 특약 가입 개수\n",
        "gar_gis=pop_df.groupby(\"gis\",as_index=False).mean()[[\"gar_count\",\"gis\"]]\n",
        "gar_gis\n",
        "sns.jointplot(gar_gis[\"gis\"],gar_gis[\"gar_count\"])"
      ],
      "execution_count": null,
      "outputs": [
        {
          "output_type": "execute_result",
          "data": {
            "text/plain": [
              "<seaborn.axisgrid.JointGrid at 0x7f73e90c95c0>"
            ]
          },
          "metadata": {
            "tags": []
          },
          "execution_count": 54
        },
        {
          "output_type": "display_data",
          "data": {
            "image/png": "[encoded data removed]",
            "text/plain": [
              "<Figure size 432x432 with 3 Axes>"
            ]
          },
          "metadata": {
            "tags": [],
            "needs_background": "light"
          }
        }
      ]
    },
    {
      "cell_type": "code",
      "metadata": {
        "id": "bhcOVl37E2VU",
        "colab_type": "code",
        "colab": {
          "base_uri": "https://localhost:8080/",
          "height": 731
        },
        "outputId": "cb8f926b-d8e8-4ba4-f1fb-56b62a7b38fc"
      },
      "source": [
        "gar_gis"
      ],
      "execution_count": null,
      "outputs": [
        {
          "output_type": "execute_result",
          "data": {
            "text/html": [
              "<div>\n",
              "<style scoped>\n",
              "    .dataframe tbody tr th:only-of-type {\n",
              "        vertical-align: middle;\n",
              "    }\n",
              "\n",
              "    .dataframe tbody tr th {\n",
              "        vertical-align: top;\n",
              "    }\n",
              "\n",
              "    .dataframe thead th {\n",
              "        text-align: right;\n",
              "    }\n",
              "</style>\n",
              "<table border=\"1\" class=\"dataframe\">\n",
              "  <thead>\n",
              "    <tr style=\"text-align: right;\">\n",
              "      <th></th>\n",
              "      <th>gar_count</th>\n",
              "      <th>gis</th>\n",
              "    </tr>\n",
              "  </thead>\n",
              "  <tbody>\n",
              "    <tr>\n",
              "      <th>0</th>\n",
              "      <td>12.0</td>\n",
              "      <td>28</td>\n",
              "    </tr>\n",
              "    <tr>\n",
              "      <th>1</th>\n",
              "      <td>13.0</td>\n",
              "      <td>39</td>\n",
              "    </tr>\n",
              "    <tr>\n",
              "      <th>2</th>\n",
              "      <td>10.0</td>\n",
              "      <td>40</td>\n",
              "    </tr>\n",
              "    <tr>\n",
              "      <th>3</th>\n",
              "      <td>9.0</td>\n",
              "      <td>51</td>\n",
              "    </tr>\n",
              "    <tr>\n",
              "      <th>4</th>\n",
              "      <td>12.0</td>\n",
              "      <td>52</td>\n",
              "    </tr>\n",
              "    <tr>\n",
              "      <th>5</th>\n",
              "      <td>12.0</td>\n",
              "      <td>53</td>\n",
              "    </tr>\n",
              "    <tr>\n",
              "      <th>6</th>\n",
              "      <td>13.0</td>\n",
              "      <td>59</td>\n",
              "    </tr>\n",
              "    <tr>\n",
              "      <th>7</th>\n",
              "      <td>12.0</td>\n",
              "      <td>60</td>\n",
              "    </tr>\n",
              "    <tr>\n",
              "      <th>8</th>\n",
              "      <td>13.0</td>\n",
              "      <td>71</td>\n",
              "    </tr>\n",
              "    <tr>\n",
              "      <th>9</th>\n",
              "      <td>13.0</td>\n",
              "      <td>74</td>\n",
              "    </tr>\n",
              "    <tr>\n",
              "      <th>10</th>\n",
              "      <td>12.5</td>\n",
              "      <td>103</td>\n",
              "    </tr>\n",
              "    <tr>\n",
              "      <th>11</th>\n",
              "      <td>12.0</td>\n",
              "      <td>105</td>\n",
              "    </tr>\n",
              "    <tr>\n",
              "      <th>12</th>\n",
              "      <td>12.0</td>\n",
              "      <td>107</td>\n",
              "    </tr>\n",
              "    <tr>\n",
              "      <th>13</th>\n",
              "      <td>14.0</td>\n",
              "      <td>119</td>\n",
              "    </tr>\n",
              "    <tr>\n",
              "      <th>14</th>\n",
              "      <td>13.0</td>\n",
              "      <td>150</td>\n",
              "    </tr>\n",
              "    <tr>\n",
              "      <th>15</th>\n",
              "      <td>9.0</td>\n",
              "      <td>163</td>\n",
              "    </tr>\n",
              "    <tr>\n",
              "      <th>16</th>\n",
              "      <td>11.0</td>\n",
              "      <td>220</td>\n",
              "    </tr>\n",
              "    <tr>\n",
              "      <th>17</th>\n",
              "      <td>10.0</td>\n",
              "      <td>277</td>\n",
              "    </tr>\n",
              "    <tr>\n",
              "      <th>18</th>\n",
              "      <td>10.0</td>\n",
              "      <td>280</td>\n",
              "    </tr>\n",
              "    <tr>\n",
              "      <th>19</th>\n",
              "      <td>9.0</td>\n",
              "      <td>294</td>\n",
              "    </tr>\n",
              "    <tr>\n",
              "      <th>20</th>\n",
              "      <td>10.0</td>\n",
              "      <td>486</td>\n",
              "    </tr>\n",
              "    <tr>\n",
              "      <th>21</th>\n",
              "      <td>9.0</td>\n",
              "      <td>599</td>\n",
              "    </tr>\n",
              "  </tbody>\n",
              "</table>\n",
              "</div>"
            ],
            "text/plain": [
              "    gar_count  gis\n",
              "0        12.0   28\n",
              "1        13.0   39\n",
              "2        10.0   40\n",
              "3         9.0   51\n",
              "4        12.0   52\n",
              "5        12.0   53\n",
              "6        13.0   59\n",
              "7        12.0   60\n",
              "8        13.0   71\n",
              "9        13.0   74\n",
              "10       12.5  103\n",
              "11       12.0  105\n",
              "12       12.0  107\n",
              "13       14.0  119\n",
              "14       13.0  150\n",
              "15        9.0  163\n",
              "16       11.0  220\n",
              "17       10.0  277\n",
              "18       10.0  280\n",
              "19        9.0  294\n",
              "20       10.0  486\n",
              "21        9.0  599"
            ]
          },
          "metadata": {
            "tags": []
          },
          "execution_count": 53
        }
      ]
    },
    {
      "cell_type": "code",
      "metadata": {
        "id": "8f3L5DCRy9nh",
        "colab_type": "code",
        "colab": {
          "base_uri": "https://localhost:8080/",
          "height": 221
        },
        "outputId": "aab1fdd6-c1bf-47bd-9596-4cddd6e382ae"
      },
      "source": [
        "#Min-Max scaler 정의\n",
        "MAX = pop_df[\"gis\"].max()\n",
        "MIN = pop_df[\"gis\"].min()\n",
        "denom = MAX-MIN\n",
        "\n",
        "def scaler(denom,min,x):\n",
        "    return (x - min) / denom\n",
        "\n",
        "pop_df[\"gis\"] = pop_df[\"gis\"].apply(lambda x: scaler(denom,MIN,x))\n",
        "\n",
        "# 정규화 결과확인\n",
        "pop_df[\"gis\"].value_counts()\n",
        "\n",
        "MAX = pop_df[\"gar_count\"].max()\n",
        "MIN = pop_df[\"gar_count\"].min()\n",
        "denom = MAX-MIN\n",
        "\n",
        "pop_df[\"gar_count\"] = pop_df[\"gar_count\"].apply(lambda x: scaler(denom,MIN,x))\n",
        "\n",
        "# 정규화 결과확인\n",
        "pop_df[\"gar_count\"].value_counts()"
      ],
      "execution_count": null,
      "outputs": [
        {
          "output_type": "execute_result",
          "data": {
            "text/plain": [
              "0.069565    1348\n",
              "0.017391     243\n",
              "0.026087     240\n",
              "0.000000     183\n",
              "0.121739     179\n",
              "            ... \n",
              "0.617391       1\n",
              "0.878261       1\n",
              "0.773913       1\n",
              "1.000000       1\n",
              "0.973913       1\n",
              "Name: gar_count, Length: 88, dtype: int64"
            ]
          },
          "metadata": {
            "tags": []
          },
          "execution_count": 68
        }
      ]
    },
    {
      "cell_type": "code",
      "metadata": {
        "id": "TnydYYpMJzz0",
        "colab_type": "code",
        "colab": {
          "base_uri": "https://localhost:8080/",
          "height": 408
        },
        "outputId": "78da7d15-8850-40a1-8044-8dbcf40b1ecf"
      },
      "source": [
        "pop_df[\"gis\"].value_counts()"
      ],
      "execution_count": null,
      "outputs": [
        {
          "output_type": "execute_result",
          "data": {
            "text/plain": [
              "0.042032    618\n",
              "0.000000    517\n",
              "0.080560    475\n",
              "0.138354    438\n",
              "0.043783    353\n",
              "0.159370    337\n",
              "0.336252    336\n",
              "0.021016    330\n",
              "0.056042    326\n",
              "0.436077    287\n",
              "1.000000    280\n",
              "0.019264    278\n",
              "0.075306    242\n",
              "0.213660    219\n",
              "0.040280    219\n",
              "0.236427    210\n",
              "0.054291    199\n",
              "0.465849    178\n",
              "0.134851    159\n",
              "0.131349    118\n",
              "0.441331    101\n",
              "0.802102     93\n",
              "Name: gis, dtype: int64"
            ]
          },
          "metadata": {
            "tags": []
          },
          "execution_count": 69
        }
      ]
    },
    {
      "cell_type": "code",
      "metadata": {
        "id": "Msl7toQj2mYZ",
        "colab_type": "code",
        "colab": {
          "base_uri": "https://localhost:8080/",
          "height": 204
        },
        "outputId": "60f86bb6-fcb8-4d46-eab9-b3b0eb9a4429"
      },
      "source": [
        "pop_df.head()"
      ],
      "execution_count": null,
      "outputs": [
        {
          "output_type": "execute_result",
          "data": {
            "text/html": [
              "<div>\n",
              "<style scoped>\n",
              "    .dataframe tbody tr th:only-of-type {\n",
              "        vertical-align: middle;\n",
              "    }\n",
              "\n",
              "    .dataframe tbody tr th {\n",
              "        vertical-align: top;\n",
              "    }\n",
              "\n",
              "    .dataframe thead th {\n",
              "        text-align: right;\n",
              "    }\n",
              "</style>\n",
              "<table border=\"1\" class=\"dataframe\">\n",
              "  <thead>\n",
              "    <tr style=\"text-align: right;\">\n",
              "      <th></th>\n",
              "      <th>c_idx</th>\n",
              "      <th>s_idx</th>\n",
              "      <th>sex</th>\n",
              "      <th>age</th>\n",
              "      <th>occupation</th>\n",
              "      <th>gis</th>\n",
              "      <th>ins_cat</th>\n",
              "      <th>ins_name</th>\n",
              "      <th>gar_count</th>\n",
              "    </tr>\n",
              "  </thead>\n",
              "  <tbody>\n",
              "    <tr>\n",
              "      <th>0</th>\n",
              "      <td>2</td>\n",
              "      <td>26394</td>\n",
              "      <td>1</td>\n",
              "      <td>1</td>\n",
              "      <td>0</td>\n",
              "      <td>0.042032</td>\n",
              "      <td>장기/운전자</td>\n",
              "      <td>무배당 프로미라이프 참좋은운전자+보험1908</td>\n",
              "      <td>0.043478</td>\n",
              "    </tr>\n",
              "    <tr>\n",
              "      <th>6</th>\n",
              "      <td>4</td>\n",
              "      <td>20024</td>\n",
              "      <td>0</td>\n",
              "      <td>1</td>\n",
              "      <td>0</td>\n",
              "      <td>0.000000</td>\n",
              "      <td>장기/질병</td>\n",
              "      <td>무배당 프로미라이프 참좋은치아사랑보험1904</td>\n",
              "      <td>0.052174</td>\n",
              "    </tr>\n",
              "    <tr>\n",
              "      <th>13</th>\n",
              "      <td>8</td>\n",
              "      <td>27841</td>\n",
              "      <td>0</td>\n",
              "      <td>1</td>\n",
              "      <td>0</td>\n",
              "      <td>0.075306</td>\n",
              "      <td>장기/질병</td>\n",
              "      <td>무배당 프로미라이프 참좋은행복플러스+종합보험1911</td>\n",
              "      <td>0.200000</td>\n",
              "    </tr>\n",
              "    <tr>\n",
              "      <th>37</th>\n",
              "      <td>15</td>\n",
              "      <td>16512</td>\n",
              "      <td>0</td>\n",
              "      <td>1</td>\n",
              "      <td>0</td>\n",
              "      <td>0.213660</td>\n",
              "      <td>장기/운전자</td>\n",
              "      <td>무배당 프로미라이프 참좋은운전자+보험1908</td>\n",
              "      <td>0.078261</td>\n",
              "    </tr>\n",
              "    <tr>\n",
              "      <th>47</th>\n",
              "      <td>21</td>\n",
              "      <td>27840</td>\n",
              "      <td>1</td>\n",
              "      <td>1</td>\n",
              "      <td>0</td>\n",
              "      <td>0.075306</td>\n",
              "      <td>장기/상해</td>\n",
              "      <td>무배당 프로미라이프 아이(I)러브(LOVE)건강보험2001</td>\n",
              "      <td>0.191304</td>\n",
              "    </tr>\n",
              "  </tbody>\n",
              "</table>\n",
              "</div>"
            ],
            "text/plain": [
              "    c_idx  s_idx  sex  ...  ins_cat                          ins_name  gar_count\n",
              "0       2  26394    1  ...   장기/운전자          무배당 프로미라이프 참좋은운전자+보험1908   0.043478\n",
              "6       4  20024    0  ...    장기/질병          무배당 프로미라이프 참좋은치아사랑보험1904   0.052174\n",
              "13      8  27841    0  ...    장기/질병      무배당 프로미라이프 참좋은행복플러스+종합보험1911   0.200000\n",
              "37     15  16512    0  ...   장기/운전자          무배당 프로미라이프 참좋은운전자+보험1908   0.078261\n",
              "47     21  27840    1  ...    장기/상해  무배당 프로미라이프 아이(I)러브(LOVE)건강보험2001   0.191304\n",
              "\n",
              "[5 rows x 9 columns]"
            ]
          },
          "metadata": {
            "tags": []
          },
          "execution_count": 70
        }
      ]
    },
    {
      "cell_type": "markdown",
      "metadata": {
        "id": "LE3p0Ojf20m2",
        "colab_type": "text"
      },
      "source": [
        "- ins_cat"
      ]
    },
    {
      "cell_type": "code",
      "metadata": {
        "id": "BIJw2wlX2z_a",
        "colab_type": "code",
        "colab": {
          "base_uri": "https://localhost:8080/",
          "height": 119
        },
        "outputId": "06d3c35e-b974-44a5-ac8a-a9f0a170da6d"
      },
      "source": [
        "pop_df[\"ins_cat\"].value_counts()\n",
        "\n",
        "# linspace를 통해서 데이터 매핑\n",
        "#1번\n",
        "ins_cat_map = dict(zip([\"장기/질병\",\"장기/운전자\",\"장기/상해\",\"장기/재물\",\"장기/저축\"],np.linspace(0,1,5)))\n",
        "\n",
        "#2번\n",
        "#ins_cat_map = dict(zip([\"장기/질병\",\"장기/운전자\",\"장기/상해\",\"장기/재물\",\"장기/저축\"],np.linspace(0,1,5)))\n",
        "pop_df[\"ins_cat\"] = pop_df[\"ins_cat\"].replace(ins_cat_map)\n",
        "pop_df[\"ins_cat\"].value_counts()"
      ],
      "execution_count": null,
      "outputs": [
        {
          "output_type": "execute_result",
          "data": {
            "text/plain": [
              "0.50    2097\n",
              "0.00    2072\n",
              "0.25    1960\n",
              "0.75     179\n",
              "1.00       5\n",
              "Name: ins_cat, dtype: int64"
            ]
          },
          "metadata": {
            "tags": []
          },
          "execution_count": 71
        }
      ]
    },
    {
      "cell_type": "markdown",
      "metadata": {
        "id": "uqrZeu-rYtNu",
        "colab_type": "text"
      },
      "source": [
        "- ins_name\n",
        " - 총 56개의 보험중 상위 10개 제외 나머지 삭제"
      ]
    },
    {
      "cell_type": "code",
      "metadata": {
        "id": "csaIo9ReYz87",
        "colab_type": "code",
        "colab": {}
      },
      "source": [
        "#isin메소드로 마스크제작\n",
        "#각 보험별 수를 종합해서 랭킹 10위만 추출\n",
        "pop_df = pop_df.loc[pop_df[\"ins_name\"].isin(pop_df[\"ins_name\"].value_counts().index[:10])]"
      ],
      "execution_count": null,
      "outputs": []
    },
    {
      "cell_type": "code",
      "metadata": {
        "id": "h9Tnmp5ad2ZH",
        "colab_type": "code",
        "colab": {
          "base_uri": "https://localhost:8080/",
          "height": 419
        },
        "outputId": "cb72b343-0ac8-4223-ddc6-aaf3a851c78a"
      },
      "source": [
        "pop_df"
      ],
      "execution_count": null,
      "outputs": [
        {
          "output_type": "execute_result",
          "data": {
            "text/html": [
              "<div>\n",
              "<style scoped>\n",
              "    .dataframe tbody tr th:only-of-type {\n",
              "        vertical-align: middle;\n",
              "    }\n",
              "\n",
              "    .dataframe tbody tr th {\n",
              "        vertical-align: top;\n",
              "    }\n",
              "\n",
              "    .dataframe thead th {\n",
              "        text-align: right;\n",
              "    }\n",
              "</style>\n",
              "<table border=\"1\" class=\"dataframe\">\n",
              "  <thead>\n",
              "    <tr style=\"text-align: right;\">\n",
              "      <th></th>\n",
              "      <th>c_idx</th>\n",
              "      <th>s_idx</th>\n",
              "      <th>sex</th>\n",
              "      <th>age</th>\n",
              "      <th>occupation</th>\n",
              "      <th>gis</th>\n",
              "      <th>ins_cat</th>\n",
              "      <th>ins_name</th>\n",
              "      <th>gar_count</th>\n",
              "    </tr>\n",
              "  </thead>\n",
              "  <tbody>\n",
              "    <tr>\n",
              "      <th>0</th>\n",
              "      <td>2</td>\n",
              "      <td>26394</td>\n",
              "      <td>1</td>\n",
              "      <td>1</td>\n",
              "      <td>0</td>\n",
              "      <td>0.042032</td>\n",
              "      <td>0.25</td>\n",
              "      <td>무배당 프로미라이프 참좋은운전자+보험1908</td>\n",
              "      <td>0.043478</td>\n",
              "    </tr>\n",
              "    <tr>\n",
              "      <th>6</th>\n",
              "      <td>4</td>\n",
              "      <td>20024</td>\n",
              "      <td>0</td>\n",
              "      <td>1</td>\n",
              "      <td>0</td>\n",
              "      <td>0.000000</td>\n",
              "      <td>0.00</td>\n",
              "      <td>무배당 프로미라이프 참좋은치아사랑보험1904</td>\n",
              "      <td>0.052174</td>\n",
              "    </tr>\n",
              "    <tr>\n",
              "      <th>13</th>\n",
              "      <td>8</td>\n",
              "      <td>27841</td>\n",
              "      <td>0</td>\n",
              "      <td>1</td>\n",
              "      <td>0</td>\n",
              "      <td>0.075306</td>\n",
              "      <td>0.00</td>\n",
              "      <td>무배당 프로미라이프 참좋은행복플러스+종합보험1911</td>\n",
              "      <td>0.200000</td>\n",
              "    </tr>\n",
              "    <tr>\n",
              "      <th>37</th>\n",
              "      <td>15</td>\n",
              "      <td>16512</td>\n",
              "      <td>0</td>\n",
              "      <td>1</td>\n",
              "      <td>0</td>\n",
              "      <td>0.213660</td>\n",
              "      <td>0.25</td>\n",
              "      <td>무배당 프로미라이프 참좋은운전자+보험1908</td>\n",
              "      <td>0.078261</td>\n",
              "    </tr>\n",
              "    <tr>\n",
              "      <th>47</th>\n",
              "      <td>21</td>\n",
              "      <td>27840</td>\n",
              "      <td>1</td>\n",
              "      <td>1</td>\n",
              "      <td>0</td>\n",
              "      <td>0.075306</td>\n",
              "      <td>0.50</td>\n",
              "      <td>무배당 프로미라이프 아이(I)러브(LOVE)건강보험2001</td>\n",
              "      <td>0.191304</td>\n",
              "    </tr>\n",
              "    <tr>\n",
              "      <th>...</th>\n",
              "      <td>...</td>\n",
              "      <td>...</td>\n",
              "      <td>...</td>\n",
              "      <td>...</td>\n",
              "      <td>...</td>\n",
              "      <td>...</td>\n",
              "      <td>...</td>\n",
              "      <td>...</td>\n",
              "      <td>...</td>\n",
              "    </tr>\n",
              "    <tr>\n",
              "      <th>103137</th>\n",
              "      <td>39914</td>\n",
              "      <td>41392</td>\n",
              "      <td>1</td>\n",
              "      <td>0</td>\n",
              "      <td>0</td>\n",
              "      <td>0.021016</td>\n",
              "      <td>0.50</td>\n",
              "      <td>무배당 프로미라이프 실손의료비보험2001</td>\n",
              "      <td>0.069565</td>\n",
              "    </tr>\n",
              "    <tr>\n",
              "      <th>103147</th>\n",
              "      <td>39929</td>\n",
              "      <td>43614</td>\n",
              "      <td>0</td>\n",
              "      <td>1</td>\n",
              "      <td>0</td>\n",
              "      <td>0.080560</td>\n",
              "      <td>0.50</td>\n",
              "      <td>무배당 프로미라이프 실손의료비보험2001</td>\n",
              "      <td>0.069565</td>\n",
              "    </tr>\n",
              "    <tr>\n",
              "      <th>103156</th>\n",
              "      <td>39930</td>\n",
              "      <td>46077</td>\n",
              "      <td>0</td>\n",
              "      <td>3</td>\n",
              "      <td>7</td>\n",
              "      <td>0.134851</td>\n",
              "      <td>0.25</td>\n",
              "      <td>무배당 프로미라이프 참좋은운전자+보험1908</td>\n",
              "      <td>0.173913</td>\n",
              "    </tr>\n",
              "    <tr>\n",
              "      <th>103177</th>\n",
              "      <td>39931</td>\n",
              "      <td>46435</td>\n",
              "      <td>1</td>\n",
              "      <td>3</td>\n",
              "      <td>4</td>\n",
              "      <td>0.159370</td>\n",
              "      <td>0.25</td>\n",
              "      <td>무배당 프로미라이프 참좋은운전자보험(TM)1908</td>\n",
              "      <td>0.173913</td>\n",
              "    </tr>\n",
              "    <tr>\n",
              "      <th>103225</th>\n",
              "      <td>39951</td>\n",
              "      <td>9709</td>\n",
              "      <td>1</td>\n",
              "      <td>0</td>\n",
              "      <td>0</td>\n",
              "      <td>0.042032</td>\n",
              "      <td>0.50</td>\n",
              "      <td>무배당 프로미라이프 실손의료비보험2001</td>\n",
              "      <td>0.069565</td>\n",
              "    </tr>\n",
              "  </tbody>\n",
              "</table>\n",
              "<p>5166 rows × 9 columns</p>\n",
              "</div>"
            ],
            "text/plain": [
              "        c_idx  s_idx  sex  ...  ins_cat                          ins_name  gar_count\n",
              "0           2  26394    1  ...     0.25          무배당 프로미라이프 참좋은운전자+보험1908   0.043478\n",
              "6           4  20024    0  ...     0.00          무배당 프로미라이프 참좋은치아사랑보험1904   0.052174\n",
              "13          8  27841    0  ...     0.00      무배당 프로미라이프 참좋은행복플러스+종합보험1911   0.200000\n",
              "37         15  16512    0  ...     0.25          무배당 프로미라이프 참좋은운전자+보험1908   0.078261\n",
              "47         21  27840    1  ...     0.50  무배당 프로미라이프 아이(I)러브(LOVE)건강보험2001   0.191304\n",
              "...       ...    ...  ...  ...      ...                               ...        ...\n",
              "103137  39914  41392    1  ...     0.50            무배당 프로미라이프 실손의료비보험2001   0.069565\n",
              "103147  39929  43614    0  ...     0.50            무배당 프로미라이프 실손의료비보험2001   0.069565\n",
              "103156  39930  46077    0  ...     0.25          무배당 프로미라이프 참좋은운전자+보험1908   0.173913\n",
              "103177  39931  46435    1  ...     0.25       무배당 프로미라이프 참좋은운전자보험(TM)1908   0.173913\n",
              "103225  39951   9709    1  ...     0.50            무배당 프로미라이프 실손의료비보험2001   0.069565\n",
              "\n",
              "[5166 rows x 9 columns]"
            ]
          },
          "metadata": {
            "tags": []
          },
          "execution_count": 73
        }
      ]
    },
    {
      "cell_type": "code",
      "metadata": {
        "id": "B3PVv1BsR8GR",
        "colab_type": "code",
        "colab": {
          "base_uri": "https://localhost:8080/",
          "height": 421
        },
        "outputId": "e78b250e-1d78-4596-f91d-ce045c7ef368"
      },
      "source": [
        "pop_df.groupby(\"occupation\").mean()"
      ],
      "execution_count": null,
      "outputs": [
        {
          "output_type": "execute_result",
          "data": {
            "text/html": [
              "<div>\n",
              "<style scoped>\n",
              "    .dataframe tbody tr th:only-of-type {\n",
              "        vertical-align: middle;\n",
              "    }\n",
              "\n",
              "    .dataframe tbody tr th {\n",
              "        vertical-align: top;\n",
              "    }\n",
              "\n",
              "    .dataframe thead th {\n",
              "        text-align: right;\n",
              "    }\n",
              "</style>\n",
              "<table border=\"1\" class=\"dataframe\">\n",
              "  <thead>\n",
              "    <tr style=\"text-align: right;\">\n",
              "      <th></th>\n",
              "      <th>c_idx</th>\n",
              "      <th>s_idx</th>\n",
              "      <th>sex</th>\n",
              "      <th>age</th>\n",
              "      <th>gis</th>\n",
              "      <th>ins_cat</th>\n",
              "      <th>gar_count</th>\n",
              "    </tr>\n",
              "    <tr>\n",
              "      <th>occupation</th>\n",
              "      <th></th>\n",
              "      <th></th>\n",
              "      <th></th>\n",
              "      <th></th>\n",
              "      <th></th>\n",
              "      <th></th>\n",
              "      <th></th>\n",
              "    </tr>\n",
              "  </thead>\n",
              "  <tbody>\n",
              "    <tr>\n",
              "      <th>0</th>\n",
              "      <td>20546.411588</td>\n",
              "      <td>24485.534236</td>\n",
              "      <td>0.691497</td>\n",
              "      <td>2.152746</td>\n",
              "      <td>0.168645</td>\n",
              "      <td>0.307938</td>\n",
              "      <td>0.147126</td>\n",
              "    </tr>\n",
              "    <tr>\n",
              "      <th>1</th>\n",
              "      <td>23802.611864</td>\n",
              "      <td>22724.915254</td>\n",
              "      <td>0.489831</td>\n",
              "      <td>2.779661</td>\n",
              "      <td>0.189308</td>\n",
              "      <td>0.246186</td>\n",
              "      <td>0.149742</td>\n",
              "    </tr>\n",
              "    <tr>\n",
              "      <th>2</th>\n",
              "      <td>19426.485795</td>\n",
              "      <td>23245.957386</td>\n",
              "      <td>0.556818</td>\n",
              "      <td>2.985795</td>\n",
              "      <td>0.133005</td>\n",
              "      <td>0.236506</td>\n",
              "      <td>0.145232</td>\n",
              "    </tr>\n",
              "    <tr>\n",
              "      <th>3</th>\n",
              "      <td>19191.111524</td>\n",
              "      <td>23543.148699</td>\n",
              "      <td>0.275093</td>\n",
              "      <td>3.304833</td>\n",
              "      <td>0.168966</td>\n",
              "      <td>0.227695</td>\n",
              "      <td>0.136027</td>\n",
              "    </tr>\n",
              "    <tr>\n",
              "      <th>4</th>\n",
              "      <td>23323.248588</td>\n",
              "      <td>22984.168079</td>\n",
              "      <td>0.490113</td>\n",
              "      <td>2.677966</td>\n",
              "      <td>0.187833</td>\n",
              "      <td>0.245410</td>\n",
              "      <td>0.158659</td>\n",
              "    </tr>\n",
              "    <tr>\n",
              "      <th>5</th>\n",
              "      <td>16098.453540</td>\n",
              "      <td>23597.148230</td>\n",
              "      <td>0.042035</td>\n",
              "      <td>3.353982</td>\n",
              "      <td>0.137978</td>\n",
              "      <td>0.229535</td>\n",
              "      <td>0.157791</td>\n",
              "    </tr>\n",
              "    <tr>\n",
              "      <th>6</th>\n",
              "      <td>19565.894595</td>\n",
              "      <td>22909.290541</td>\n",
              "      <td>0.290541</td>\n",
              "      <td>3.009459</td>\n",
              "      <td>0.214195</td>\n",
              "      <td>0.236486</td>\n",
              "      <td>0.143572</td>\n",
              "    </tr>\n",
              "    <tr>\n",
              "      <th>7</th>\n",
              "      <td>21045.535604</td>\n",
              "      <td>23233.987616</td>\n",
              "      <td>0.120743</td>\n",
              "      <td>3.176471</td>\n",
              "      <td>0.155265</td>\n",
              "      <td>0.207430</td>\n",
              "      <td>0.152618</td>\n",
              "    </tr>\n",
              "    <tr>\n",
              "      <th>8</th>\n",
              "      <td>23184.524194</td>\n",
              "      <td>24046.451613</td>\n",
              "      <td>0.618280</td>\n",
              "      <td>2.943548</td>\n",
              "      <td>0.164906</td>\n",
              "      <td>0.242608</td>\n",
              "      <td>0.143104</td>\n",
              "    </tr>\n",
              "    <tr>\n",
              "      <th>9</th>\n",
              "      <td>13551.500000</td>\n",
              "      <td>24543.300000</td>\n",
              "      <td>0.200000</td>\n",
              "      <td>3.500000</td>\n",
              "      <td>0.161296</td>\n",
              "      <td>0.175000</td>\n",
              "      <td>0.154783</td>\n",
              "    </tr>\n",
              "    <tr>\n",
              "      <th>10</th>\n",
              "      <td>30400.238095</td>\n",
              "      <td>24370.428571</td>\n",
              "      <td>0.095238</td>\n",
              "      <td>1.523810</td>\n",
              "      <td>0.100242</td>\n",
              "      <td>0.297619</td>\n",
              "      <td>0.174327</td>\n",
              "    </tr>\n",
              "  </tbody>\n",
              "</table>\n",
              "</div>"
            ],
            "text/plain": [
              "                   c_idx         s_idx       sex  ...       gis   ins_cat  gar_count\n",
              "occupation                                        ...                               \n",
              "0           20546.411588  24485.534236  0.691497  ...  0.168645  0.307938   0.147126\n",
              "1           23802.611864  22724.915254  0.489831  ...  0.189308  0.246186   0.149742\n",
              "2           19426.485795  23245.957386  0.556818  ...  0.133005  0.236506   0.145232\n",
              "3           19191.111524  23543.148699  0.275093  ...  0.168966  0.227695   0.136027\n",
              "4           23323.248588  22984.168079  0.490113  ...  0.187833  0.245410   0.158659\n",
              "5           16098.453540  23597.148230  0.042035  ...  0.137978  0.229535   0.157791\n",
              "6           19565.894595  22909.290541  0.290541  ...  0.214195  0.236486   0.143572\n",
              "7           21045.535604  23233.987616  0.120743  ...  0.155265  0.207430   0.152618\n",
              "8           23184.524194  24046.451613  0.618280  ...  0.164906  0.242608   0.143104\n",
              "9           13551.500000  24543.300000  0.200000  ...  0.161296  0.175000   0.154783\n",
              "10          30400.238095  24370.428571  0.095238  ...  0.100242  0.297619   0.174327\n",
              "\n",
              "[11 rows x 7 columns]"
            ]
          },
          "metadata": {
            "tags": []
          },
          "execution_count": 75
        }
      ]
    },
    {
      "cell_type": "code",
      "metadata": {
        "id": "EuDcUpYNs0eR",
        "colab_type": "code",
        "colab": {
          "base_uri": "https://localhost:8080/",
          "height": 102
        },
        "outputId": "e822a8bb-eabf-4196-8c48-5ff956fa4d49"
      },
      "source": [
        "# 질병,운전자,상해가 비슷한 특약 양상을 보임\n",
        "pivot = pd.crosstab(pop_df[\"ins_cat\"],pop_df[\"gar_count\"]).sum(axis=1)\n",
        "pivot"
      ],
      "execution_count": null,
      "outputs": [
        {
          "output_type": "execute_result",
          "data": {
            "text/plain": [
              "ins_cat\n",
              "0.00    1582\n",
              "0.25    1901\n",
              "0.50    1683\n",
              "dtype: int64"
            ]
          },
          "metadata": {
            "tags": []
          },
          "execution_count": 76
        }
      ]
    },
    {
      "cell_type": "markdown",
      "metadata": {
        "id": "_E64oN0-lc24",
        "colab_type": "text"
      },
      "source": [
        "- randomforest"
      ]
    },
    {
      "cell_type": "code",
      "metadata": {
        "id": "sk6fWT-xlh5h",
        "colab_type": "code",
        "colab": {}
      },
      "source": [
        "from sklearn.ensemble import RandomForestClassifier\n",
        "from sklearn.utils import shuffle\n",
        "from sklearn.model_selection import train_test_split"
      ],
      "execution_count": null,
      "outputs": []
    },
    {
      "cell_type": "code",
      "metadata": {
        "id": "gqbwcXcgKz5y",
        "colab_type": "code",
        "colab": {}
      },
      "source": [
        "pop_df = shuffle(pop_df)\n",
        "data = pop_df.drop(['c_idx','s_idx','ins_name'], axis=1)\n",
        "label = pop_df[\"ins_name\"]\n",
        "\n",
        "train_data, test_data, train_label, test_label = train_test_split(data,label)\n",
        "\n",
        "train_data.to_excel(\"/content/drive/My Drive/insuretech/train_data.xlsx\")\n",
        "test_data.to_excel(\"/content/drive/My Drive/insuretech/test_data.xlsx\")\n",
        "\n",
        "train_label.to_excel(\"/content/drive/My Drive/insuretech/train_label.xlsx\")\n",
        "test_label.to_excel(\"/content/drive/My Drive/insuretech/test_label.xlsx\")\n"
      ],
      "execution_count": null,
      "outputs": []
    },
    {
      "cell_type": "code",
      "metadata": {
        "id": "6zHavHh-OP5N",
        "colab_type": "code",
        "colab": {
          "base_uri": "https://localhost:8080/",
          "height": 204
        },
        "outputId": "9792db9e-c834-4a5c-8e84-18bc702bffcd"
      },
      "source": [
        "test_data.head()\n",
        "#pd.crosstab(pop_df[\"age\"],pop_df[\"ins_cat\"])"
      ],
      "execution_count": null,
      "outputs": [
        {
          "output_type": "execute_result",
          "data": {
            "text/html": [
              "<div>\n",
              "<style scoped>\n",
              "    .dataframe tbody tr th:only-of-type {\n",
              "        vertical-align: middle;\n",
              "    }\n",
              "\n",
              "    .dataframe tbody tr th {\n",
              "        vertical-align: top;\n",
              "    }\n",
              "\n",
              "    .dataframe thead th {\n",
              "        text-align: right;\n",
              "    }\n",
              "</style>\n",
              "<table border=\"1\" class=\"dataframe\">\n",
              "  <thead>\n",
              "    <tr style=\"text-align: right;\">\n",
              "      <th></th>\n",
              "      <th>sex</th>\n",
              "      <th>age</th>\n",
              "      <th>occupation</th>\n",
              "      <th>gis</th>\n",
              "      <th>ins_cat</th>\n",
              "      <th>gar_count</th>\n",
              "    </tr>\n",
              "  </thead>\n",
              "  <tbody>\n",
              "    <tr>\n",
              "      <th>5959</th>\n",
              "      <td>0</td>\n",
              "      <td>0</td>\n",
              "      <td>0</td>\n",
              "      <td>0.043783</td>\n",
              "      <td>0.5</td>\n",
              "      <td>0.052174</td>\n",
              "    </tr>\n",
              "    <tr>\n",
              "      <th>13194</th>\n",
              "      <td>1</td>\n",
              "      <td>4</td>\n",
              "      <td>8</td>\n",
              "      <td>0.042032</td>\n",
              "      <td>0.0</td>\n",
              "      <td>0.130435</td>\n",
              "    </tr>\n",
              "    <tr>\n",
              "      <th>56209</th>\n",
              "      <td>1</td>\n",
              "      <td>3</td>\n",
              "      <td>2</td>\n",
              "      <td>0.236427</td>\n",
              "      <td>0.0</td>\n",
              "      <td>0.165217</td>\n",
              "    </tr>\n",
              "    <tr>\n",
              "      <th>93763</th>\n",
              "      <td>0</td>\n",
              "      <td>4</td>\n",
              "      <td>7</td>\n",
              "      <td>0.213660</td>\n",
              "      <td>0.0</td>\n",
              "      <td>0.113043</td>\n",
              "    </tr>\n",
              "    <tr>\n",
              "      <th>35519</th>\n",
              "      <td>1</td>\n",
              "      <td>3</td>\n",
              "      <td>8</td>\n",
              "      <td>0.042032</td>\n",
              "      <td>0.0</td>\n",
              "      <td>0.130435</td>\n",
              "    </tr>\n",
              "  </tbody>\n",
              "</table>\n",
              "</div>"
            ],
            "text/plain": [
              "       sex  age  occupation       gis  ins_cat  gar_count\n",
              "5959     0    0           0  0.043783      0.5   0.052174\n",
              "13194    1    4           8  0.042032      0.0   0.130435\n",
              "56209    1    3           2  0.236427      0.0   0.165217\n",
              "93763    0    4           7  0.213660      0.0   0.113043\n",
              "35519    1    3           8  0.042032      0.0   0.130435"
            ]
          },
          "metadata": {
            "tags": []
          },
          "execution_count": 80
        }
      ]
    },
    {
      "cell_type": "code",
      "metadata": {
        "id": "Md7fztScPLIY",
        "colab_type": "code",
        "colab": {
          "base_uri": "https://localhost:8080/",
          "height": 306
        },
        "outputId": "98d708e4-d888-4c8e-de28-6ca65b07883a"
      },
      "source": [
        "from sklearn import metrics\n",
        "\n",
        "clf = RandomForestClassifier(n_estimators=100)\n",
        "clf.fit(train_data,train_label)\n",
        "pre = clf.predict(test_data)\n",
        "report = metrics.classification_report(pre,test_label)\n",
        "print(report)"
      ],
      "execution_count": null,
      "outputs": [
        {
          "output_type": "stream",
          "text": [
            "                                  precision    recall  f1-score   support\n",
            "\n",
            "        무배당 프로미라이프 스마트가정보장보험1904       0.89      0.78      0.83        69\n",
            "   무배당 프로미라이프 실손의료비보험(계약전환용)2001       0.38      0.36      0.37        33\n",
            "          무배당 프로미라이프 실손의료비보험2001       0.89      0.91      0.90       229\n",
            "무배당 프로미라이프 아이(I)러브(LOVE)건강보험2001       0.91      0.95      0.93        94\n",
            "  무배당 프로미라이프 참좋은 훼밀리플러스+종합보험1911       0.36      0.42      0.39        97\n",
            "        무배당 프로미라이프 참좋은간편건강보험1906       0.64      0.71      0.67       120\n",
            "        무배당 프로미라이프 참좋은운전자+보험1908       0.88      0.81      0.84       391\n",
            "     무배당 프로미라이프 참좋은운전자보험(TM)1908       0.26      0.37      0.30        70\n",
            "        무배당 프로미라이프 참좋은치아사랑보험1904       0.48      0.42      0.45        31\n",
            "    무배당 프로미라이프 참좋은행복플러스+종합보험1911       0.53      0.44      0.48       158\n",
            "\n",
            "                        accuracy                           0.71      1292\n",
            "                       macro avg       0.62      0.62      0.62      1292\n",
            "                    weighted avg       0.72      0.71      0.71      1292\n",
            "\n"
          ],
          "name": "stdout"
        }
      ]
    },
    {
      "cell_type": "code",
      "metadata": {
        "id": "GU1zvw-hIl2P",
        "colab_type": "code",
        "colab": {
          "base_uri": "https://localhost:8080/",
          "height": 306
        },
        "outputId": "e0e58197-2745-4a7b-e7ad-b0b0104cc1b6"
      },
      "source": [
        "import pickle\n",
        "\n",
        "with open(\"randomforest_checkpoint_100.p\",\"wb\") as p:\n",
        "  pickle.dump(clf,p)\n",
        "\n",
        "with open(\"randomforest_checkpoint_100.p\",\"rb\") as p:\n",
        "  clf = pickle.load(p)\n",
        "\n",
        "pre = clf.predict(test_data)\n",
        "report = metrics.classification_report(pre,test_label)\n",
        "print(report)"
      ],
      "execution_count": null,
      "outputs": [
        {
          "output_type": "stream",
          "text": [
            "                                  precision    recall  f1-score   support\n",
            "\n",
            "        무배당 프로미라이프 스마트가정보장보험1904       0.89      0.78      0.83        69\n",
            "   무배당 프로미라이프 실손의료비보험(계약전환용)2001       0.38      0.36      0.37        33\n",
            "          무배당 프로미라이프 실손의료비보험2001       0.89      0.91      0.90       229\n",
            "무배당 프로미라이프 아이(I)러브(LOVE)건강보험2001       0.91      0.95      0.93        94\n",
            "  무배당 프로미라이프 참좋은 훼밀리플러스+종합보험1911       0.36      0.42      0.39        97\n",
            "        무배당 프로미라이프 참좋은간편건강보험1906       0.64      0.71      0.67       120\n",
            "        무배당 프로미라이프 참좋은운전자+보험1908       0.88      0.81      0.84       391\n",
            "     무배당 프로미라이프 참좋은운전자보험(TM)1908       0.26      0.37      0.30        70\n",
            "        무배당 프로미라이프 참좋은치아사랑보험1904       0.48      0.42      0.45        31\n",
            "    무배당 프로미라이프 참좋은행복플러스+종합보험1911       0.53      0.44      0.48       158\n",
            "\n",
            "                        accuracy                           0.71      1292\n",
            "                       macro avg       0.62      0.62      0.62      1292\n",
            "                    weighted avg       0.72      0.71      0.71      1292\n",
            "\n"
          ],
          "name": "stdout"
        }
      ]
    }
  ]
}