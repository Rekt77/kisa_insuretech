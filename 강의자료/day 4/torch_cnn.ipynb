{
  "nbformat": 4,
  "nbformat_minor": 0,
  "metadata": {
    "colab": {
      "name": "torch_cnn.ipynb",
      "provenance": [],
      "collapsed_sections": [],
      "mount_file_id": "1rAXpbcCi3udBB9ehilwb395WHazNcQkS",
      "authorship_tag": "ABX9TyO/j1v6nRa8u0/TQl7sySpf",
      "include_colab_link": true
    },
    "kernelspec": {
      "name": "python3",
      "display_name": "Python 3"
    },
    "accelerator": "GPU"
  },
  "cells": [
    {
      "cell_type": "markdown",
      "metadata": {
        "id": "view-in-github",
        "colab_type": "text"
      },
      "source": [
        "<a href=\"https://colab.research.google.com/github/Rekt77/kisa_insuretech/blob/master/torch_cnn.ipynb\" target=\"_parent\"><img src=\"https://colab.research.google.com/assets/colab-badge.svg\" alt=\"Open In Colab\"/></a>"
      ]
    },
    {
      "cell_type": "code",
      "metadata": {
        "id": "uKNAlh0NqEth",
        "colab_type": "code",
        "colab": {}
      },
      "source": [
        "import torch\n",
        "import torchvision.datasets as datasets\n",
        "import torchvision.transforms as transforms\n",
        "import torch.nn.init\n",
        "import glob\n",
        "\n",
        "# gpu사용\n",
        "device = \"cuda\" if torch.cuda.is_available() else \"cpu\"\n",
        "torch.manual_seed(1000)\n",
        "if device == \"cuda\":\n",
        "  torch.cuda.manual_seed(1000)\n",
        "\n",
        "learning_rate=0.001\n",
        "epochs=15"
      ],
      "execution_count": 58,
      "outputs": []
    },
    {
      "cell_type": "code",
      "metadata": {
        "id": "rjat8TulLPkf",
        "colab_type": "code",
        "colab": {}
      },
      "source": [
        "# MNIST dataset\n",
        "mnist_train = datasets.MNIST(root='/content/drive/My Drive/data/MNIST_data/',\n",
        "                          train=True,\n",
        "                          transform=transforms.ToTensor(),\n",
        "                          download=True)\n",
        "\n",
        "mnist_test = datasets.MNIST(root='/content/drive/My Drive/data/MNIST_data/',\n",
        "                         train=False,\n",
        "                         transform=transforms.ToTensor(),\n",
        "                         download=True)"
      ],
      "execution_count": 59,
      "outputs": []
    },
    {
      "cell_type": "code",
      "metadata": {
        "id": "xF4FxRJD2tdi",
        "colab_type": "code",
        "colab": {}
      },
      "source": [
        "batch_size=100\n",
        "data_loader = torch.utils.data.DataLoader(dataset=mnist_train,\n",
        "                                          batch_size=batch_size,\n",
        "                                          shuffle=True,\n",
        "                                          drop_last=True)"
      ],
      "execution_count": 60,
      "outputs": []
    },
    {
      "cell_type": "code",
      "metadata": {
        "id": "tEfuehGrhqID",
        "colab_type": "code",
        "colab": {
          "base_uri": "https://localhost:8080/",
          "height": 34
        },
        "outputId": "c9ff3419-eb65-4d03-e500-1e4eb9ba7d8e"
      },
      "source": [
        "data_loader"
      ],
      "execution_count": 11,
      "outputs": [
        {
          "output_type": "execute_result",
          "data": {
            "text/plain": [
              "<torch.utils.data.dataloader.DataLoader at 0x7fd73bec1b00>"
            ]
          },
          "metadata": {
            "tags": []
          },
          "execution_count": 11
        }
      ]
    },
    {
      "cell_type": "code",
      "metadata": {
        "id": "DlqELYYnHzbw",
        "colab_type": "code",
        "colab": {}
      },
      "source": [
        "mnist_single_batch = next(iter(data_loader))"
      ],
      "execution_count": 12,
      "outputs": []
    },
    {
      "cell_type": "code",
      "metadata": {
        "id": "Mm7g_S6aMaCH",
        "colab_type": "code",
        "colab": {
          "base_uri": "https://localhost:8080/",
          "height": 1000
        },
        "outputId": "7c53c207-722e-48f4-e29b-f0cf29ed001b"
      },
      "source": [
        "img_array = np.array(mnist_single_batch[0]*255).squeeze(1)\n",
        "img_array[0] # 각각의 데이터"
      ],
      "execution_count": 15,
      "outputs": [
        {
          "output_type": "execute_result",
          "data": {
            "text/plain": [
              "array([[  0.,   0.,   0.,   0.,   0.,   0.,   0.,   0.,   0.,   0.,   0.,\n",
              "          0.,   0.,   0.,   0.,   0.,   0.,   0.,   0.,   0.,   0.,   0.,\n",
              "          0.,   0.,   0.,   0.,   0.,   0.],\n",
              "       [  0.,   0.,   0.,   0.,   0.,   0.,   0.,   0.,   0.,   0.,   0.,\n",
              "          0.,   0.,   0.,   0.,   0.,   0.,   0.,   0.,   0.,   0.,   0.,\n",
              "          0.,   0.,   0.,   0.,   0.,   0.],\n",
              "       [  0.,   0.,   0.,   0.,   0.,   0.,   0.,   0.,   0.,   0.,   0.,\n",
              "          0.,   0.,   0.,   0.,   0.,   0.,   0.,   0.,   0.,   0.,   0.,\n",
              "          0.,   0.,   0.,   0.,   0.,   0.],\n",
              "       [  0.,   0.,   0.,   0.,   0.,   0.,   0.,   0.,   0.,   0.,   0.,\n",
              "          0.,   0.,   0.,   0.,   0.,   0.,   0.,   0.,   0.,   0.,   0.,\n",
              "          0.,   0.,   0.,   0.,   0.,   0.],\n",
              "       [  0.,   0.,   0.,   0.,   0.,   0.,   0.,   0.,   0.,   0.,   0.,\n",
              "          0.,   0.,  64., 128., 191., 255., 191.,  64.,   0.,   0.,   0.,\n",
              "          0.,   0.,   0.,   0.,   0.,   0.],\n",
              "       [  0.,   0.,   0.,   0.,   0.,   0.,   0.,   0.,   0.,   0.,   0.,\n",
              "        128., 191., 255., 255., 255., 255., 255., 255., 191.,   0.,   0.,\n",
              "          0.,   0.,   0.,   0.,   0.,   0.],\n",
              "       [  0.,   0.,   0.,   0.,   0.,   0.,   0.,   0.,   0.,  64., 255.,\n",
              "        255., 255., 255., 255., 191., 128., 255., 255., 255.,   0.,   0.,\n",
              "          0.,   0.,   0.,   0.,   0.,   0.],\n",
              "       [  0.,   0.,   0.,   0.,   0.,   0.,   0.,   0.,  64., 255., 255.,\n",
              "        255., 191., 128.,   0.,   0.,   0.,  64., 255., 255.,  64.,   0.,\n",
              "          0.,   0.,   0.,   0.,   0.,   0.],\n",
              "       [  0.,   0.,   0.,   0.,   0.,   0.,   0.,   0., 255., 255., 255.,\n",
              "        191.,  64.,   0.,   0.,   0.,   0.,   0., 255., 255., 128.,   0.,\n",
              "          0.,   0.,   0.,   0.,   0.,   0.],\n",
              "       [  0.,   0.,   0.,   0.,   0.,   0.,   0.,   0., 255., 128.,  64.,\n",
              "          0.,   0.,   0.,   0.,   0.,   0.,   0., 255., 255.,   0.,   0.,\n",
              "          0.,   0.,   0.,   0.,   0.,   0.],\n",
              "       [  0.,   0.,   0.,   0.,   0.,   0.,   0.,   0.,   0.,   0.,   0.,\n",
              "          0.,   0.,   0.,   0.,   0.,   0.,  64., 255., 255.,   0.,   0.,\n",
              "          0.,   0.,   0.,   0.,   0.,   0.],\n",
              "       [  0.,   0.,   0.,   0.,   0.,   0.,   0.,   0.,   0.,   0.,   0.,\n",
              "          0.,   0.,   0.,   0.,   0.,   0., 191., 255., 255.,   0.,   0.,\n",
              "          0.,   0.,   0.,   0.,   0.,   0.],\n",
              "       [  0.,   0.,   0.,   0.,   0.,   0.,   0.,   0.,   0.,   0.,   0.,\n",
              "          0.,   0.,   0.,   0.,   0.,   0., 255., 255., 128.,   0.,   0.,\n",
              "          0.,   0.,   0.,   0.,   0.,   0.],\n",
              "       [  0.,   0.,   0.,   0.,   0.,   0.,   0.,   0.,   0.,   0.,   0.,\n",
              "          0.,   0.,   0.,   0.,   0., 191., 255., 191.,   0.,   0.,   0.,\n",
              "          0.,   0.,   0.,   0.,   0.,   0.],\n",
              "       [  0.,   0.,   0.,   0.,   0.,   0.,   0.,   0.,   0.,   0.,   0.,\n",
              "          0.,   0.,   0.,   0., 128., 255., 255., 128.,   0.,   0.,   0.,\n",
              "          0.,   0.,   0.,   0.,   0.,   0.],\n",
              "       [  0.,   0.,   0.,   0.,   0.,   0.,   0.,   0.,   0.,   0.,  64.,\n",
              "        255., 255., 255., 255., 255., 255., 255.,  64.,   0.,   0.,   0.,\n",
              "          0.,   0.,   0.,   0.,   0.,   0.],\n",
              "       [  0.,   0.,   0.,   0.,   0.,   0.,   0.,   0.,   0., 128., 255.,\n",
              "        255., 255., 255., 255., 255., 255., 255., 255., 255., 128., 128.,\n",
              "          0.,   0.,   0.,   0.,   0.,   0.],\n",
              "       [  0.,   0.,   0.,   0.,   0.,   0.,   0.,   0., 191., 255., 255.,\n",
              "        128., 128., 128., 255., 255., 255., 255., 255., 255., 255., 255.,\n",
              "        255., 255., 128.,   0.,   0.,   0.],\n",
              "       [  0.,   0.,   0.,   0.,   0.,   0.,   0.,   0., 255., 255., 191.,\n",
              "          0.,  64., 255., 255., 191.,   0.,   0.,  64., 128., 255., 255.,\n",
              "        255., 255., 128.,   0.,   0.,   0.],\n",
              "       [  0.,   0.,   0.,   0.,   0.,   0.,   0.,   0., 255., 191.,   0.,\n",
              "          0., 128., 255., 255.,  64.,   0.,   0.,   0.,   0.,   0.,   0.,\n",
              "          0.,   0.,   0.,   0.,   0.,   0.],\n",
              "       [  0.,   0.,   0.,   0.,   0.,   0.,   0., 128., 255., 128.,   0.,\n",
              "         64., 255., 255.,  64.,   0.,   0.,   0.,   0.,   0.,   0.,   0.,\n",
              "          0.,   0.,   0.,   0.,   0.,   0.],\n",
              "       [  0.,   0.,   0.,   0.,   0.,   0.,   0., 191., 255., 255., 128.,\n",
              "        255., 255., 191.,   0.,   0.,   0.,   0.,   0.,   0.,   0.,   0.,\n",
              "          0.,   0.,   0.,   0.,   0.,   0.],\n",
              "       [  0.,   0.,   0.,   0.,   0.,   0.,   0.,  64., 255., 255., 255.,\n",
              "        255., 191.,   0.,   0.,   0.,   0.,   0.,   0.,   0.,   0.,   0.,\n",
              "          0.,   0.,   0.,   0.,   0.,   0.],\n",
              "       [  0.,   0.,   0.,   0.,   0.,   0.,   0.,   0., 128., 255., 255.,\n",
              "        128.,   0.,   0.,   0.,   0.,   0.,   0.,   0.,   0.,   0.,   0.,\n",
              "          0.,   0.,   0.,   0.,   0.,   0.],\n",
              "       [  0.,   0.,   0.,   0.,   0.,   0.,   0.,   0.,   0.,   0.,   0.,\n",
              "          0.,   0.,   0.,   0.,   0.,   0.,   0.,   0.,   0.,   0.,   0.,\n",
              "          0.,   0.,   0.,   0.,   0.,   0.],\n",
              "       [  0.,   0.,   0.,   0.,   0.,   0.,   0.,   0.,   0.,   0.,   0.,\n",
              "          0.,   0.,   0.,   0.,   0.,   0.,   0.,   0.,   0.,   0.,   0.,\n",
              "          0.,   0.,   0.,   0.,   0.,   0.],\n",
              "       [  0.,   0.,   0.,   0.,   0.,   0.,   0.,   0.,   0.,   0.,   0.,\n",
              "          0.,   0.,   0.,   0.,   0.,   0.,   0.,   0.,   0.,   0.,   0.,\n",
              "          0.,   0.,   0.,   0.,   0.,   0.],\n",
              "       [  0.,   0.,   0.,   0.,   0.,   0.,   0.,   0.,   0.,   0.,   0.,\n",
              "          0.,   0.,   0.,   0.,   0.,   0.,   0.,   0.,   0.,   0.,   0.,\n",
              "          0.,   0.,   0.,   0.,   0.,   0.]], dtype=float32)"
            ]
          },
          "metadata": {
            "tags": []
          },
          "execution_count": 15
        }
      ]
    },
    {
      "cell_type": "code",
      "metadata": {
        "id": "LQV1hfIVKMzl",
        "colab_type": "code",
        "colab": {}
      },
      "source": [
        "import cv2\n",
        "import numpy as np\n",
        "from google.colab.patches import cv2_imshow\n",
        "from PIL import Image\n",
        "\n",
        "for i in range(10):\n",
        "  mnist_single_batch = next(iter(data_loader))\n",
        "  img_array = np.array(mnist_single_batch[0]*255).squeeze(1)\n",
        "  cv2.imwrite(\"mninst_%s.jpg\"%i,img_array[i])"
      ],
      "execution_count": 19,
      "outputs": []
    },
    {
      "cell_type": "code",
      "metadata": {
        "id": "bq_Atz_l3eTZ",
        "colab_type": "code",
        "colab": {}
      },
      "source": [
        "# CNN Model (2-layers)\n",
        "class CNN(torch.nn.Module):\n",
        "  def __init__(self):\n",
        "    super(CNN, self).__init__()\n",
        "    self.layer1 = torch.nn.Sequential(\n",
        "        # 1개의 채널을 입력받아 32채널로 컨벌루션\n",
        "        torch.nn.Conv2d(1, 32, kernel_size=3, stride=1, padding=1),\n",
        "        # 활성함수 ReLU\n",
        "        torch.nn.ReLU(),\n",
        "        # MaXpooling을 통해 이미지의 사이즈를 줄임\n",
        "        # 작은크기의 사진으로도 사진을 구분할 수 있는 것과 같은 이치\n",
        "        torch.nn.MaxPool2d(kernel_size=2, stride=2))\n",
        "    \n",
        "    self.layer2 = torch.nn.Sequential(\n",
        "        # 32개의 채널을 입력받아 64채널로 컨벌루션\n",
        "        # 64개의 피쳐맵을 형성한다\n",
        "        torch.nn.Conv2d(32, 64, kernel_size=3, stride=1, padding=1),\n",
        "        # 활성함수\n",
        "        torch.nn.ReLU(),\n",
        "        # 맥스풀링\n",
        "        torch.nn.MaxPool2d(kernel_size=2, stride=2))\n",
        "    \n",
        "    # 뉴런간 선형 결합\n",
        "    self.fc = torch.nn.Linear(7 * 7 * 64, 10, bias=True)\n",
        "    torch.nn.init.xavier_uniform_(self.fc.weight)\n",
        "\n",
        "# 포워드 함수가 호출되는 시점\n",
        "  def forward(self, x):\n",
        "    out = self.layer1(x)\n",
        "    out = self.layer2(out)\n",
        "    out = out.view(out.size(0), -1)\n",
        "    out = self.fc(out)\n",
        "    return out"
      ],
      "execution_count": 61,
      "outputs": []
    },
    {
      "cell_type": "code",
      "metadata": {
        "id": "ZrKoZDqu6DDI",
        "colab_type": "code",
        "colab": {}
      },
      "source": [
        "# CNN모델이 gpu를 사용하도록 만들기\n",
        "model = CNN().to(device)"
      ],
      "execution_count": 62,
      "outputs": []
    },
    {
      "cell_type": "code",
      "metadata": {
        "id": "SawhT8T8NqJH",
        "colab_type": "code",
        "colab": {
          "base_uri": "https://localhost:8080/",
          "height": 374
        },
        "outputId": "99cc8c37-e82a-4e72-cecc-6ffdb6935337"
      },
      "source": [
        "img,label = next(iter(data_loader))\n",
        "img = img.to(device)\n",
        "label = label.to(device)\n",
        "out = model.layer1(img)\n",
        "print(out.shape)\n",
        "out = model.layer2(out)\n",
        "print(out.shape)\n",
        "out = out.view(out.size(0), -1)\n",
        "print(out.shape)\n",
        "out = model.fc(out)\n",
        "\n",
        "print(out[0])\n",
        "print(label)\n",
        "\n",
        "# soft argmax\n",
        "print(torch.argmax(out, 1))\n",
        "\n",
        "#이 손실함수를 통해서 엔트로피를 낮추는 방식으로 진행됨\n",
        "loss = torch.nn.CrossEntropyLoss()\n",
        "output = loss(out, label)\n",
        "print(output)\n",
        "\n",
        "\n"
      ],
      "execution_count": 79,
      "outputs": [
        {
          "output_type": "stream",
          "text": [
            "torch.Size([100, 32, 14, 14])\n",
            "torch.Size([100, 64, 7, 7])\n",
            "torch.Size([100, 3136])\n",
            "Parameter containing:\n",
            "tensor([[-0.0093,  0.0033,  0.0044,  ...,  0.0407, -0.0290,  0.0295],\n",
            "        [-0.0164,  0.0260,  0.0367,  ...,  0.0041, -0.0019,  0.0264],\n",
            "        [ 0.0306, -0.0012,  0.0436,  ...,  0.0148,  0.0073,  0.0019],\n",
            "        ...,\n",
            "        [ 0.0017, -0.0417, -0.0415,  ..., -0.0223, -0.0142,  0.0004],\n",
            "        [-0.0380,  0.0069,  0.0016,  ..., -0.0204,  0.0266,  0.0097],\n",
            "        [ 0.0398,  0.0293,  0.0321,  ..., -0.0234, -0.0282, -0.0056]],\n",
            "       device='cuda:0', requires_grad=True)\n",
            "Parameter containing:\n",
            "tensor([[ 0.0433,  0.0359, -0.0234,  ..., -0.0206,  0.0096,  0.0135],\n",
            "        [-0.0322, -0.0363, -0.0419,  ..., -0.0350, -0.0059, -0.0166],\n",
            "        [ 0.0093, -0.0352, -0.0370,  ..., -0.0049,  0.0157, -0.0366],\n",
            "        ...,\n",
            "        [-0.0187, -0.0003, -0.0201,  ...,  0.0231,  0.0076, -0.0136],\n",
            "        [-0.0041, -0.0215,  0.0325,  ..., -0.0007, -0.0242,  0.0344],\n",
            "        [ 0.0432,  0.0029,  0.0162,  ..., -0.0282,  0.0181,  0.0015]],\n",
            "       device='cuda:0', requires_grad=True)\n"
          ],
          "name": "stdout"
        }
      ]
    },
    {
      "cell_type": "code",
      "metadata": {
        "id": "6Yliujkj69PE",
        "colab_type": "code",
        "colab": {}
      },
      "source": [
        "# 손실함수\n",
        "criterion = torch.nn.CrossEntropyLoss().to(device)\n",
        "optimizer = torch.optim.Adam(model.parameters(), lr = learning_rate)"
      ],
      "execution_count": 63,
      "outputs": []
    },
    {
      "cell_type": "code",
      "metadata": {
        "id": "5ykYoRX-75tl",
        "colab_type": "code",
        "colab": {
          "base_uri": "https://localhost:8080/",
          "height": 272
        },
        "outputId": "38dddc7a-2e05-4333-e708-21b469d4b969"
      },
      "source": [
        "total_batch = len(data_loader)\n",
        "\n",
        "for epoch in range(15):\n",
        "\n",
        "  # loss 값을 담을 변수 0으로 초기화\n",
        "  avg_cost = 0\n",
        "\n",
        "  # img는 input, label은 정답지\n",
        "  for img,label in data_loader:\n",
        "    img = img.to(device)\n",
        "    label = label.to(device)\n",
        "\n",
        "    # 선형회귀에서 했던 코드\n",
        "    optimizer.zero_grad()\n",
        "    hypothesis = model(img)\n",
        "    cost = criterion(hypothesis, label)\n",
        "\n",
        "    cost.backward()\n",
        "    optimizer.step()\n",
        "\n",
        "    avg_cost += cost/total_batch\n",
        "\n",
        "  print(\"Epoch:{} cost={}\".format(epoch+1, avg_cost))"
      ],
      "execution_count": 64,
      "outputs": [
        {
          "output_type": "stream",
          "text": [
            "Epoch:1 cost=0.21711450815200806\n",
            "Epoch:2 cost=0.0627535954117775\n",
            "Epoch:3 cost=0.046515125781297684\n",
            "Epoch:4 cost=0.037708017975091934\n",
            "Epoch:5 cost=0.03144245222210884\n",
            "Epoch:6 cost=0.026822924613952637\n",
            "Epoch:7 cost=0.022707849740982056\n",
            "Epoch:8 cost=0.019798707216978073\n",
            "Epoch:9 cost=0.015502367168664932\n",
            "Epoch:10 cost=0.014321819879114628\n",
            "Epoch:11 cost=0.012325611896812916\n",
            "Epoch:12 cost=0.010221793316304684\n",
            "Epoch:13 cost=0.010157003998756409\n",
            "Epoch:14 cost=0.007247631903737783\n",
            "Epoch:15 cost=0.007243932690471411\n"
          ],
          "name": "stdout"
        }
      ]
    },
    {
      "cell_type": "code",
      "metadata": {
        "id": "b0hF_7x5Tq7d",
        "colab_type": "code",
        "colab": {
          "base_uri": "https://localhost:8080/",
          "height": 51
        },
        "outputId": "63582336-3e42-4e7b-f124-c79268d0d55f"
      },
      "source": [
        "with torch.no_grad():\n",
        "\n",
        "  img_test = mnist_test.test_data.view(len(mnist_test), 1, 28, 28).float().to(device)\n",
        "  img_test.shape\n",
        "  prediction = model(img_test)\n"
      ],
      "execution_count": 68,
      "outputs": [
        {
          "output_type": "stream",
          "text": [
            "/usr/local/lib/python3.6/dist-packages/torchvision/datasets/mnist.py:60: UserWarning: test_data has been renamed data\n",
            "  warnings.warn(\"test_data has been renamed data\")\n"
          ],
          "name": "stderr"
        }
      ]
    },
    {
      "cell_type": "code",
      "metadata": {
        "id": "P-SPGGkUUj_v",
        "colab_type": "code",
        "colab": {
          "base_uri": "https://localhost:8080/",
          "height": 255
        },
        "outputId": "5e48f71b-9920-4079-85da-f9fc62d94683"
      },
      "source": [
        "print(prediction)\n",
        "print(torch.argmax(prediction,axis=1))"
      ],
      "execution_count": 77,
      "outputs": [
        {
          "output_type": "stream",
          "text": [
            "tensor([[-7716.6250, -1909.7129, -1820.0050,  ...,  5691.4263, -3788.3672,\n",
            "           -70.1264],\n",
            "        [-2570.8496, -1903.1008,  4586.4033,  ..., -5711.3135, -2791.0190,\n",
            "         -4471.4292],\n",
            "        [-4939.8022,  2988.5381, -2379.4253,  ...,  -764.2632,  -507.3808,\n",
            "         -2871.1953],\n",
            "        ...,\n",
            "        [-8060.3398, -3253.9475, -6693.4263,  ...,  -633.6251, -1276.9800,\n",
            "         -1904.2771],\n",
            "        [-1680.8075, -7005.0889, -5313.4365,  ..., -4458.7275,  2067.0857,\n",
            "         -6992.3237],\n",
            "        [-4085.7605, -7682.7339, -2169.1772,  ..., -7115.5938, -2194.2795,\n",
            "         -6560.6899]], device='cuda:0')\n",
            "tensor([7, 2, 1,  ..., 4, 5, 6], device='cuda:0')\n"
          ],
          "name": "stdout"
        }
      ]
    },
    {
      "cell_type": "code",
      "metadata": {
        "id": "ZJIAluBW-WX1",
        "colab_type": "code",
        "colab": {
          "base_uri": "https://localhost:8080/",
          "height": 102
        },
        "outputId": "0c05f6fc-1920-4371-a681-6be1348cc382"
      },
      "source": [
        "# 정확도 테스트\n",
        "with torch.no_grad():\n",
        "\n",
        "    # 테스트 데이터 불러와서 1렬 뉴런 형태로 불러오기\n",
        "    img_test = mnist_test.test_data.view(len(mnist_test), 1, 28, 28).float().to(device)\n",
        "    label_test = mnist_test.test_labels.to(device)\n",
        "    \n",
        "    # 학습된 CNN모델에 삽입\n",
        "    prediction = model(img_test)\n",
        "    # 테스트 라벨과 prediction의 라벨을 비교해서 값이 True인것만 추출\n",
        "    correct_prediction = torch.argmax(prediction, 1) == label_test\n",
        "\n",
        "    # 모은 데이터의 평균을 내서 정확도를 추출\n",
        "    accuracy = correct_prediction.float().mean()\n",
        "\n",
        "    # 정확도 프린트\n",
        "    print('Accuracy:', accuracy.item())"
      ],
      "execution_count": null,
      "outputs": [
        {
          "output_type": "stream",
          "text": [
            "Accuracy: 0.9886999726295471\n"
          ],
          "name": "stdout"
        },
        {
          "output_type": "stream",
          "text": [
            "/usr/local/lib/python3.6/dist-packages/torchvision/datasets/mnist.py:60: UserWarning: test_data has been renamed data\n",
            "  warnings.warn(\"test_data has been renamed data\")\n",
            "/usr/local/lib/python3.6/dist-packages/torchvision/datasets/mnist.py:50: UserWarning: test_labels has been renamed targets\n",
            "  warnings.warn(\"test_labels has been renamed targets\")\n"
          ],
          "name": "stderr"
        }
      ]
    }
  ]
}