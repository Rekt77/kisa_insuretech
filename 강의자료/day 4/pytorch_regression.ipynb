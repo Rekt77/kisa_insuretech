{
  "nbformat": 4,
  "nbformat_minor": 0,
  "metadata": {
    "colab": {
      "name": "pytorch_test.ipynb",
      "provenance": [],
      "collapsed_sections": [],
      "authorship_tag": "ABX9TyOSi8bDGREa9pWyLY0XuZfr",
      "include_colab_link": true
    },
    "kernelspec": {
      "name": "python3",
      "display_name": "Python 3"
    }
  },
  "cells": [
    {
      "cell_type": "markdown",
      "metadata": {
        "id": "view-in-github",
        "colab_type": "text"
      },
      "source": [
        "<a href=\"https://colab.research.google.com/github/Rekt77/kisa_insuretech/blob/master/pytorch_regression.ipynb\" target=\"_parent\"><img src=\"https://colab.research.google.com/assets/colab-badge.svg\" alt=\"Open In Colab\"/></a>"
      ]
    },
    {
      "cell_type": "code",
      "metadata": {
        "id": "RkLHjgy7Q9iK",
        "colab_type": "code",
        "colab": {}
      },
      "source": [
        "import torch\n",
        "import numpy as np\n",
        "import matplotlib.pyplot as plt\n",
        "\n",
        "data = np.array([[250,2.5],\n",
        "                [300,3],\n",
        "                [220,2.2],\n",
        "                [119,1.19],\n",
        "                [120,1.2],\n",
        "                [555,5.55],\n",
        "                [350,3.5]])"
      ],
      "execution_count": 9,
      "outputs": []
    },
    {
      "cell_type": "code",
      "metadata": {
        "id": "PDwjiOa-59oE",
        "colab_type": "code",
        "colab": {}
      },
      "source": [
        "x_train = torch.FloatTensor(data[:,0])\n",
        "y_train = torch.FloatTensor(data[:,1])"
      ],
      "execution_count": 42,
      "outputs": []
    },
    {
      "cell_type": "code",
      "metadata": {
        "id": "4n9O_xqW6Hwl",
        "colab_type": "code",
        "colab": {}
      },
      "source": [
        "W = torch.zeros(1,requires_grad=True)\n",
        "b = torch.zeros(1,requires_grad=True)\n"
      ],
      "execution_count": 41,
      "outputs": []
    },
    {
      "cell_type": "code",
      "metadata": {
        "id": "JhjKC68z6T5W",
        "colab_type": "code",
        "colab": {}
      },
      "source": [
        "optimizer = torch.optim.SGD([W,b],lr=0.00001)"
      ],
      "execution_count": 43,
      "outputs": []
    },
    {
      "cell_type": "code",
      "metadata": {
        "id": "oV7paM2R6l2G",
        "colab_type": "code",
        "colab": {
          "base_uri": "https://localhost:8080/",
          "height": 187
        },
        "outputId": "e6ef394a-823c-4564-f086-2afecb072fdb"
      },
      "source": [
        "n_epochs = 10000\n",
        "for epoch in range(n_epochs):\n",
        "  if epoch%1000==0:\n",
        "    print(\"cost:{} W:{:.6f} b:{:.6f}\".format(cost,W.data[0],b.data[0]))\n",
        "  hypothesis = W*x_train+b\n",
        "  cost = torch.mean((hypothesis-y_train)**2)\n",
        "\n",
        "  optimizer.zero_grad()\n",
        "  cost.backward()\n",
        "  optimizer.step()"
      ],
      "execution_count": 45,
      "outputs": [
        {
          "output_type": "stream",
          "text": [
            "cost:1.6184945050845556e-10 W:0.010000 b:0.000028\n",
            "cost:1.591737575079577e-10 W:0.010000 b:0.000028\n",
            "cost:1.5795162400245033e-10 W:0.010000 b:0.000028\n",
            "cost:1.55357129938416e-10 W:0.010000 b:0.000027\n",
            "cost:1.5673760900281053e-10 W:0.010000 b:0.000027\n",
            "cost:1.5494704130869508e-10 W:0.010000 b:0.000027\n",
            "cost:1.5373302630905528e-10 W:0.010000 b:0.000027\n",
            "cost:1.511466507508885e-10 W:0.010000 b:0.000027\n",
            "cost:1.5225509741867427e-10 W:0.010000 b:0.000027\n",
            "cost:1.4994887276298385e-10 W:0.010000 b:0.000027\n"
          ],
          "name": "stdout"
        }
      ]
    },
    {
      "cell_type": "code",
      "metadata": {
        "id": "sSYs8v9H7lLK",
        "colab_type": "code",
        "colab": {
          "base_uri": "https://localhost:8080/",
          "height": 34
        },
        "outputId": "7dfbacee-26e6-4018-ffb1-59b8d4e78eb0"
      },
      "source": [
        "hypothesis = W*300+b\n",
        "hypothesis"
      ],
      "execution_count": 46,
      "outputs": [
        {
          "output_type": "execute_result",
          "data": {
            "text/plain": [
              "tensor([3.0000], grad_fn=<AddBackward0>)"
            ]
          },
          "metadata": {
            "tags": []
          },
          "execution_count": 46
        }
      ]
    },
    {
      "cell_type": "code",
      "metadata": {
        "id": "AV1IQGiQ9b-l",
        "colab_type": "code",
        "colab": {}
      },
      "source": [
        "W = W.detach().numpy()\n",
        "b = b.detach().numpy()"
      ],
      "execution_count": null,
      "outputs": []
    },
    {
      "cell_type": "code",
      "metadata": {
        "id": "_IrEi2TD8m8k",
        "colab_type": "code",
        "colab": {
          "base_uri": "https://localhost:8080/",
          "height": 282
        },
        "outputId": "0de1c3d5-4631-46d7-97b9-b19dc1bee435"
      },
      "source": [
        "test = np.array(np.random.randint(100,200,30))\n",
        "plt.scatter(test,W*test+b)\n",
        "plt.plot(test,W*test+b,color=\"r\")"
      ],
      "execution_count": 60,
      "outputs": [
        {
          "output_type": "execute_result",
          "data": {
            "text/plain": [
              "[<matplotlib.lines.Line2D at 0x7f541943d7f0>]"
            ]
          },
          "metadata": {
            "tags": []
          },
          "execution_count": 60
        },
        {
          "output_type": "display_data",
          "data": {
            "image/png": "[encoded data removed]",
            "text/plain": [
              "<Figure size 432x288 with 1 Axes>"
            ]
          },
          "metadata": {
            "tags": [],
            "needs_background": "light"
          }
        }
      ]
    }
  ]
}