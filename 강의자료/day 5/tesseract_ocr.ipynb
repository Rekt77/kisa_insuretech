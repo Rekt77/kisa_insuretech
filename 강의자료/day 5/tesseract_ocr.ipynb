{
  "nbformat": 4,
  "nbformat_minor": 0,
  "metadata": {
    "colab": {
      "name": "tesseract-ocr.ipynb",
      "provenance": [],
      "mount_file_id": "1Tipp6vuNYIvKWA9dFQtLs4vN2jqsZpgQ",
      "authorship_tag": "ABX9TyNWBwVTKoYhNbisodcLmmDF",
      "include_colab_link": true
    },
    "kernelspec": {
      "name": "python3",
      "display_name": "Python 3"
    }
  },
  "cells": [
    {
      "cell_type": "markdown",
      "metadata": {
        "id": "view-in-github",
        "colab_type": "text"
      },
      "source": [
        "<a href=\"https://colab.research.google.com/github/Rekt77/kisa_insuretech/blob/master/tesseract_ocr.ipynb\" target=\"_parent\"><img src=\"https://colab.research.google.com/assets/colab-badge.svg\" alt=\"Open In Colab\"/></a>"
      ]
    },
    {
      "cell_type": "markdown",
      "metadata": {
        "id": "O8l5O4hJlKYk",
        "colab_type": "text"
      },
      "source": [
        "# pytesseract\n",
        "- 광학문자 인식 엔진\n",
        "- Tesseract 는 입력된 input 이미지의 특징점을 추출하고 그 특징점을 사용하여 문자를 인식한다. \n",
        "- 문자의 특징점을 추출하는 방법은 원래의 image 에 out line 을 생성한 후에 방향성을 정하고 방향성에 따라 다각형에 근접하게 추출하게 된다.\n",
        "![img](https://img1.daumcdn.net/thumb/R1280x0/?scode=mtistory2&fname=https%3A%2F%2Ft1.daumcdn.net%2Fcfile%2Ftistory%2F275FCF3B5817EB4135)"
      ]
    },
    {
      "cell_type": "code",
      "metadata": {
        "id": "LoKDT-Zkjei3",
        "colab_type": "code",
        "outputId": "e455723d-4fa3-4350-82a8-016c9460d7c8",
        "colab": {
          "base_uri": "https://localhost:8080/",
          "height": 547
        }
      },
      "source": [
        "!sudo apt install tesseract-ocr tesseract-ocr-script-hang tesseract-ocr-script-hang-vert\n",
        "!pip install pytesseract"
      ],
      "execution_count": 0,
      "outputs": [
        {
          "output_type": "stream",
          "text": [
            "\rReading package lists... 0%\r\rReading package lists... 0%\r\rReading package lists... 0%\r\rReading package lists... 6%\r\rReading package lists... 6%\r\rReading package lists... 7%\r\rReading package lists... 7%\r\rReading package lists... 57%\r\rReading package lists... 63%\r\rReading package lists... 63%\r\rReading package lists... 64%\r\rReading package lists... 64%\r\rReading package lists... 71%\r\rReading package lists... 71%\r\rReading package lists... 72%\r\rReading package lists... 72%\r\rReading package lists... 81%\r\rReading package lists... 81%\r\rReading package lists... 81%\r\rReading package lists... 81%\r\rReading package lists... 81%\r\rReading package lists... 81%\r\rReading package lists... 81%\r\rReading package lists... 81%\r\rReading package lists... 87%\r\rReading package lists... 87%\r\rReading package lists... 87%\r\rReading package lists... 87%\r\rReading package lists... 93%\r\rReading package lists... 93%\r\rReading package lists... 93%\r\rReading package lists... 93%\r\rReading package lists... 93%\r\rReading package lists... 93%\r\rReading package lists... 94%\r\rReading package lists... 94%\r\rReading package lists... 95%\r\rReading package lists... 95%\r\rReading package lists... 98%\r\rReading package lists... 98%\r\rReading package lists... 98%\r\rReading package lists... 98%\r\rReading package lists... Done\r\n",
            "\rBuilding dependency tree... 0%\r\rBuilding dependency tree... 0%\r\rBuilding dependency tree... 50%\r\rBuilding dependency tree... 50%\r\rBuilding dependency tree... 76%\r\rBuilding dependency tree       \r\n",
            "\rReading state information... 0%\r\rReading state information... 0%\r\rReading state information... Done\r\n",
            "tesseract-ocr is already the newest version (4.00~git2288-10f4998a-2).\n",
            "The following NEW packages will be installed:\n",
            "  tesseract-ocr-script-hang tesseract-ocr-script-hang-vert\n",
            "0 upgraded, 2 newly installed, 0 to remove and 31 not upgraded.\n",
            "Need to get 3,614 kB of archives.\n",
            "After this operation, 9,601 kB of additional disk space will be used.\n",
            "\u001b[33m\r0% [Working]\u001b[0m\r            \rGet:1 http://archive.ubuntu.com/ubuntu bionic/universe amd64 tesseract-ocr-script-hang all 4.00~git24-0e00fe6-1.2 [1,854 kB]\n",
            "\u001b[33m\r0% [1 tesseract-ocr-script-hang 2,611 B/1,854 kB 0%]\u001b[0m\u001b[33m\r                                                    \r3% [1 tesseract-ocr-script-hang 150 kB/1,854 kB 8%]\u001b[0m\u001b[33m\r41% [1 tesseract-ocr-script-hang 1,831 kB/1,854 kB 99%]\u001b[0m\u001b[33m\r                                                       \r51% [Working]\u001b[0m\r             \rGet:2 http://archive.ubuntu.com/ubuntu bionic/universe amd64 tesseract-ocr-script-hang-vert all 4.00~git24-0e00fe6-1.2 [1,761 kB]\n",
            "\u001b[33m\r51% [2 tesseract-ocr-script-hang-vert 18.5 kB/1,761 kB 1%]\u001b[0m\u001b[33m\r                                                          \r100% [Working]\u001b[0m\r              \rFetched 3,614 kB in 2s (2,372 kB/s)\n",
            "debconf: unable to initialize frontend: Dialog\n",
            "debconf: (No usable dialog-like program is installed, so the dialog based frontend cannot be used. at /usr/share/perl5/Debconf/FrontEnd/Dialog.pm line 76, <> line 2.)\n",
            "debconf: falling back to frontend: Readline\n",
            "debconf: unable to initialize frontend: Readline\n",
            "debconf: (This frontend requires a controlling tty.)\n",
            "debconf: falling back to frontend: Teletype\n",
            "dpkg-preconfigure: unable to re-open stdin: \n",
            "Selecting previously unselected package tesseract-ocr-script-hang.\n",
            "(Reading database ... \r(Reading database ... 5%\r(Reading database ... 10%\r(Reading database ... 15%\r(Reading database ... 20%\r(Reading database ... 25%\r(Reading database ... 30%\r(Reading database ... 35%\r(Reading database ... 40%\r(Reading database ... 45%\r(Reading database ... 50%\r(Reading database ... 55%\r(Reading database ... 60%\r(Reading database ... 65%\r(Reading database ... 70%\r(Reading database ... 75%\r(Reading database ... 80%\r(Reading database ... 85%\r(Reading database ... 90%\r(Reading database ... 95%\r(Reading database ... 100%\r(Reading database ... 144480 files and directories currently installed.)\n",
            "Preparing to unpack .../tesseract-ocr-script-hang_4.00~git24-0e00fe6-1.2_all.deb ...\n",
            "Unpacking tesseract-ocr-script-hang (4.00~git24-0e00fe6-1.2) ...\n",
            "Selecting previously unselected package tesseract-ocr-script-hang-vert.\n",
            "Preparing to unpack .../tesseract-ocr-script-hang-vert_4.00~git24-0e00fe6-1.2_all.deb ...\n",
            "Unpacking tesseract-ocr-script-hang-vert (4.00~git24-0e00fe6-1.2) ...\n",
            "Setting up tesseract-ocr-script-hang (4.00~git24-0e00fe6-1.2) ...\n",
            "Setting up tesseract-ocr-script-hang-vert (4.00~git24-0e00fe6-1.2) ...\n",
            "Requirement already satisfied: pytesseract in /usr/local/lib/python3.6/dist-packages (0.3.4)\n",
            "Requirement already satisfied: Pillow in /usr/local/lib/python3.6/dist-packages (from pytesseract) (7.0.0)\n"
          ],
          "name": "stdout"
        }
      ]
    },
    {
      "cell_type": "code",
      "metadata": {
        "id": "gaiIQk2AjnUp",
        "colab_type": "code",
        "colab": {}
      },
      "source": [
        "import pytesseract\n",
        "import shutil\n",
        "import os\n",
        "import random\n",
        "try:\n",
        " from PIL import Image\n",
        "except ImportError:\n",
        " import Image"
      ],
      "execution_count": 0,
      "outputs": []
    },
    {
      "cell_type": "code",
      "metadata": {
        "id": "K_bo0S_0juiX",
        "colab_type": "code",
        "outputId": "23b8a10e-18d8-4dfa-928e-10e453a9ed51",
        "colab": {
          "base_uri": "https://localhost:8080/",
          "height": 221
        }
      },
      "source": [
        "image_path_in_colab=\"/content/drive/My Drive/insuretech/test_img/computer_vision.jpeg\"\n",
        "extracted = pytesseract.image_to_string(Image.open(image_path_in_colab))\n",
        "print(extracted)"
      ],
      "execution_count": 0,
      "outputs": [
        {
          "output_type": "stream",
          "text": [
            "1.1 Whatis computer vision?\n",
            "\n",
            "As humans, we perceive the three-dimensional Structure of the world around us with apparent\n",
            "case. Think of how vivid the three-dimensional percept is when you look at a vase of flowers\n",
            "sitting on the table next to you. You can tell the shape and translucency of each petal through\n",
            "the subtle patterns of light and shading that play across its surface and effortlessly segment\n",
            "each flower from the background of the scene (Figure 1.1). Looking at a framed group por-\n",
            "trait, you can easily count (and name) all of the people in the picture and even guess at their\n",
            "emotions from their facial appearance. Perceptual psychologists have spent decades trying to\n",
            "understand how the visual system works and, even though they can devise optical illusions!\n",
            "to tease apart some of its principles (Figure 1.3), a complete solution to this puzzle remains\n",
            "elusive (Marr 1982; Palmer 1999; Livingstone 2008).\n"
          ],
          "name": "stdout"
        }
      ]
    },
    {
      "cell_type": "code",
      "metadata": {
        "id": "KIhCqpyOlZXL",
        "colab_type": "code",
        "outputId": "90b4fc9c-574f-4d98-deba-62885284e21b",
        "colab": {
          "base_uri": "https://localhost:8080/",
          "height": 204
        }
      },
      "source": [
        "image_path_in_colab=\"/content/drive/My Drive/insuretech/test_img/hangul.png\"\n",
        "extracted = pytesseract.image_to_string(Image.open(image_path_in_colab), lang='Hangul')\n",
        "print(extracted)"
      ],
      "execution_count": 0,
      "outputs": [
        {
          "output_type": "stream",
          "text": [
            "초년\n",
            "\n",
            "여기저기서 단풍잎 같은 슬픈 가 을 이 뚝뚝 떨어진다. 단풍잎\n",
            "떨어져 나온 자 리 마다 봄 을 마련해 놓고 나 릇 가지 위에 하 늘 이\n",
            "(펼쳐 있다. 가만히 하 늘 을 들 여 다 보려면 눈 썸 에 파란 물 감 이\n",
            "든다. 두 손 으로 따뜻한 볼 을 쓸어 보면 손 바 닥 에도 파란 물감\n",
            "이 묻 어 난다. 다시 손 바 닥 을 들 여 다 본다. 손 금 에는 맑은 강물\n",
            "이 흐르고, 맑은 강 물 이 흐르고, 강물 속에는 사 랑 처 럼 슬픈 얼\n",
            "굴 -- 아름다운 순 이 의 얼 굴 이 어 린 다. 소 년 은 황 홀 히 눈 을\n",
            "감아 본다. 그래도 맑은 강 물 은 흘러 사 람 처럼 슬픈 얼 굴 -\n",
            "아름다운 순 이 의 얼 굴 은 어 린 다.\n"
          ],
          "name": "stdout"
        }
      ]
    }
  ]
}