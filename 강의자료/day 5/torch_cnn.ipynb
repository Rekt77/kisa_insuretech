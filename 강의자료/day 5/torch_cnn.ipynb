{
  "nbformat": 4,
  "nbformat_minor": 0,
  "metadata": {
    "colab": {
      "name": "torch_cnn.ipynb",
      "provenance": [],
      "collapsed_sections": [],
      "mount_file_id": "1rAXpbcCi3udBB9ehilwb395WHazNcQkS",
      "authorship_tag": "ABX9TyNvcSpusLMdRNkMXj5+w/Fo",
      "include_colab_link": true
    },
    "kernelspec": {
      "name": "python3",
      "display_name": "Python 3"
    },
    "accelerator": "GPU"
  },
  "cells": [
    {
      "cell_type": "markdown",
      "metadata": {
        "id": "view-in-github",
        "colab_type": "text"
      },
      "source": [
        "<a href=\"https://colab.research.google.com/github/Rekt77/kisa_insuretech/blob/master/torch_cnn.ipynb\" target=\"_parent\"><img src=\"https://colab.research.google.com/assets/colab-badge.svg\" alt=\"Open In Colab\"/></a>"
      ]
    },
    {
      "cell_type": "code",
      "metadata": {
        "id": "uKNAlh0NqEth",
        "colab_type": "code",
        "colab": {}
      },
      "source": [
        "import torch\n",
        "import torchvision.datasets as datasets\n",
        "import torchvision.transforms as transforms\n",
        "import torch.nn.init\n",
        "\n",
        "# gpu사용\n",
        "device = \"cuda\" if torch.cuda.is_available() else \"cpu\"\n",
        "torch.manual_seed(1000)\n",
        "if device == \"cuda\":\n",
        "  torch.cuda.manual_seed(1000)\n",
        "\n",
        "batch_size=100\n",
        "learning_rate=0.001\n",
        "epochs=15"
      ],
      "execution_count": 0,
      "outputs": []
    },
    {
      "cell_type": "code",
      "metadata": {
        "id": "bDNWaOLmz1tL",
        "colab_type": "code",
        "colab": {}
      },
      "source": [
        "mnist_train = datasets.MNIST(root=\"/content/drive/My Drive/insuretech/MNIST_CNN/\",\n",
        "                             train=True,\n",
        "                             download=True,\n",
        "                             transform=transforms.ToTensor())\n",
        "\n",
        "mnist_test = datasets.MNIST(root=\"/content/drive/My Drive/insuretech/MNIST_CNN/\",\n",
        "                             train=False,\n",
        "                             download=True,\n",
        "                             transform=transforms.ToTensor())\n"
      ],
      "execution_count": 0,
      "outputs": []
    },
    {
      "cell_type": "code",
      "metadata": {
        "id": "xF4FxRJD2tdi",
        "colab_type": "code",
        "colab": {}
      },
      "source": [
        "data_loader = torch.utils.data.DataLoader(dataset=mnist_train,\n",
        "                                          batch_size=batch_size,\n",
        "                                          shuffle=True,\n",
        "                                          drop_last=True)"
      ],
      "execution_count": 0,
      "outputs": []
    },
    {
      "cell_type": "code",
      "metadata": {
        "id": "bq_Atz_l3eTZ",
        "colab_type": "code",
        "colab": {}
      },
      "source": [
        "# CNN Model (2-layers)\n",
        "class CNN(torch.nn.Module):\n",
        "\n",
        "    def __init__(self):\n",
        "        super(CNN, self).__init__()\n",
        "        self.layer1 = torch.nn.Sequential(\n",
        "            torch.nn.Conv2d(1, 32, kernel_size=3, stride=1, padding=1),\n",
        "            torch.nn.ReLU(),\n",
        "            torch.nn.MaxPool2d(kernel_size=2, stride=2))\n",
        "        self.layer2 = torch.nn.Sequential(\n",
        "            torch.nn.Conv2d(32, 64, kernel_size=3, stride=1, padding=1),\n",
        "            torch.nn.ReLU(),\n",
        "            torch.nn.MaxPool2d(kernel_size=2, stride=2))\n",
        "        \n",
        "        self.fc = torch.nn.Linear(7 * 7 * 64, 10, bias=True)\n",
        "        torch.nn.init.xavier_uniform_(self.fc.weight)\n",
        "\n",
        "    def forward(self, x):\n",
        "        out = self.layer1(x)\n",
        "        out = self.layer2(out)\n",
        "        out = out.view(out.size(0), -1)\n",
        "        out = self.fc(out)\n",
        "        return out"
      ],
      "execution_count": 0,
      "outputs": []
    },
    {
      "cell_type": "code",
      "metadata": {
        "id": "ZrKoZDqu6DDI",
        "colab_type": "code",
        "colab": {}
      },
      "source": [
        "# CNN모델이 gpu를 사용하도록 만들기\n",
        "model = CNN().to(device)"
      ],
      "execution_count": 0,
      "outputs": []
    },
    {
      "cell_type": "code",
      "metadata": {
        "id": "6Yliujkj69PE",
        "colab_type": "code",
        "outputId": "522a569f-cbde-4208-fde3-40119967fc57",
        "colab": {
          "base_uri": "https://localhost:8080/"
        }
      },
      "source": [
        "criterion = nn.CrossEntropyLoss().to(device)\n",
        "optimizer = torch.optim.Adam(model.parameters(), lr = learning_rate)"
      ],
      "execution_count": 0,
      "outputs": [
        {
          "output_type": "error",
          "ename": "NameError",
          "evalue": "ignored",
          "traceback": [
            "\u001b[0;31m---------------------------------------------------------------------------\u001b[0m",
            "\u001b[0;31mNameError\u001b[0m                                 Traceback (most recent call last)",
            "\u001b[0;32m<ipython-input-6-ad025edc8486>\u001b[0m in \u001b[0;36m<module>\u001b[0;34m()\u001b[0m\n\u001b[0;32m----> 1\u001b[0;31m \u001b[0mcriterion\u001b[0m \u001b[0;34m=\u001b[0m \u001b[0mnn\u001b[0m\u001b[0;34m.\u001b[0m\u001b[0mCrossEntropyLoss\u001b[0m\u001b[0;34m(\u001b[0m\u001b[0;34m)\u001b[0m\u001b[0;34m.\u001b[0m\u001b[0mto\u001b[0m\u001b[0;34m(\u001b[0m\u001b[0mdevice\u001b[0m\u001b[0;34m)\u001b[0m\u001b[0;34m\u001b[0m\u001b[0;34m\u001b[0m\u001b[0m\n\u001b[0m\u001b[1;32m      2\u001b[0m \u001b[0moptimizer\u001b[0m \u001b[0;34m=\u001b[0m \u001b[0mtorch\u001b[0m\u001b[0;34m.\u001b[0m\u001b[0moptim\u001b[0m\u001b[0;34m.\u001b[0m\u001b[0mAdam\u001b[0m\u001b[0;34m(\u001b[0m\u001b[0mmodel\u001b[0m\u001b[0;34m.\u001b[0m\u001b[0mparameters\u001b[0m\u001b[0;34m(\u001b[0m\u001b[0;34m)\u001b[0m\u001b[0;34m,\u001b[0m \u001b[0mlr\u001b[0m \u001b[0;34m=\u001b[0m \u001b[0mlearning_rate\u001b[0m\u001b[0;34m)\u001b[0m\u001b[0;34m\u001b[0m\u001b[0;34m\u001b[0m\u001b[0m\n",
            "\u001b[0;31mNameError\u001b[0m: name 'nn' is not defined"
          ]
        }
      ]
    },
    {
      "cell_type": "code",
      "metadata": {
        "id": "5ykYoRX-75tl",
        "colab_type": "code",
        "colab": {}
      },
      "source": [
        "total_batch = len(data_loader)\n",
        "\n",
        "for epoch in range(15):\n",
        "\n",
        "  # loss 값을 담을 변수 0으로 초기화\n",
        "  avg_cost = 0\n",
        "\n",
        "  # img는 input, label은 정답지\n",
        "  for img,label in data_loader:\n",
        "    img = img.to(device)\n",
        "    label = label.to(device)\n",
        "\n",
        "    # 선형회귀에서 했던 코드\n",
        "    optimizer.zero_grad()\n",
        "    hypothesis = model(img)\n",
        "    cost = criterion(hypothesis, label)\n",
        "\n",
        "    cost.backward()\n",
        "    optimizer.step()\n",
        "\n",
        "    avg_cost += cost/total_batch\n",
        "\n",
        "  print(\"Epoch:{} cost={}\".format(epoch+1, avg_cost))"
      ],
      "execution_count": 0,
      "outputs": []
    },
    {
      "cell_type": "code",
      "metadata": {
        "id": "ZJIAluBW-WX1",
        "colab_type": "code",
        "colab": {}
      },
      "source": [
        "# 정확도 테스트\n",
        "with torch.no_grad():\n",
        "\n",
        "    # 테스트 데이터 불러와서 1렬 뉴런 형태로 불러오기\n",
        "    img_test = mnist_test.test_data.view(len(mnist_test), 1, 28, 28).float().to(device)\n",
        "    label_test = mnist_test.test_labels.to(device)\n",
        "    \n",
        "    # 학습된 CNN모델에 삽입\n",
        "    prediction = model(img_test)\n",
        "    # 테스트 라벨과 prediction의 라벨을 비교해서 값이 True인것만 추출\n",
        "    correct_prediction = torch.argmax(prediction, 1) == label_test\n",
        "\n",
        "    # 모은 데이터의 평균을 내서 정확도를 추출\n",
        "    accuracy = correct_prediction.float().mean()\n",
        "\n",
        "    # 정확도 프린트\n",
        "    print('Accuracy:', accuracy.item())"
      ],
      "execution_count": 0,
      "outputs": []
    }
  ]
}