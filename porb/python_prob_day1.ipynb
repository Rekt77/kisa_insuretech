{
  "nbformat": 4,
  "nbformat_minor": 0,
  "metadata": {
    "colab": {
      "name": "python_prob_day1.ipynb",
      "provenance": [],
      "collapsed_sections": [],
      "authorship_tag": "ABX9TyM0ze9D5gSQfsE0mLRLGRk1",
      "include_colab_link": true
    },
    "kernelspec": {
      "name": "python3",
      "display_name": "Python 3"
    }
  },
  "cells": [
    {
      "cell_type": "markdown",
      "metadata": {
        "id": "view-in-github",
        "colab_type": "text"
      },
      "source": [
        "<a href=\"https://colab.research.google.com/github/Rekt77/kisa_insuretech/blob/master/python_prob_day1.ipynb\" target=\"_parent\"><img src=\"https://colab.research.google.com/assets/colab-badge.svg\" alt=\"Open In Colab\"/></a>"
      ]
    },
    {
      "cell_type": "markdown",
      "metadata": {
        "id": "p64g_6-v-gzw",
        "colab_type": "text"
      },
      "source": [
        "# DAY 1\n",
        "-------\n",
        "### PROB 1\n",
        "\n",
        "- 구구단을 출력하여라\n",
        "-------\n",
        "### PROB 2\n",
        "\n",
        "- 리스트에 a,b,c로 시작하는 단어 3개를 담아라\n",
        "- 리스트에서 a와 b로 시작하는 단어만을 대문자로 출력하여라\n",
        "-------\n",
        "### PROB 3\n",
        "\n",
        "- python challenge no.1(caesar cypher)\n",
        "-------\n",
        "### PROB 4\n",
        "\n",
        "- 클래스 구축 문제(insurance)\n",
        "-------\n",
        "### PROB 5\n",
        "\n",
        "- requests 모듈을 이용해 https://baconipsum.com/api/에 get 요청을 보내라\n",
        "- 파라미터 이름은 type이며 그 값은 meat-and-filler이다.\n",
        "- 리턴되는 json을 리스트에 저장하고 반복문을 통해 각각의 요소를 출력하여라.\n",
        "-------\n",
        "### PROB 6\n",
        "- python challenge 6(linked list)\n"
      ]
    },
    {
      "cell_type": "code",
      "metadata": {
        "id": "Hg4vjcFGCpY7",
        "colab_type": "code",
        "colab": {
          "base_uri": "https://localhost:8080/",
          "height": 1000
        },
        "outputId": "798c941e-58bb-4762-df28-3e79b758bfcc"
      },
      "source": [
        "# day1 answer 1\n",
        "for i in range(2,10):\n",
        "  for j in range(1,10):\n",
        "    print(\"%d x %d = %d\"%(i,j,i*j))"
      ],
      "execution_count": 15,
      "outputs": [
        {
          "output_type": "stream",
          "text": [
            "2 x 1 = 2\n",
            "2 x 2 = 4\n",
            "2 x 3 = 6\n",
            "2 x 4 = 8\n",
            "2 x 5 = 10\n",
            "2 x 6 = 12\n",
            "2 x 7 = 14\n",
            "2 x 8 = 16\n",
            "2 x 9 = 18\n",
            "3 x 1 = 3\n",
            "3 x 2 = 6\n",
            "3 x 3 = 9\n",
            "3 x 4 = 12\n",
            "3 x 5 = 15\n",
            "3 x 6 = 18\n",
            "3 x 7 = 21\n",
            "3 x 8 = 24\n",
            "3 x 9 = 27\n",
            "4 x 1 = 4\n",
            "4 x 2 = 8\n",
            "4 x 3 = 12\n",
            "4 x 4 = 16\n",
            "4 x 5 = 20\n",
            "4 x 6 = 24\n",
            "4 x 7 = 28\n",
            "4 x 8 = 32\n",
            "4 x 9 = 36\n",
            "5 x 1 = 5\n",
            "5 x 2 = 10\n",
            "5 x 3 = 15\n",
            "5 x 4 = 20\n",
            "5 x 5 = 25\n",
            "5 x 6 = 30\n",
            "5 x 7 = 35\n",
            "5 x 8 = 40\n",
            "5 x 9 = 45\n",
            "6 x 1 = 6\n",
            "6 x 2 = 12\n",
            "6 x 3 = 18\n",
            "6 x 4 = 24\n",
            "6 x 5 = 30\n",
            "6 x 6 = 36\n",
            "6 x 7 = 42\n",
            "6 x 8 = 48\n",
            "6 x 9 = 54\n",
            "7 x 1 = 7\n",
            "7 x 2 = 14\n",
            "7 x 3 = 21\n",
            "7 x 4 = 28\n",
            "7 x 5 = 35\n",
            "7 x 6 = 42\n",
            "7 x 7 = 49\n",
            "7 x 8 = 56\n",
            "7 x 9 = 63\n",
            "8 x 1 = 8\n",
            "8 x 2 = 16\n",
            "8 x 3 = 24\n",
            "8 x 4 = 32\n",
            "8 x 5 = 40\n",
            "8 x 6 = 48\n",
            "8 x 7 = 56\n",
            "8 x 8 = 64\n",
            "8 x 9 = 72\n",
            "9 x 1 = 9\n",
            "9 x 2 = 18\n",
            "9 x 3 = 27\n",
            "9 x 4 = 36\n",
            "9 x 5 = 45\n",
            "9 x 6 = 54\n",
            "9 x 7 = 63\n",
            "9 x 8 = 72\n",
            "9 x 9 = 81\n"
          ],
          "name": "stdout"
        }
      ]
    },
    {
      "cell_type": "code",
      "metadata": {
        "id": "ajtpQgaDAu-S",
        "colab_type": "code",
        "colab": {
          "base_uri": "https://localhost:8080/",
          "height": 119
        },
        "outputId": "9c3a1a13-7540-4786-e55b-1b1f6f776c78"
      },
      "source": [
        "# day1 answer 2\n",
        "myList = [\"apple\",\"airplane\",\"artificial\",\"banana\",\"bath\",\"book\",\"carrot\",\"cake\",\"cookie\"]\n",
        "\n",
        "for word in myList:\n",
        "  if word.startswith(\"a\") or word.startswith(\"b\"):\n",
        "    print(word.upper())"
      ],
      "execution_count": 12,
      "outputs": [
        {
          "output_type": "stream",
          "text": [
            "APPLE\n",
            "AIRPLANE\n",
            "ARTIFICIAL\n",
            "BANANA\n",
            "BATH\n",
            "BOOK\n"
          ],
          "name": "stdout"
        }
      ]
    },
    {
      "cell_type": "code",
      "metadata": {
        "id": "sG64OnwqCJiC",
        "colab_type": "code",
        "colab": {
          "base_uri": "https://localhost:8080/",
          "height": 54
        },
        "outputId": "7841392e-f8f6-44d9-8149-b7e3064318df"
      },
      "source": [
        "# day1 answer 3\n",
        "def decrypt_Caesar(string):\n",
        "    for char in string:\n",
        "        if ord(char) >= ord('a') and ord(char)<=ord('z'): \n",
        "            if ord(char)==ord('y'):\n",
        "                print(\"a\",end=\"\")\n",
        "            elif ord(char)==ord('z'):\n",
        "                print(\"b\",end=\"\")\n",
        "                \n",
        "            else :\n",
        "                print(chr(ord(char)+2),end=\"\")\n",
        "        else :\n",
        "            print(char,end=\"\")\n",
        "\n",
        "if __name__ == \"__main__\":\n",
        "    string = \"g fmnc wms bgblr rpylqjyrc gr zw fylb. rfyrq ufyr amknsrcpq ypc dmp. bmgle gr gl zw fylb gq glcddgagclr ylb rfyr'q ufw rfgq rcvr gq qm jmle. sqgle qrpgle.kyicrpylq() gq pcamkkclbcb. lmu ynnjw ml rfc spj.\"\n",
        "    decrypt_Caesar(string)"
      ],
      "execution_count": 13,
      "outputs": [
        {
          "output_type": "stream",
          "text": [
            "i hope you didnt translate it by hand. thats what computers are for. doing it in by hand is inefficient and that's why this text is so long. using string.maketrans() is recommended. now apply on the url."
          ],
          "name": "stdout"
        }
      ]
    },
    {
      "cell_type": "code",
      "metadata": {
        "id": "gMSr5JCwCOKn",
        "colab_type": "code",
        "colab": {
          "base_uri": "https://localhost:8080/",
          "height": 85
        },
        "outputId": "a0d7ba1a-b16f-464d-ef1c-3c2252a2a01b"
      },
      "source": [
        "# day1 answer 4\n",
        "\n",
        "class insurance:\n",
        "  def __init__(self,company,name,cat):\n",
        "    self.company = company\n",
        "    self.name = name\n",
        "    self.cat = cat\n",
        "\n",
        "\n",
        "class Market:\n",
        "  prod_list = []\n",
        "\n",
        "  def appendList(self,insurance):\n",
        "    self.prod_list.append(insurance)\n",
        "\n",
        "  def removeList(self,name):\n",
        "    for each in self.prod_list:\n",
        "      if each.name == name:\n",
        "        self.prod_list.remove(each)\n",
        "\n",
        "  def showList(self):\n",
        "    for each in self.prod_list:\n",
        "      print(\"회사:\",each.company,\"보험명:\",each.name,\"분류:\", each.cat)\n",
        "\n",
        "ins1 = insurance(\"동부손해보험\",\"프로미운전자보험\",\"운전\")\n",
        "ins2 = insurance(\"동부손해보험\",\"상해보험\",\"상해\")\n",
        "\n",
        "myMarket = Market()\n",
        "myMarket.appendList(ins1)\n",
        "myMarket.showList()\n",
        "myMarket.appendList(ins2)\n",
        "myMarket.showList()\n",
        "myMarket.removeList(\"상해보험\")\n",
        "myMarket.showList()"
      ],
      "execution_count": 20,
      "outputs": [
        {
          "output_type": "stream",
          "text": [
            "회사: 동부손해보험 보험명: 프로미운전자보험 분류: 운전\n",
            "회사: 동부손해보험 보험명: 프로미운전자보험 분류: 운전\n",
            "회사: 동부손해보험 보험명: 상해보험 분류: 상해\n",
            "회사: 동부손해보험 보험명: 프로미운전자보험 분류: 운전\n"
          ],
          "name": "stdout"
        }
      ]
    },
    {
      "cell_type": "code",
      "metadata": {
        "id": "VbJl6cTG-c1r",
        "colab_type": "code",
        "colab": {
          "base_uri": "https://localhost:8080/",
          "height": 122
        },
        "outputId": "d911891b-67d1-4478-b08f-37fa5680aa73"
      },
      "source": [
        "# day1 answer 5\n",
        "\n",
        "import requests\n",
        "params = {\"type\":\"meat-and-filler\"}\n",
        "url = \"https://baconipsum.com/api/\"\n",
        "\n",
        "res = requests.get(url,params=params)\n",
        "for each_line in res.json():\n",
        "  print(each_line)"
      ],
      "execution_count": 9,
      "outputs": [
        {
          "output_type": "stream",
          "text": [
            "Ribeye t-bone turkey mollit occaecat bresaola tenderloin.  Proident picanha sirloin ut commodo sunt ea pork sausage.  Ball tip do pork loin ad ut in.  Tri-tip ullamco proident, elit reprehenderit kevin enim.\n",
            "Voluptate jerky magna, alcatra culpa aute buffalo do duis chicken.  Andouille non pariatur burgdoggen ipsum biltong bresaola filet mignon shankle lorem occaecat tongue ut.  Pastrami sunt turkey jerky incididunt corned beef.  Tenderloin jerky porchetta do.  Aute meatloaf venison eu cillum picanha swine shoulder ullamco tail.  Pancetta nisi capicola chislic bacon shank, shankle tongue dolor aliquip drumstick rump ea.\n",
            "Sirloin kevin shankle, doner irure elit ham rump capicola laboris biltong porchetta sed tri-tip.  Chislic velit eiusmod, jowl ipsum cupim fugiat bacon eu.  Exercitation sed dolore chicken shank incididunt.  Sint shankle tail, aliquip alcatra cillum dolor swine ut buffalo eu reprehenderit.  Culpa frankfurter swine voluptate.  Pork chop eiusmod turkey kielbasa chuck ad consectetur pork loin biltong qui ham short ribs strip steak.\n",
            "Ground round ball tip lorem officia et nisi velit, tenderloin sed shank frankfurter ham meatloaf cupim.  Filet mignon enim ground round quis, consectetur nulla pork belly prosciutto pork sed sausage.  Turkey pork chop dolore short loin frankfurter.  Shoulder jerky tongue, ut pariatur picanha excepteur proident andouille.  Tongue pig commodo jerky biltong laborum, jowl chuck corned beef labore andouille salami cupidatat ut cillum.  Tenderloin officia jerky prosciutto pancetta landjaeger tri-tip chicken burgdoggen esse voluptate turkey cupidatat turducken.  Anim beef swine nisi elit pariatur veniam meatloaf.\n",
            "Salami aliquip tenderloin spare ribs proident leberkas tongue short ribs ex fugiat.  Consectetur in brisket velit, nulla cow ea exercitation.  Elit quis nostrud id in aliquip turkey, ham hock jowl dolore aliqua lorem magna mollit.  Turkey biltong spare ribs ipsum, eu capicola jowl.  Non mollit rump, fatback beef sirloin in alcatra reprehenderit eiusmod leberkas ball tip.\n"
          ],
          "name": "stdout"
        }
      ]
    },
    {
      "cell_type": "code",
      "metadata": {
        "id": "wrH0XumBAEEo",
        "colab_type": "code",
        "colab": {
          "base_uri": "https://localhost:8080/",
          "height": 1000
        },
        "outputId": "d17c5c29-2352-4205-a80b-3132f28e3625"
      },
      "source": [
        "# day1 answer 6\n",
        "\n",
        "import requests\n",
        "\n",
        "params = {\"nothing\":63579}\n",
        "url = \"http://www.pythonchallenge.com/pc/def/linkedlist.php\"\n",
        "\n",
        "while True:\n",
        "  res = requests.get(url,params=params)\n",
        "  params[\"nothing\"] = res.text[24:]\n",
        "  print(res.text)\n"
      ],
      "execution_count": 32,
      "outputs": [
        {
          "output_type": "stream",
          "text": [
            "and the next nothing is 37278\n",
            "and the next nothing is 53548\n",
            "and the next nothing is 66081\n",
            "and the next nothing is 67753\n",
            "and the next nothing is 56337\n",
            "and the next nothing is 3356\n",
            "and the next nothing is 94525\n",
            "and the next nothing is 89574\n",
            "and the next nothing is 4413\n",
            "and the next nothing is 82294\n",
            "and the next nothing is 56060\n",
            "and the next nothing is 95493\n",
            "and the next nothing is 80865\n",
            "and the next nothing is 66242\n",
            "and the next nothing is 16065\n",
            "and the next nothing is 62145\n",
            "and the next nothing is 23147\n",
            "and the next nothing is 83763\n",
            "and the next nothing is 62381\n",
            "and the next nothing is 76841\n",
            "and the next nothing is 91706\n",
            "and the next nothing is 9268\n",
            "and the next nothing is 64814\n",
            "and the next nothing is 80809\n",
            "and the next nothing is 14039\n",
            "and the next nothing is 73355\n",
            "and the next nothing is 81905\n",
            "and the next nothing is 36402\n",
            "and the next nothing is 27221\n",
            "and the next nothing is 79607\n",
            "and the next nothing is 91763\n",
            "and the next nothing is 11631\n",
            "and the next nothing is 76396\n",
            "and the next nothing is 69905\n",
            "and the next nothing is 11073\n",
            "and the next nothing is 71281\n",
            "and the next nothing is 54345\n",
            "and the next nothing is 19047\n",
            "and the next nothing is 34376\n",
            "and the next nothing is 3193\n",
            "and the next nothing is 74258\n",
            "and the next nothing is 62712\n",
            "and the next nothing is 1823\n",
            "and the next nothing is 21232\n",
            "and the next nothing is 87890\n",
            "and the next nothing is 21545\n",
            "and the next nothing is 37136\n",
            "and the next nothing is 23060\n",
            "and the next nothing is 5385\n",
            "and the next nothing is 4620\n",
            "and the next nothing is 39111\n",
            "and the next nothing is 35914\n",
            "and the next nothing is 60310\n",
            "and the next nothing is 19178\n",
            "and the next nothing is 44671\n",
            "and the next nothing is 45736\n",
            "and the next nothing is 9216\n",
            "and the next nothing is 12585\n",
            "and the next nothing is 11302\n",
            "and the next nothing is 33096\n",
            "and the next nothing is 13967\n",
            "and the next nothing is 57004\n",
            "and the next nothing is 64196\n",
            "and the next nothing is 73929\n",
            "and the next nothing is 24800\n",
            "and the next nothing is 25081\n",
            "and the next nothing is 90033\n",
            "and the next nothing is 45919\n",
            "and the next nothing is 54827\n",
            "and the next nothing is 73950\n",
            "and the next nothing is 56978\n",
            "and the next nothing is 8133\n",
            "and the next nothing is 61900\n",
            "and the next nothing is 47769\n",
            "and the next nothing is 631\n",
            "and the next nothing is 2284\n",
            "and the next nothing is 60074\n",
            "and the next nothing is 35959\n",
            "and the next nothing is 57158\n",
            "and the next nothing is 90990\n",
            "and the next nothing is 27935\n",
            "and the next nothing is 99927\n",
            "and the next nothing is 41785\n",
            "and the next nothing is 32660\n",
            "and the next nothing is 4328\n",
            "and the next nothing is 42067\n",
            "and the next nothing is 8743\n",
            "and the next nothing is 38613\n",
            "and the next nothing is 21100\n",
            "and the next nothing is 77864\n",
            "and the next nothing is 6523\n",
            "and the next nothing is 6927\n",
            "and the next nothing is 82930\n",
            "and the next nothing is 35846\n",
            "and the next nothing is 31785\n",
            "and the next nothing is 41846\n",
            "and the next nothing is 72387\n",
            "and the next nothing is 59334\n",
            "and the next nothing is 65520\n",
            "and the next nothing is 93781\n",
            "and the next nothing is 55840\n",
            "and the next nothing is 80842\n",
            "and the next nothing is 59022\n",
            "and the next nothing is 23298\n",
            "and the next nothing is 27709\n",
            "and the next nothing is 96791\n",
            "and the next nothing is 75635\n",
            "and the next nothing is 52899\n",
            "and the next nothing is 66831\n",
            "peak.html\n",
            "and the next nothing is 72758\n",
            "and the next nothing is 71301\n",
            "and the next nothing is 55577\n",
            "and the next nothing is 88786\n",
            "and the next nothing is 32293\n",
            "and the next nothing is 87798\n",
            "and the next nothing is 24838\n",
            "and the next nothing is 66137\n",
            "and the next nothing is 88016\n",
            "and the next nothing is 36876\n",
            "and the next nothing is 33179\n",
            "and the next nothing is 90231\n",
            "and the next nothing is 17825\n",
            "and the next nothing is 84361\n",
            "and the next nothing is 99222\n",
            "and the next nothing is 87348\n",
            "and the next nothing is 47100\n",
            "and the next nothing is 90650\n",
            "and the next nothing is 84369\n",
            "and the next nothing is 36116\n",
            "and the next nothing is 96544\n",
            "and the next nothing is 62892\n",
            "and the next nothing is 43790\n",
            "and the next nothing is 67652\n",
            "and the next nothing is 32839\n",
            "and the next nothing is 5353\n",
            "and the next nothing is 63153\n",
            "and the next nothing is 48029\n",
            "and the next nothing is 84141\n",
            "and the next nothing is 14662\n",
            "and the next nothing is 78566\n",
            "and the next nothing is 18131\n",
            "and the next nothing is 710\n",
            "and the next nothing is 67500\n",
            "and the next nothing is 34992\n",
            "and the next nothing is 64568\n",
            "and the next nothing is 8155\n",
            "and the next nothing is 30579\n",
            "and the next nothing is 11629\n",
            "and the next nothing is 32490\n",
            "and the next nothing is 47936\n",
            "and the next nothing is 51350\n",
            "and the next nothing is 51877\n",
            "and the next nothing is 38270\n"
          ],
          "name": "stdout"
        },
        {
          "output_type": "error",
          "ename": "KeyboardInterrupt",
          "evalue": "ignored",
          "traceback": [
            "\u001b[0;31m---------------------------------------------------------------------------\u001b[0m",
            "\u001b[0;31mTypeError\u001b[0m                                 Traceback (most recent call last)",
            "\u001b[0;32m/usr/local/lib/python3.6/dist-packages/urllib3/connectionpool.py\u001b[0m in \u001b[0;36m_make_request\u001b[0;34m(self, conn, method, url, timeout, chunked, **httplib_request_kw)\u001b[0m\n\u001b[1;32m    376\u001b[0m             \u001b[0;32mtry\u001b[0m\u001b[0;34m:\u001b[0m  \u001b[0;31m# Python 2.7, use buffering of HTTP responses\u001b[0m\u001b[0;34m\u001b[0m\u001b[0;34m\u001b[0m\u001b[0m\n\u001b[0;32m--> 377\u001b[0;31m                 \u001b[0mhttplib_response\u001b[0m \u001b[0;34m=\u001b[0m \u001b[0mconn\u001b[0m\u001b[0;34m.\u001b[0m\u001b[0mgetresponse\u001b[0m\u001b[0;34m(\u001b[0m\u001b[0mbuffering\u001b[0m\u001b[0;34m=\u001b[0m\u001b[0;32mTrue\u001b[0m\u001b[0;34m)\u001b[0m\u001b[0;34m\u001b[0m\u001b[0;34m\u001b[0m\u001b[0m\n\u001b[0m\u001b[1;32m    378\u001b[0m             \u001b[0;32mexcept\u001b[0m \u001b[0mTypeError\u001b[0m\u001b[0;34m:\u001b[0m  \u001b[0;31m# Python 3\u001b[0m\u001b[0;34m\u001b[0m\u001b[0;34m\u001b[0m\u001b[0m\n",
            "\u001b[0;31mTypeError\u001b[0m: getresponse() got an unexpected keyword argument 'buffering'",
            "\nDuring handling of the above exception, another exception occurred:\n",
            "\u001b[0;31mKeyboardInterrupt\u001b[0m                         Traceback (most recent call last)",
            "\u001b[0;32m<ipython-input-32-a719d5451551>\u001b[0m in \u001b[0;36m<module>\u001b[0;34m()\u001b[0m\n\u001b[1;32m      6\u001b[0m \u001b[0;34m\u001b[0m\u001b[0m\n\u001b[1;32m      7\u001b[0m \u001b[0;32mwhile\u001b[0m \u001b[0;32mTrue\u001b[0m\u001b[0;34m:\u001b[0m\u001b[0;34m\u001b[0m\u001b[0;34m\u001b[0m\u001b[0m\n\u001b[0;32m----> 8\u001b[0;31m   \u001b[0mres\u001b[0m \u001b[0;34m=\u001b[0m \u001b[0mrequests\u001b[0m\u001b[0;34m.\u001b[0m\u001b[0mget\u001b[0m\u001b[0;34m(\u001b[0m\u001b[0murl\u001b[0m\u001b[0;34m,\u001b[0m\u001b[0mparams\u001b[0m\u001b[0;34m=\u001b[0m\u001b[0mparams\u001b[0m\u001b[0;34m)\u001b[0m\u001b[0;34m\u001b[0m\u001b[0;34m\u001b[0m\u001b[0m\n\u001b[0m\u001b[1;32m      9\u001b[0m   \u001b[0mparams\u001b[0m\u001b[0;34m[\u001b[0m\u001b[0;34m\"nothing\"\u001b[0m\u001b[0;34m]\u001b[0m \u001b[0;34m=\u001b[0m \u001b[0mres\u001b[0m\u001b[0;34m.\u001b[0m\u001b[0mtext\u001b[0m\u001b[0;34m[\u001b[0m\u001b[0;36m24\u001b[0m\u001b[0;34m:\u001b[0m\u001b[0;34m]\u001b[0m\u001b[0;34m\u001b[0m\u001b[0;34m\u001b[0m\u001b[0m\n\u001b[1;32m     10\u001b[0m   \u001b[0mprint\u001b[0m\u001b[0;34m(\u001b[0m\u001b[0mres\u001b[0m\u001b[0;34m.\u001b[0m\u001b[0mtext\u001b[0m\u001b[0;34m)\u001b[0m\u001b[0;34m\u001b[0m\u001b[0;34m\u001b[0m\u001b[0m\n",
            "\u001b[0;32m/usr/local/lib/python3.6/dist-packages/requests/api.py\u001b[0m in \u001b[0;36mget\u001b[0;34m(url, params, **kwargs)\u001b[0m\n\u001b[1;32m     74\u001b[0m \u001b[0;34m\u001b[0m\u001b[0m\n\u001b[1;32m     75\u001b[0m     \u001b[0mkwargs\u001b[0m\u001b[0;34m.\u001b[0m\u001b[0msetdefault\u001b[0m\u001b[0;34m(\u001b[0m\u001b[0;34m'allow_redirects'\u001b[0m\u001b[0;34m,\u001b[0m \u001b[0;32mTrue\u001b[0m\u001b[0;34m)\u001b[0m\u001b[0;34m\u001b[0m\u001b[0;34m\u001b[0m\u001b[0m\n\u001b[0;32m---> 76\u001b[0;31m     \u001b[0;32mreturn\u001b[0m \u001b[0mrequest\u001b[0m\u001b[0;34m(\u001b[0m\u001b[0;34m'get'\u001b[0m\u001b[0;34m,\u001b[0m \u001b[0murl\u001b[0m\u001b[0;34m,\u001b[0m \u001b[0mparams\u001b[0m\u001b[0;34m=\u001b[0m\u001b[0mparams\u001b[0m\u001b[0;34m,\u001b[0m \u001b[0;34m**\u001b[0m\u001b[0mkwargs\u001b[0m\u001b[0;34m)\u001b[0m\u001b[0;34m\u001b[0m\u001b[0;34m\u001b[0m\u001b[0m\n\u001b[0m\u001b[1;32m     77\u001b[0m \u001b[0;34m\u001b[0m\u001b[0m\n\u001b[1;32m     78\u001b[0m \u001b[0;34m\u001b[0m\u001b[0m\n",
            "\u001b[0;32m/usr/local/lib/python3.6/dist-packages/requests/api.py\u001b[0m in \u001b[0;36mrequest\u001b[0;34m(method, url, **kwargs)\u001b[0m\n\u001b[1;32m     59\u001b[0m     \u001b[0;31m# cases, and look like a memory leak in others.\u001b[0m\u001b[0;34m\u001b[0m\u001b[0;34m\u001b[0m\u001b[0;34m\u001b[0m\u001b[0m\n\u001b[1;32m     60\u001b[0m     \u001b[0;32mwith\u001b[0m \u001b[0msessions\u001b[0m\u001b[0;34m.\u001b[0m\u001b[0mSession\u001b[0m\u001b[0;34m(\u001b[0m\u001b[0;34m)\u001b[0m \u001b[0;32mas\u001b[0m \u001b[0msession\u001b[0m\u001b[0;34m:\u001b[0m\u001b[0;34m\u001b[0m\u001b[0;34m\u001b[0m\u001b[0m\n\u001b[0;32m---> 61\u001b[0;31m         \u001b[0;32mreturn\u001b[0m \u001b[0msession\u001b[0m\u001b[0;34m.\u001b[0m\u001b[0mrequest\u001b[0m\u001b[0;34m(\u001b[0m\u001b[0mmethod\u001b[0m\u001b[0;34m=\u001b[0m\u001b[0mmethod\u001b[0m\u001b[0;34m,\u001b[0m \u001b[0murl\u001b[0m\u001b[0;34m=\u001b[0m\u001b[0murl\u001b[0m\u001b[0;34m,\u001b[0m \u001b[0;34m**\u001b[0m\u001b[0mkwargs\u001b[0m\u001b[0;34m)\u001b[0m\u001b[0;34m\u001b[0m\u001b[0;34m\u001b[0m\u001b[0m\n\u001b[0m\u001b[1;32m     62\u001b[0m \u001b[0;34m\u001b[0m\u001b[0m\n\u001b[1;32m     63\u001b[0m \u001b[0;34m\u001b[0m\u001b[0m\n",
            "\u001b[0;32m/usr/local/lib/python3.6/dist-packages/requests/sessions.py\u001b[0m in \u001b[0;36mrequest\u001b[0;34m(self, method, url, params, data, headers, cookies, files, auth, timeout, allow_redirects, proxies, hooks, stream, verify, cert, json)\u001b[0m\n\u001b[1;32m    528\u001b[0m         }\n\u001b[1;32m    529\u001b[0m         \u001b[0msend_kwargs\u001b[0m\u001b[0;34m.\u001b[0m\u001b[0mupdate\u001b[0m\u001b[0;34m(\u001b[0m\u001b[0msettings\u001b[0m\u001b[0;34m)\u001b[0m\u001b[0;34m\u001b[0m\u001b[0;34m\u001b[0m\u001b[0m\n\u001b[0;32m--> 530\u001b[0;31m         \u001b[0mresp\u001b[0m \u001b[0;34m=\u001b[0m \u001b[0mself\u001b[0m\u001b[0;34m.\u001b[0m\u001b[0msend\u001b[0m\u001b[0;34m(\u001b[0m\u001b[0mprep\u001b[0m\u001b[0;34m,\u001b[0m \u001b[0;34m**\u001b[0m\u001b[0msend_kwargs\u001b[0m\u001b[0;34m)\u001b[0m\u001b[0;34m\u001b[0m\u001b[0;34m\u001b[0m\u001b[0m\n\u001b[0m\u001b[1;32m    531\u001b[0m \u001b[0;34m\u001b[0m\u001b[0m\n\u001b[1;32m    532\u001b[0m         \u001b[0;32mreturn\u001b[0m \u001b[0mresp\u001b[0m\u001b[0;34m\u001b[0m\u001b[0;34m\u001b[0m\u001b[0m\n",
            "\u001b[0;32m/usr/local/lib/python3.6/dist-packages/requests/sessions.py\u001b[0m in \u001b[0;36msend\u001b[0;34m(self, request, **kwargs)\u001b[0m\n\u001b[1;32m    641\u001b[0m \u001b[0;34m\u001b[0m\u001b[0m\n\u001b[1;32m    642\u001b[0m         \u001b[0;31m# Send the request\u001b[0m\u001b[0;34m\u001b[0m\u001b[0;34m\u001b[0m\u001b[0;34m\u001b[0m\u001b[0m\n\u001b[0;32m--> 643\u001b[0;31m         \u001b[0mr\u001b[0m \u001b[0;34m=\u001b[0m \u001b[0madapter\u001b[0m\u001b[0;34m.\u001b[0m\u001b[0msend\u001b[0m\u001b[0;34m(\u001b[0m\u001b[0mrequest\u001b[0m\u001b[0;34m,\u001b[0m \u001b[0;34m**\u001b[0m\u001b[0mkwargs\u001b[0m\u001b[0;34m)\u001b[0m\u001b[0;34m\u001b[0m\u001b[0;34m\u001b[0m\u001b[0m\n\u001b[0m\u001b[1;32m    644\u001b[0m \u001b[0;34m\u001b[0m\u001b[0m\n\u001b[1;32m    645\u001b[0m         \u001b[0;31m# Total elapsed time of the request (approximately)\u001b[0m\u001b[0;34m\u001b[0m\u001b[0;34m\u001b[0m\u001b[0;34m\u001b[0m\u001b[0m\n",
            "\u001b[0;32m/usr/local/lib/python3.6/dist-packages/requests/adapters.py\u001b[0m in \u001b[0;36msend\u001b[0;34m(self, request, stream, timeout, verify, cert, proxies)\u001b[0m\n\u001b[1;32m    447\u001b[0m                     \u001b[0mdecode_content\u001b[0m\u001b[0;34m=\u001b[0m\u001b[0;32mFalse\u001b[0m\u001b[0;34m,\u001b[0m\u001b[0;34m\u001b[0m\u001b[0;34m\u001b[0m\u001b[0m\n\u001b[1;32m    448\u001b[0m                     \u001b[0mretries\u001b[0m\u001b[0;34m=\u001b[0m\u001b[0mself\u001b[0m\u001b[0;34m.\u001b[0m\u001b[0mmax_retries\u001b[0m\u001b[0;34m,\u001b[0m\u001b[0;34m\u001b[0m\u001b[0;34m\u001b[0m\u001b[0m\n\u001b[0;32m--> 449\u001b[0;31m                     \u001b[0mtimeout\u001b[0m\u001b[0;34m=\u001b[0m\u001b[0mtimeout\u001b[0m\u001b[0;34m\u001b[0m\u001b[0;34m\u001b[0m\u001b[0m\n\u001b[0m\u001b[1;32m    450\u001b[0m                 )\n\u001b[1;32m    451\u001b[0m \u001b[0;34m\u001b[0m\u001b[0m\n",
            "\u001b[0;32m/usr/local/lib/python3.6/dist-packages/urllib3/connectionpool.py\u001b[0m in \u001b[0;36murlopen\u001b[0;34m(self, method, url, body, headers, retries, redirect, assert_same_host, timeout, pool_timeout, release_conn, chunked, body_pos, **response_kw)\u001b[0m\n\u001b[1;32m    598\u001b[0m                                                   \u001b[0mtimeout\u001b[0m\u001b[0;34m=\u001b[0m\u001b[0mtimeout_obj\u001b[0m\u001b[0;34m,\u001b[0m\u001b[0;34m\u001b[0m\u001b[0;34m\u001b[0m\u001b[0m\n\u001b[1;32m    599\u001b[0m                                                   \u001b[0mbody\u001b[0m\u001b[0;34m=\u001b[0m\u001b[0mbody\u001b[0m\u001b[0;34m,\u001b[0m \u001b[0mheaders\u001b[0m\u001b[0;34m=\u001b[0m\u001b[0mheaders\u001b[0m\u001b[0;34m,\u001b[0m\u001b[0;34m\u001b[0m\u001b[0;34m\u001b[0m\u001b[0m\n\u001b[0;32m--> 600\u001b[0;31m                                                   chunked=chunked)\n\u001b[0m\u001b[1;32m    601\u001b[0m \u001b[0;34m\u001b[0m\u001b[0m\n\u001b[1;32m    602\u001b[0m             \u001b[0;31m# If we're going to release the connection in ``finally:``, then\u001b[0m\u001b[0;34m\u001b[0m\u001b[0;34m\u001b[0m\u001b[0;34m\u001b[0m\u001b[0m\n",
            "\u001b[0;32m/usr/local/lib/python3.6/dist-packages/urllib3/connectionpool.py\u001b[0m in \u001b[0;36m_make_request\u001b[0;34m(self, conn, method, url, timeout, chunked, **httplib_request_kw)\u001b[0m\n\u001b[1;32m    378\u001b[0m             \u001b[0;32mexcept\u001b[0m \u001b[0mTypeError\u001b[0m\u001b[0;34m:\u001b[0m  \u001b[0;31m# Python 3\u001b[0m\u001b[0;34m\u001b[0m\u001b[0;34m\u001b[0m\u001b[0m\n\u001b[1;32m    379\u001b[0m                 \u001b[0;32mtry\u001b[0m\u001b[0;34m:\u001b[0m\u001b[0;34m\u001b[0m\u001b[0;34m\u001b[0m\u001b[0m\n\u001b[0;32m--> 380\u001b[0;31m                     \u001b[0mhttplib_response\u001b[0m \u001b[0;34m=\u001b[0m \u001b[0mconn\u001b[0m\u001b[0;34m.\u001b[0m\u001b[0mgetresponse\u001b[0m\u001b[0;34m(\u001b[0m\u001b[0;34m)\u001b[0m\u001b[0;34m\u001b[0m\u001b[0;34m\u001b[0m\u001b[0m\n\u001b[0m\u001b[1;32m    381\u001b[0m                 \u001b[0;32mexcept\u001b[0m \u001b[0mException\u001b[0m \u001b[0;32mas\u001b[0m \u001b[0me\u001b[0m\u001b[0;34m:\u001b[0m\u001b[0;34m\u001b[0m\u001b[0;34m\u001b[0m\u001b[0m\n\u001b[1;32m    382\u001b[0m                     \u001b[0;31m# Remove the TypeError from the exception chain in Python 3;\u001b[0m\u001b[0;34m\u001b[0m\u001b[0;34m\u001b[0m\u001b[0;34m\u001b[0m\u001b[0m\n",
            "\u001b[0;32m/usr/lib/python3.6/http/client.py\u001b[0m in \u001b[0;36mgetresponse\u001b[0;34m(self)\u001b[0m\n\u001b[1;32m   1354\u001b[0m         \u001b[0;32mtry\u001b[0m\u001b[0;34m:\u001b[0m\u001b[0;34m\u001b[0m\u001b[0;34m\u001b[0m\u001b[0m\n\u001b[1;32m   1355\u001b[0m             \u001b[0;32mtry\u001b[0m\u001b[0;34m:\u001b[0m\u001b[0;34m\u001b[0m\u001b[0;34m\u001b[0m\u001b[0m\n\u001b[0;32m-> 1356\u001b[0;31m                 \u001b[0mresponse\u001b[0m\u001b[0;34m.\u001b[0m\u001b[0mbegin\u001b[0m\u001b[0;34m(\u001b[0m\u001b[0;34m)\u001b[0m\u001b[0;34m\u001b[0m\u001b[0;34m\u001b[0m\u001b[0m\n\u001b[0m\u001b[1;32m   1357\u001b[0m             \u001b[0;32mexcept\u001b[0m \u001b[0mConnectionError\u001b[0m\u001b[0;34m:\u001b[0m\u001b[0;34m\u001b[0m\u001b[0;34m\u001b[0m\u001b[0m\n\u001b[1;32m   1358\u001b[0m                 \u001b[0mself\u001b[0m\u001b[0;34m.\u001b[0m\u001b[0mclose\u001b[0m\u001b[0;34m(\u001b[0m\u001b[0;34m)\u001b[0m\u001b[0;34m\u001b[0m\u001b[0;34m\u001b[0m\u001b[0m\n",
            "\u001b[0;32m/usr/lib/python3.6/http/client.py\u001b[0m in \u001b[0;36mbegin\u001b[0;34m(self)\u001b[0m\n\u001b[1;32m    305\u001b[0m         \u001b[0;31m# read until we get a non-100 response\u001b[0m\u001b[0;34m\u001b[0m\u001b[0;34m\u001b[0m\u001b[0;34m\u001b[0m\u001b[0m\n\u001b[1;32m    306\u001b[0m         \u001b[0;32mwhile\u001b[0m \u001b[0;32mTrue\u001b[0m\u001b[0;34m:\u001b[0m\u001b[0;34m\u001b[0m\u001b[0;34m\u001b[0m\u001b[0m\n\u001b[0;32m--> 307\u001b[0;31m             \u001b[0mversion\u001b[0m\u001b[0;34m,\u001b[0m \u001b[0mstatus\u001b[0m\u001b[0;34m,\u001b[0m \u001b[0mreason\u001b[0m \u001b[0;34m=\u001b[0m \u001b[0mself\u001b[0m\u001b[0;34m.\u001b[0m\u001b[0m_read_status\u001b[0m\u001b[0;34m(\u001b[0m\u001b[0;34m)\u001b[0m\u001b[0;34m\u001b[0m\u001b[0;34m\u001b[0m\u001b[0m\n\u001b[0m\u001b[1;32m    308\u001b[0m             \u001b[0;32mif\u001b[0m \u001b[0mstatus\u001b[0m \u001b[0;34m!=\u001b[0m \u001b[0mCONTINUE\u001b[0m\u001b[0;34m:\u001b[0m\u001b[0;34m\u001b[0m\u001b[0;34m\u001b[0m\u001b[0m\n\u001b[1;32m    309\u001b[0m                 \u001b[0;32mbreak\u001b[0m\u001b[0;34m\u001b[0m\u001b[0;34m\u001b[0m\u001b[0m\n",
            "\u001b[0;32m/usr/lib/python3.6/http/client.py\u001b[0m in \u001b[0;36m_read_status\u001b[0;34m(self)\u001b[0m\n\u001b[1;32m    266\u001b[0m \u001b[0;34m\u001b[0m\u001b[0m\n\u001b[1;32m    267\u001b[0m     \u001b[0;32mdef\u001b[0m \u001b[0m_read_status\u001b[0m\u001b[0;34m(\u001b[0m\u001b[0mself\u001b[0m\u001b[0;34m)\u001b[0m\u001b[0;34m:\u001b[0m\u001b[0;34m\u001b[0m\u001b[0;34m\u001b[0m\u001b[0m\n\u001b[0;32m--> 268\u001b[0;31m         \u001b[0mline\u001b[0m \u001b[0;34m=\u001b[0m \u001b[0mstr\u001b[0m\u001b[0;34m(\u001b[0m\u001b[0mself\u001b[0m\u001b[0;34m.\u001b[0m\u001b[0mfp\u001b[0m\u001b[0;34m.\u001b[0m\u001b[0mreadline\u001b[0m\u001b[0;34m(\u001b[0m\u001b[0m_MAXLINE\u001b[0m \u001b[0;34m+\u001b[0m \u001b[0;36m1\u001b[0m\u001b[0;34m)\u001b[0m\u001b[0;34m,\u001b[0m \u001b[0;34m\"iso-8859-1\"\u001b[0m\u001b[0;34m)\u001b[0m\u001b[0;34m\u001b[0m\u001b[0;34m\u001b[0m\u001b[0m\n\u001b[0m\u001b[1;32m    269\u001b[0m         \u001b[0;32mif\u001b[0m \u001b[0mlen\u001b[0m\u001b[0;34m(\u001b[0m\u001b[0mline\u001b[0m\u001b[0;34m)\u001b[0m \u001b[0;34m>\u001b[0m \u001b[0m_MAXLINE\u001b[0m\u001b[0;34m:\u001b[0m\u001b[0;34m\u001b[0m\u001b[0;34m\u001b[0m\u001b[0m\n\u001b[1;32m    270\u001b[0m             \u001b[0;32mraise\u001b[0m \u001b[0mLineTooLong\u001b[0m\u001b[0;34m(\u001b[0m\u001b[0;34m\"status line\"\u001b[0m\u001b[0;34m)\u001b[0m\u001b[0;34m\u001b[0m\u001b[0;34m\u001b[0m\u001b[0m\n",
            "\u001b[0;32m/usr/lib/python3.6/socket.py\u001b[0m in \u001b[0;36mreadinto\u001b[0;34m(self, b)\u001b[0m\n\u001b[1;32m    584\u001b[0m         \u001b[0;32mwhile\u001b[0m \u001b[0;32mTrue\u001b[0m\u001b[0;34m:\u001b[0m\u001b[0;34m\u001b[0m\u001b[0;34m\u001b[0m\u001b[0m\n\u001b[1;32m    585\u001b[0m             \u001b[0;32mtry\u001b[0m\u001b[0;34m:\u001b[0m\u001b[0;34m\u001b[0m\u001b[0;34m\u001b[0m\u001b[0m\n\u001b[0;32m--> 586\u001b[0;31m                 \u001b[0;32mreturn\u001b[0m \u001b[0mself\u001b[0m\u001b[0;34m.\u001b[0m\u001b[0m_sock\u001b[0m\u001b[0;34m.\u001b[0m\u001b[0mrecv_into\u001b[0m\u001b[0;34m(\u001b[0m\u001b[0mb\u001b[0m\u001b[0;34m)\u001b[0m\u001b[0;34m\u001b[0m\u001b[0;34m\u001b[0m\u001b[0m\n\u001b[0m\u001b[1;32m    587\u001b[0m             \u001b[0;32mexcept\u001b[0m \u001b[0mtimeout\u001b[0m\u001b[0;34m:\u001b[0m\u001b[0;34m\u001b[0m\u001b[0;34m\u001b[0m\u001b[0m\n\u001b[1;32m    588\u001b[0m                 \u001b[0mself\u001b[0m\u001b[0;34m.\u001b[0m\u001b[0m_timeout_occurred\u001b[0m \u001b[0;34m=\u001b[0m \u001b[0;32mTrue\u001b[0m\u001b[0;34m\u001b[0m\u001b[0;34m\u001b[0m\u001b[0m\n",
            "\u001b[0;31mKeyboardInterrupt\u001b[0m: "
          ]
        }
      ]
    },
    {
      "cell_type": "code",
      "metadata": {
        "id": "HuHZd--Li7TB",
        "colab_type": "code",
        "colab": {
          "base_uri": "https://localhost:8080/",
          "height": 34
        },
        "outputId": "08b25ceb-e7d5-4a00-ca8b-d686ad4800ef"
      },
      "source": [
        "dict1 = {True:1,True:123,False:12}\n",
        "print(dict1[True])"
      ],
      "execution_count": 10,
      "outputs": [
        {
          "output_type": "stream",
          "text": [
            "123\n"
          ],
          "name": "stdout"
        }
      ]
    }
  ]
}